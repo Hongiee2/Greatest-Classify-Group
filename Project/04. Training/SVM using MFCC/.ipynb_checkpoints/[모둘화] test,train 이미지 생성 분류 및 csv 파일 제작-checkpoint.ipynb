{
 "cells": [
  {
   "cell_type": "code",
   "execution_count": 1,
   "metadata": {},
   "outputs": [],
   "source": [
    "import librosa\n",
    "import librosa.display\n",
    "import IPython.display\n",
    "import numpy as np\n",
    "import matplotlib.pyplot as plt\n",
    "import matplotlib as mpl\n",
    "import matplotlib.font_manager as fm\n",
    "import pandas as pd\n",
    "import csv\n"
   ]
  },
  {
   "cell_type": "code",
   "execution_count": null,
   "metadata": {},
   "outputs": [
    {
     "name": "stdout",
     "output_type": "stream",
     "text": [
      "[0]\n",
      "101_1b1_Al_sc_Meditron\n"
     ]
    }
   ],
   "source": [
    "filename = np.array(pd.read_csv('data/SC_file_name.csv'))\n",
    "answer = np.array(pd.read_csv('data/SC_answer.csv'))\n",
    "size_ = 2\n",
    "path = './test_train_image/'\n",
    "path_test='./test_train_image/test/'\n",
    "path_train='./test_train_image/train/'\n",
    "\n",
    "\n",
    "#0 넣고 빼고로 잘돌아가는지 검사-ok\n",
    "#step 0 은 101_1b1_Al_sc_Meditron을 기준으로 함\n",
    "test_list=[0,1,2,3]\n",
    "length=len(test_list)\n",
    "\n",
    "\n",
    "for step in range(3):\n",
    "    audio_path = 'data/wav/'+filename[step]\n",
    "    #print(audio_path[0])\n",
    "    y, sr = librosa.load(audio_path[0])\n",
    "    D = np.abs(librosa.stft(y))\n",
    "    librosa.display.specshow(librosa.amplitude_to_db(D, ref=np.max))\n",
    "    print(answer[step])\n",
    "    #plt.title(audio_path[0])\n",
    "    #plt.figure(figsize=(0.78*size_,0.78*size_)) #size 56x56\n",
    "    #plt.show()\n",
    "    \n",
    "    '''split the file name'''\n",
    "    tmp_name=str(audio_path[0])\n",
    "    tmp_name=tmp_name.split(\".\")\n",
    "    tmp_name=tmp_name[0]\n",
    "    tmp_name=tmp_name.split(\"/\")\n",
    "    print(tmp_name[2])\n",
    "    \n",
    "    if step in test_list:\n",
    "        #print(step)\n",
    "        if answer[step]==0:\n",
    "            #test&answer=0\n",
    "            plt.savefig(path_test+'test_0/'+''.join(tmp_name[2])+'.png')\n",
    "        else:\n",
    "            #test&answer=1\n",
    "            plt.savefig(path_test+'test_1/'+''.join(tmp_name[2])+'.png')\n",
    "    else:\n",
    "        if answer[step]==0:\n",
    "            #train&answer=0\n",
    "            plt.savefig(path_train+'train_0/'+''.join(tmp_name[2])+'.png')\n",
    "        else:\n",
    "            #train&answer=1\n",
    "            plt.savefig(path_train+'train_1/'+''.join(tmp_name[2])+'.png')    "
   ]
  },
  {
   "cell_type": "code",
   "execution_count": null,
   "metadata": {},
   "outputs": [],
   "source": [
    "'''[test]file_name.csv create'''\n",
    "with open('[test]file_name.csv','w',newline='') as f:\n",
    "    thewriter = csv.writer(f)\n",
    "    thewriter.writerow(['header'])\n",
    "    \n",
    "    #test_list length\n",
    "    for step in range(length):\n",
    "        tmp_name='data/wav/'+filename[test_list[step]]\n",
    "        tmp_name=str(tmp_name[0])\n",
    "        tmp_name=tmp_name.split(\".\")\n",
    "        tmp_name=tmp_name[0]\n",
    "        tmp_name=tmp_name.split(\"/\")\n",
    "        print(tmp_name[2])\n",
    "        thewriter.writerow([tmp_name[2]])\n",
    "        \n",
    "\n",
    "    '''[test]ans.csv create'''\n",
    "with open('[test]answer.csv','w',newline='') as f:\n",
    "    thewriter = csv.writer(f)\n",
    "    thewriter.writerow(['answer'])\n",
    "    \n",
    "    for step in range(length):\n",
    "        thewriter.writerow(answer[test_list[step]])\n",
    "\n"
   ]
  },
  {
   "cell_type": "code",
   "execution_count": null,
   "metadata": {},
   "outputs": [],
   "source": [
    "'''[train]file_name.csv create'''\n",
    "with open('[train]file_name.csv','w',newline='') as f:\n",
    "    thewriter = csv.writer(f)\n",
    "    thewriter.writerow(['header'])\n",
    "    \n",
    "    #전체개수로 range해야\n",
    "    for step in range(10):\n",
    "        if step in test_list:\n",
    "            continue\n",
    "        tmp_name='data/wav/'+filename[step]\n",
    "        tmp_name=str(tmp_name[0])\n",
    "        tmp_name=tmp_name.split(\".\")\n",
    "        tmp_name=tmp_name[0]\n",
    "        tmp_name=tmp_name.split(\"/\")\n",
    "        print(tmp_name[2])\n",
    "        thewriter.writerow([tmp_name[2]])\n",
    "        \n",
    "    '''[train]ans.csv create'''\n",
    "with open('[train]answer.csv','w',newline='') as f:\n",
    "    thewriter = csv.writer(f)\n",
    "    thewriter.writerow(['answer'])\n",
    "    \n",
    "    #전체개수로 range해야\n",
    "    for step in range(10):\n",
    "        if step in test_list:\n",
    "            continue\n",
    "        thewriter.writerow(answer[step])\n"
   ]
  }
 ],
 "metadata": {
  "kernelspec": {
   "display_name": "Python 3",
   "language": "python",
   "name": "python3"
  },
  "language_info": {
   "codemirror_mode": {
    "name": "ipython",
    "version": 3
   },
   "file_extension": ".py",
   "mimetype": "text/x-python",
   "name": "python",
   "nbconvert_exporter": "python",
   "pygments_lexer": "ipython3",
   "version": "3.7.1"
  }
 },
 "nbformat": 4,
 "nbformat_minor": 2
}
