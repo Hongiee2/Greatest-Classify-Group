{
 "cells": [
  {
   "cell_type": "code",
   "execution_count": 1,
   "metadata": {},
   "outputs": [],
   "source": [
    "import os\n",
    "import librosa\n",
    "import librosa.display\n",
    "import IPython.display\n",
    "import numpy as np\n",
    "import matplotlib.pyplot as plt\n",
    "import matplotlib as mpl\n",
    "import matplotlib.font_manager as fm\n",
    "import pandas as pd\n",
    "import csv\n",
    "\n",
    "import scipy\n",
    "from scipy.stats import skew\n",
    "from tqdm import tqdm, tqdm_pandas\n",
    "\n",
    "tqdm.pandas()\n",
    "\n",
    "from sklearn.model_selection import GridSearchCV\n",
    "from sklearn.model_selection import train_test_split\n",
    "from sklearn.metrics import accuracy_score\n",
    "from sklearn.preprocessing import StandardScaler\n",
    "from sklearn.decomposition import PCA\n",
    "\n",
    "from sklearn.svm import SVC"
   ]
  },
  {
   "cell_type": "code",
   "execution_count": null,
   "metadata": {},
   "outputs": [],
   "source": []
  },
  {
   "cell_type": "code",
   "execution_count": 2,
   "metadata": {},
   "outputs": [],
   "source": [
    "filename = np.array(pd.read_csv('data/SC_file_name.csv'))\n",
    "answer = np.array(pd.read_csv('data/SC_answer.csv'))\n",
    "size_ = 2\n",
    "#path = './data/wav/'\n",
    "path_test='./test_train_image/test/'\n",
    "path_train='./test_train_image/train/'\n",
    "\n",
    "train=pd.read_csv('./[test]file_name.csv')\n",
    "\n",
    "#0 넣고 빼고로 잘돌아가는지 검사-ok\n",
    "#step 0 은 101_1b1_Al_sc_Meditron을 기준으로 함\n",
    "test_list=[0,1,2,3]\n",
    "length=len(test_list)"
   ]
  },
  {
   "cell_type": "code",
   "execution_count": 3,
   "metadata": {},
   "outputs": [],
   "source": [
    "def get_mfcc(name, path):\n",
    "    #print(path)\n",
    "    #print(name)\n",
    "    #audio_path = 'data/wav/'+name\n",
    "    #print(audio_path)\n",
    "    data, _ = librosa.core.load(path+name+'.wav')\n",
    "    print(data,_)\n",
    "    #data, _ = librosa.load(path)\n",
    "    try:\n",
    "        #ft1 = librosa.feature.mfcc(data, sr = SAMPLE_RATE, n_mfcc=30)\n",
    "        ft1 = librosa.feature.mfcc(data, n_mfcc=30) #이게핵심 Sample_rate를 어떻게 조절하느냐\n",
    "        ft2 = librosa.feature.zero_crossing_rate(data)[0] # n_mfcc 값을 어떻게 조절하느냐에 따라 Feature개수가 달리 뽑힘\n",
    "        ft3 = librosa.feature.spectral_rolloff(data)[0]\n",
    "        ft4 = librosa.feature.spectral_centroid(data)[0]\n",
    "        ft5 = librosa.feature.spectral_contrast(data)[0]\n",
    "        ft6 = librosa.feature.spectral_bandwidth(data)[0]\n",
    "        ft1_trunc = np.hstack((np.mean(ft1, axis=1), np.std(ft1, axis=1), skew(ft1, axis = 1), np.max(ft1, axis = 1), np.median(ft1, axis = 1), np.min(ft1, axis = 1)))\n",
    "        ft2_trunc = np.hstack((np.mean(ft2), np.std(ft2), skew(ft2), np.max(ft2), np.median(ft2), np.min(ft2)))\n",
    "        ft3_trunc = np.hstack((np.mean(ft3), np.std(ft3), skew(ft3), np.max(ft3), np.median(ft3), np.min(ft3)))\n",
    "        ft4_trunc = np.hstack((np.mean(ft4), np.std(ft4), skew(ft4), np.max(ft4), np.median(ft4), np.min(ft4)))\n",
    "        ft5_trunc = np.hstack((np.mean(ft5), np.std(ft5), skew(ft5), np.max(ft5), np.median(ft5), np.min(ft5)))\n",
    "        ft6_trunc = np.hstack((np.mean(ft6), np.std(ft6), skew(ft6), np.max(ft6), np.median(ft6), np.max(ft6)))\n",
    "        return pd.Series(np.hstack((ft1_trunc, ft2_trunc, ft3_trunc, ft4_trunc, ft5_trunc, ft6_trunc)))\n",
    "    except:\n",
    "        print('bad file')\n",
    "        return pd.Series([0]*210)"
   ]
  },
  {
   "cell_type": "code",
   "execution_count": 4,
   "metadata": {
    "scrolled": false
   },
   "outputs": [
    {
     "name": "stderr",
     "output_type": "stream",
     "text": [
      "\r",
      "  0%|                                                                                            | 0/4 [00:00<?, ?it/s]"
     ]
    },
    {
     "name": "stdout",
     "output_type": "stream",
     "text": [
      "[0.06973912 0.10266001 0.09116188 ... 0.08305359 0.08018959 0.08612607] 22050\n"
     ]
    },
    {
     "name": "stderr",
     "output_type": "stream",
     "text": [
      "\r",
      " 50%|██████████████████████████████████████████                                          | 2/4 [00:02<00:02,  1.24s/it]"
     ]
    },
    {
     "name": "stdout",
     "output_type": "stream",
     "text": [
      "[-0.02710845 -0.03993477 -0.03530764 ... -0.04230448 -0.0414599\n",
      " -0.04527015] 22050\n"
     ]
    },
    {
     "name": "stderr",
     "output_type": "stream",
     "text": [
      "\r",
      " 75%|███████████████████████████████████████████████████████████████                     | 3/4 [00:03<00:01,  1.26s/it]"
     ]
    },
    {
     "name": "stdout",
     "output_type": "stream",
     "text": [
      "[ 0.00283427  0.00423394  0.0036414  ... -0.01369482 -0.01395124\n",
      " -0.01601286] 22050\n"
     ]
    },
    {
     "name": "stderr",
     "output_type": "stream",
     "text": [
      "\r",
      "100%|████████████████████████████████████████████████████████████████████████████████████| 4/4 [00:05<00:00,  1.26s/it]"
     ]
    },
    {
     "name": "stdout",
     "output_type": "stream",
     "text": [
      "[ 3.1871754e-05  6.1540527e-06 -3.7155998e-05 ... -1.4125325e-02\n",
      " -8.7606525e-03  0.0000000e+00] 22050\n"
     ]
    },
    {
     "name": "stderr",
     "output_type": "stream",
     "text": [
      "\n"
     ]
    },
    {
     "name": "stdout",
     "output_type": "stream",
     "text": [
      "result\n"
     ]
    }
   ],
   "source": [
    "for step in range(1):\n",
    "    train_dd = pd.DataFrame()\n",
    "    train_dd['fname'] = train['fname']\n",
    "    #print(train_dd)\n",
    "    \n",
    "    train_dd=train_dd['fname'].progress_apply(get_mfcc,path='./data/wav/')\n",
    "    print('result')\n",
    "    #result2=filename[step][0].progress_apply(result,'data/wav/')\n",
    "    \n",
    "    #librosa.display.specshow(result2)\n",
    "    #librosa.display.specshow(ft2)\n",
    "    #librosa.display.specshow(ft3)    \n",
    "\n",
    "    #plt.title(audio_path[0])\n",
    "    #plt.figure(figsize=(0.78*size_,0.78*size_)) #size 56x56\n",
    "    #plt.show()\n",
    "    \n",
    "    '''\n",
    "    if step in test_list:\n",
    "        #print(step)\n",
    "        if answer[step]==0:\n",
    "            #test&answer=0\n",
    "            plt.savefig(path_test+'test_0/'+''.join(tmp_name[2])+'.png')\n",
    "        else:\n",
    "            #test&answer=1\n",
    "            plt.savefig(path_test+'test_1/'+''.join(tmp_name[2])+'.png')\n",
    "    else:\n",
    "        if answer[step]==0:\n",
    "            #train&answer=0\n",
    "            plt.savefig(path_train+'train_0/'+''.join(tmp_name[2])+'.png')\n",
    "        else:\n",
    "            #train&answer=1\n",
    "            plt.savefig(path_train+'train_1/'+''.join(tmp_name[2])+'.png')   \n",
    "    '''"
   ]
  },
  {
   "cell_type": "code",
   "execution_count": 5,
   "metadata": {},
   "outputs": [
    {
     "data": {
      "text/html": [
       "<div>\n",
       "<style scoped>\n",
       "    .dataframe tbody tr th:only-of-type {\n",
       "        vertical-align: middle;\n",
       "    }\n",
       "\n",
       "    .dataframe tbody tr th {\n",
       "        vertical-align: top;\n",
       "    }\n",
       "\n",
       "    .dataframe thead th {\n",
       "        text-align: right;\n",
       "    }\n",
       "</style>\n",
       "<table border=\"1\" class=\"dataframe\">\n",
       "  <thead>\n",
       "    <tr style=\"text-align: right;\">\n",
       "      <th></th>\n",
       "      <th>0</th>\n",
       "      <th>1</th>\n",
       "      <th>2</th>\n",
       "      <th>3</th>\n",
       "      <th>4</th>\n",
       "      <th>5</th>\n",
       "      <th>6</th>\n",
       "      <th>7</th>\n",
       "      <th>8</th>\n",
       "      <th>9</th>\n",
       "      <th>...</th>\n",
       "      <th>202</th>\n",
       "      <th>203</th>\n",
       "      <th>204</th>\n",
       "      <th>205</th>\n",
       "      <th>206</th>\n",
       "      <th>207</th>\n",
       "      <th>208</th>\n",
       "      <th>209</th>\n",
       "      <th>fname</th>\n",
       "      <th>label</th>\n",
       "    </tr>\n",
       "  </thead>\n",
       "  <tbody>\n",
       "    <tr>\n",
       "      <th>0</th>\n",
       "      <td>-529.150714</td>\n",
       "      <td>104.431625</td>\n",
       "      <td>70.155029</td>\n",
       "      <td>42.595576</td>\n",
       "      <td>31.283187</td>\n",
       "      <td>27.506977</td>\n",
       "      <td>22.269213</td>\n",
       "      <td>16.563371</td>\n",
       "      <td>15.326892</td>\n",
       "      <td>16.716829</td>\n",
       "      <td>...</td>\n",
       "      <td>21.564437</td>\n",
       "      <td>9.528945</td>\n",
       "      <td>637.828765</td>\n",
       "      <td>196.478655</td>\n",
       "      <td>1.607248</td>\n",
       "      <td>2411.955645</td>\n",
       "      <td>615.640698</td>\n",
       "      <td>2411.955645</td>\n",
       "      <td>101_1b1_Al_sc_Meditron</td>\n",
       "      <td>0</td>\n",
       "    </tr>\n",
       "    <tr>\n",
       "      <th>1</th>\n",
       "      <td>-583.074734</td>\n",
       "      <td>95.407722</td>\n",
       "      <td>57.615403</td>\n",
       "      <td>31.388019</td>\n",
       "      <td>28.196551</td>\n",
       "      <td>33.571603</td>\n",
       "      <td>31.646767</td>\n",
       "      <td>22.791096</td>\n",
       "      <td>16.666687</td>\n",
       "      <td>15.631428</td>\n",
       "      <td>...</td>\n",
       "      <td>24.097667</td>\n",
       "      <td>10.911504</td>\n",
       "      <td>804.822850</td>\n",
       "      <td>168.890743</td>\n",
       "      <td>1.305739</td>\n",
       "      <td>2287.030091</td>\n",
       "      <td>786.653722</td>\n",
       "      <td>2287.030091</td>\n",
       "      <td>101_1b1_Pr_sc_Meditron</td>\n",
       "      <td>0</td>\n",
       "    </tr>\n",
       "    <tr>\n",
       "      <th>2</th>\n",
       "      <td>-596.955941</td>\n",
       "      <td>116.085412</td>\n",
       "      <td>60.695054</td>\n",
       "      <td>25.555994</td>\n",
       "      <td>26.209233</td>\n",
       "      <td>38.512355</td>\n",
       "      <td>36.051532</td>\n",
       "      <td>18.640725</td>\n",
       "      <td>3.533885</td>\n",
       "      <td>0.808338</td>\n",
       "      <td>...</td>\n",
       "      <td>21.736372</td>\n",
       "      <td>9.887285</td>\n",
       "      <td>858.287286</td>\n",
       "      <td>178.557817</td>\n",
       "      <td>0.694836</td>\n",
       "      <td>1552.025693</td>\n",
       "      <td>832.782581</td>\n",
       "      <td>1552.025693</td>\n",
       "      <td>102_1b1_Ar_sc_Meditron</td>\n",
       "      <td>1</td>\n",
       "    </tr>\n",
       "    <tr>\n",
       "      <th>3</th>\n",
       "      <td>-441.501217</td>\n",
       "      <td>100.973537</td>\n",
       "      <td>74.025115</td>\n",
       "      <td>43.224683</td>\n",
       "      <td>19.715090</td>\n",
       "      <td>7.853206</td>\n",
       "      <td>5.498144</td>\n",
       "      <td>8.017551</td>\n",
       "      <td>11.749791</td>\n",
       "      <td>14.897520</td>\n",
       "      <td>...</td>\n",
       "      <td>21.999469</td>\n",
       "      <td>8.849729</td>\n",
       "      <td>154.270866</td>\n",
       "      <td>80.775415</td>\n",
       "      <td>7.473920</td>\n",
       "      <td>1541.350121</td>\n",
       "      <td>149.358516</td>\n",
       "      <td>1541.350121</td>\n",
       "      <td>104_1b1_Al_sc_Litt3200</td>\n",
       "      <td>0</td>\n",
       "    </tr>\n",
       "  </tbody>\n",
       "</table>\n",
       "<p>4 rows × 212 columns</p>\n",
       "</div>"
      ],
      "text/plain": [
       "            0           1          2          3          4          5  \\\n",
       "0 -529.150714  104.431625  70.155029  42.595576  31.283187  27.506977   \n",
       "1 -583.074734   95.407722  57.615403  31.388019  28.196551  33.571603   \n",
       "2 -596.955941  116.085412  60.695054  25.555994  26.209233  38.512355   \n",
       "3 -441.501217  100.973537  74.025115  43.224683  19.715090   7.853206   \n",
       "\n",
       "           6          7          8          9  ...          202        203  \\\n",
       "0  22.269213  16.563371  15.326892  16.716829  ...    21.564437   9.528945   \n",
       "1  31.646767  22.791096  16.666687  15.631428  ...    24.097667  10.911504   \n",
       "2  36.051532  18.640725   3.533885   0.808338  ...    21.736372   9.887285   \n",
       "3   5.498144   8.017551  11.749791  14.897520  ...    21.999469   8.849729   \n",
       "\n",
       "          204         205       206          207         208          209  \\\n",
       "0  637.828765  196.478655  1.607248  2411.955645  615.640698  2411.955645   \n",
       "1  804.822850  168.890743  1.305739  2287.030091  786.653722  2287.030091   \n",
       "2  858.287286  178.557817  0.694836  1552.025693  832.782581  1552.025693   \n",
       "3  154.270866   80.775415  7.473920  1541.350121  149.358516  1541.350121   \n",
       "\n",
       "                    fname  label  \n",
       "0  101_1b1_Al_sc_Meditron      0  \n",
       "1  101_1b1_Pr_sc_Meditron      0  \n",
       "2  102_1b1_Ar_sc_Meditron      1  \n",
       "3  104_1b1_Al_sc_Litt3200      0  \n",
       "\n",
       "[4 rows x 212 columns]"
      ]
     },
     "execution_count": 5,
     "metadata": {},
     "output_type": "execute_result"
    }
   ],
   "source": [
    "train_dd['fname']=train['fname']\n",
    "train_dd['label']=train['label']\n",
    "\n",
    "train_dd.head()"
   ]
  },
  {
   "cell_type": "code",
   "execution_count": 6,
   "metadata": {},
   "outputs": [
    {
     "name": "stdout",
     "output_type": "stream",
     "text": [
      "[0, 1, 2, 3, 4, 5, 6, 7, 8, 9, 10, 11, 12, 13, 14, 15, 16, 17, 18, 19, 20, 21, 22, 23, 24, 25, 26, 27, 28, 29, 30, 31, 32, 33, 34, 35, 36, 37, 38, 39, 40, 41, 42, 43, 44, 45, 46, 47, 48, 49, 50, 51, 52, 53, 54, 55, 56, 57, 58, 59, 60, 61, 62, 63, 64, 65, 66, 67, 68, 69, 70, 71, 72, 73, 74, 75, 76, 77, 78, 79, 80, 81, 82, 83, 84, 85, 86, 87, 88, 89, 90, 91, 92, 93, 94, 95, 96, 97, 98, 99, 100, 101, 102, 103, 104, 105, 106, 107, 108, 109, 110, 111, 112, 113, 114, 115, 116, 117, 118, 119, 120, 121, 122, 123, 124, 125, 126, 127, 128, 129, 130, 131, 132, 133, 134, 135, 136, 137, 138, 139, 140, 141, 142, 143, 144, 145, 146, 147, 148, 149, 150, 151, 152, 153, 154, 155, 156, 157, 158, 159, 160, 161, 162, 163, 164, 165, 166, 167, 168, 169, 170, 171, 172, 173, 174, 175, 176, 177, 178, 179, 180, 181, 182, 183, 184, 185, 186, 187, 188, 189, 190, 191, 192, 193, 194, 195, 196, 197, 198, 199, 200, 201, 202, 203, 204, 205, 206, 207, 208, 209]\n"
     ]
    }
   ],
   "source": [
    "X = train_dd.drop(['label','fname'], axis=1)\n",
    "feature_names = list(X.columns)\n",
    "\n",
    "#1행의 label, fname만빼고 쭉 feature_names에 넣음\n",
    "print(feature_names)"
   ]
  },
  {
   "cell_type": "code",
   "execution_count": 7,
   "metadata": {},
   "outputs": [
    {
     "name": "stdout",
     "output_type": "stream",
     "text": [
      "[0 1]\n",
      "[0 0 1 0]\n"
     ]
    }
   ],
   "source": [
    "X=X.values\n",
    "#print(X)\n",
    "\n",
    "#라벨 겹치지 않게 오름차순으로 정렬\n",
    "labels = np.sort(np.unique(train_dd.label.values))\n",
    "print(labels)\n",
    "\n",
    "num_class=len(labels)\n",
    "\n",
    "c2i={}\n",
    "i2c={}\n",
    "\n",
    "for i, c in enumerate(labels):\n",
    "    c2i[c]=i\n",
    "    i2c[i]=c\n",
    "\n",
    "# csv파일에 있는 명들에 맞게 라벨링 정렬 [0,0,1,0]    \n",
    "y = np.array([c2i[x] for x in train_dd.label.values])\n",
    "#print(y)"
   ]
  },
  {
   "cell_type": "code",
   "execution_count": 9,
   "metadata": {},
   "outputs": [
    {
     "ename": "NameError",
     "evalue": "name 'test_data' is not defined",
     "output_type": "error",
     "traceback": [
      "\u001b[1;31m---------------------------------------------------------------------------\u001b[0m",
      "\u001b[1;31mNameError\u001b[0m                                 Traceback (most recent call last)",
      "\u001b[1;32m<ipython-input-9-8f34fa5a0c5d>\u001b[0m in \u001b[0;36m<module>\u001b[1;34m\u001b[0m\n\u001b[0;32m      1\u001b[0m \u001b[1;31m#테스트 데이터 불러와야함\u001b[0m\u001b[1;33m\u001b[0m\u001b[1;33m\u001b[0m\u001b[1;33m\u001b[0m\u001b[0m\n\u001b[1;32m----> 2\u001b[1;33m \u001b[0mX_test\u001b[0m \u001b[1;33m=\u001b[0m \u001b[0mtest_data\u001b[0m\u001b[1;33m.\u001b[0m\u001b[0mdrop\u001b[0m\u001b[1;33m(\u001b[0m\u001b[1;33m[\u001b[0m\u001b[1;34m'label'\u001b[0m\u001b[1;33m,\u001b[0m\u001b[1;34m'fname'\u001b[0m\u001b[1;33m]\u001b[0m\u001b[1;33m,\u001b[0m\u001b[0maxis\u001b[0m\u001b[1;33m=\u001b[0m\u001b[1;36m1\u001b[0m\u001b[1;33m)\u001b[0m\u001b[1;33m\u001b[0m\u001b[1;33m\u001b[0m\u001b[0m\n\u001b[0m\u001b[0;32m      3\u001b[0m \u001b[0mX_test\u001b[0m \u001b[1;33m=\u001b[0m \u001b[0mX_test\u001b[0m\u001b[1;33m.\u001b[0m\u001b[0mvalues\u001b[0m\u001b[1;33m\u001b[0m\u001b[1;33m\u001b[0m\u001b[0m\n\u001b[0;32m      4\u001b[0m \u001b[1;33m\u001b[0m\u001b[0m\n\u001b[0;32m      5\u001b[0m \u001b[0mprint\u001b[0m\u001b[1;33m(\u001b[0m\u001b[0mX\u001b[0m\u001b[1;33m.\u001b[0m\u001b[0mshape\u001b[0m\u001b[1;33m)\u001b[0m\u001b[1;33m\u001b[0m\u001b[1;33m\u001b[0m\u001b[0m\n",
      "\u001b[1;31mNameError\u001b[0m: name 'test_data' is not defined"
     ]
    }
   ],
   "source": [
    "#테스트 데이터 불러와야함 아직 엑셀파일 확인안함 할 것\n",
    "X_test = test_data.drop(['label','fname'],axis=1)\n",
    "X_test = X_test.values\n",
    "\n",
    "print(X.shape)\n",
    "print(X_test.shape)"
   ]
  },
  {
   "cell_type": "code",
   "execution_count": null,
   "metadata": {},
   "outputs": [],
   "source": []
  }
 ],
 "metadata": {
  "kernelspec": {
   "display_name": "Python 3",
   "language": "python",
   "name": "python3"
  },
  "language_info": {
   "codemirror_mode": {
    "name": "ipython",
    "version": 3
   },
   "file_extension": ".py",
   "mimetype": "text/x-python",
   "name": "python",
   "nbconvert_exporter": "python",
   "pygments_lexer": "ipython3",
   "version": "3.7.1"
  }
 },
 "nbformat": 4,
 "nbformat_minor": 2
}
