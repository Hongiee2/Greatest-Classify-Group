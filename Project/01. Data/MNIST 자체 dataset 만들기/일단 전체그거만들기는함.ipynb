{
 "cells": [
  {
   "cell_type": "code",
   "execution_count": 5,
   "metadata": {},
   "outputs": [
    {
     "data": {
      "image/png": "[encoded data removed]",
      "text/plain": [
       "<Figure size 432x288 with 1 Axes>"
      ]
     },
     "metadata": {
      "needs_background": "light"
     },
     "output_type": "display_data"
    },
    {
     "name": "stdout",
     "output_type": "stream",
     "text": [
      "(10,)\n",
      "read done\n"
     ]
    }
   ],
   "source": [
    "''' read mnist '''\n",
    "import numpy as np\n",
    "import sys\n",
    "import os\n",
    "from array import array\n",
    "\n",
    "from struct import *\n",
    "import matplotlib\n",
    "import matplotlib.pyplot as plt\n",
    "import matplotlib.cm as cm\n",
    "\n",
    "fp_image = open('train-images-idx3-ubyte','rb')        # read image file\n",
    "fp_label = open('train-labels-idx1-ubyte','rb')        # read label file\n",
    "\n",
    "\n",
    "img = np.zeros((28,28))                                # image resolution (28 x 28)\n",
    "\n",
    "lbl = [ [],[],[],[],[],[],[],[],[],[] ]\n",
    "d = 0\n",
    "l = 0\n",
    "index=0\n",
    "\n",
    "\n",
    "s = fp_image.read(16)\t#read first 16byte\n",
    "l = fp_label.read(8)\t#read first  8byte\n",
    "\n",
    "#print(s)\n",
    "#print(\"s_len:\",len(s))\n",
    "#print(l)\n",
    "#print(\"l_len:\",len(l))\n",
    "\n",
    "\"\"\"\n",
    "#single example - no loop\n",
    "s = fp_image.read(784)\n",
    "l = fp_label.read(1)\n",
    "print(\"number:\",int(l[0]))\n",
    "img = np.reshape( unpack(len(s)*'B',s), (28,28))\n",
    "\n",
    "#print(img)\n",
    "plt.imshow(img,cmap = cm.binary)\n",
    "plt.show()\n",
    "\"\"\"\n",
    "\n",
    "\n",
    "k=0\n",
    "#read mnist and show character\n",
    "while True:\t\n",
    "\ts = fp_image.read(784)\n",
    "\tl = fp_label.read(1)\n",
    "\n",
    "\tif not s:\n",
    "\t\tbreak;\n",
    "\tif not l:\n",
    "\t\tbreak;\n",
    "\n",
    "\tindex = int(l[0])\n",
    "\t#print(k,\":\",index)\n",
    "\t\n",
    "\t#no-loop\n",
    "\timg = np.reshape( unpack(len(s)*'B',s), (28,28))\n",
    "\n",
    "\t\"\"\"\t\n",
    "\t#loop\n",
    "\tfor i in range(0,28):\n",
    "\t\tfor j in range(0,28):\n",
    "\t\t\t#print(i,j)\n",
    "\t\t\td = s[(i*28)+j]\t\t\n",
    "\t\t\timg[i][j] = d\n",
    "\t\t\t#print('%02x'%(d),end=\"\")\n",
    "\t\"\"\"\t\n",
    "\n",
    "\tlbl[index].append(img)\n",
    "\t\t\n",
    "\tk=k+1\n",
    "#print(img)\n",
    "\n",
    "plt.imshow(img,cmap = cm.binary)\n",
    "plt.show()\n",
    "\n",
    "print(np.shape(lbl))\n",
    "\n",
    "print(\"read done\")\n"
   ]
  },
  {
   "cell_type": "code",
   "execution_count": 5,
   "metadata": {},
   "outputs": [
    {
     "ename": "IndexError",
     "evalue": "list index out of range",
     "output_type": "error",
     "traceback": [
      "\u001b[1;31m---------------------------------------------------------------------------\u001b[0m",
      "\u001b[1;31mIndexError\u001b[0m                                Traceback (most recent call last)",
      "\u001b[1;32m<ipython-input-5-0c93fcc77264>\u001b[0m in \u001b[0;36m<module>\u001b[1;34m\u001b[0m\n\u001b[0;32m     15\u001b[0m     \u001b[1;31m#unpack\u001b[0m\u001b[1;33m\u001b[0m\u001b[1;33m\u001b[0m\u001b[1;33m\u001b[0m\u001b[0m\n\u001b[0;32m     16\u001b[0m     \u001b[0mimg\u001b[0m \u001b[1;33m=\u001b[0m \u001b[0mnp\u001b[0m\u001b[1;33m.\u001b[0m\u001b[0mreshape\u001b[0m\u001b[1;33m(\u001b[0m \u001b[0munpack\u001b[0m\u001b[1;33m(\u001b[0m\u001b[0mlen\u001b[0m\u001b[1;33m(\u001b[0m\u001b[0ms\u001b[0m\u001b[1;33m)\u001b[0m\u001b[1;33m*\u001b[0m\u001b[1;34m'B'\u001b[0m\u001b[1;33m,\u001b[0m\u001b[0ms\u001b[0m\u001b[1;33m)\u001b[0m\u001b[1;33m,\u001b[0m \u001b[1;33m(\u001b[0m\u001b[1;36m28\u001b[0m\u001b[1;33m,\u001b[0m\u001b[1;36m28\u001b[0m\u001b[1;33m)\u001b[0m\u001b[1;33m)\u001b[0m\u001b[1;33m\u001b[0m\u001b[1;33m\u001b[0m\u001b[0m\n\u001b[1;32m---> 17\u001b[1;33m     \u001b[0mlbl\u001b[0m\u001b[1;33m[\u001b[0m\u001b[0mindex\u001b[0m\u001b[1;33m]\u001b[0m\u001b[1;33m.\u001b[0m\u001b[0mappend\u001b[0m\u001b[1;33m(\u001b[0m\u001b[0mimg\u001b[0m\u001b[1;33m)\u001b[0m \u001b[1;31m#각 숫자영역별로 해당이미지를 추가\u001b[0m\u001b[1;33m\u001b[0m\u001b[1;33m\u001b[0m\u001b[0m\n\u001b[0m\u001b[0;32m     18\u001b[0m     \u001b[0mk\u001b[0m\u001b[1;33m=\u001b[0m\u001b[0mk\u001b[0m\u001b[1;33m+\u001b[0m\u001b[1;36m1\u001b[0m\u001b[1;33m\u001b[0m\u001b[1;33m\u001b[0m\u001b[0m\n\u001b[0;32m     19\u001b[0m \u001b[1;33m\u001b[0m\u001b[0m\n",
      "\u001b[1;31mIndexError\u001b[0m: list index out of range"
     ]
    }
   ],
   "source": []
  },
  {
   "cell_type": "code",
   "execution_count": null,
   "metadata": {},
   "outputs": [],
   "source": []
  },
  {
   "cell_type": "code",
   "execution_count": null,
   "metadata": {},
   "outputs": [],
   "source": []
  }
 ],
 "metadata": {
  "kernelspec": {
   "display_name": "Python 3",
   "language": "python",
   "name": "python3"
  },
  "language_info": {
   "codemirror_mode": {
    "name": "ipython",
    "version": 3
   },
   "file_extension": ".py",
   "mimetype": "text/x-python",
   "name": "python",
   "nbconvert_exporter": "python",
   "pygments_lexer": "ipython3",
   "version": "3.7.1"
  }
 },
 "nbformat": 4,
 "nbformat_minor": 2
}
