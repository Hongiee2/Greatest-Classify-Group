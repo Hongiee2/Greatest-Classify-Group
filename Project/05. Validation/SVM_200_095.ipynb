{
 "cells": [
  {
   "cell_type": "code",
   "execution_count": 1,
   "metadata": {},
   "outputs": [],
   "source": [
    "#csv파일이랑 audio폴더 test 양만큼 개줄여서 디버그하며 할 것\n",
    "\n",
    "import os\n",
    "import librosa\n",
    "import librosa.display\n",
    "import IPython.display\n",
    "import numpy as np\n",
    "import matplotlib.pyplot as plt\n",
    "import matplotlib as mpl\n",
    "import matplotlib.font_manager as fm\n",
    "import pandas as pd\n",
    "import csv\n",
    "\n",
    "import scipy\n",
    "from scipy.stats import skew\n",
    "from tqdm import tqdm, tqdm_pandas\n",
    "\n",
    "tqdm.pandas()\n",
    "\n",
    "from sklearn.model_selection import GridSearchCV\n",
    "from sklearn.model_selection import train_test_split\n",
    "from sklearn.metrics import accuracy_score\n",
    "from sklearn.preprocessing import StandardScaler\n",
    "from sklearn.decomposition import PCA\n",
    "\n",
    "from sklearn.svm import SVC"
   ]
  },
  {
   "cell_type": "code",
   "execution_count": 2,
   "metadata": {},
   "outputs": [],
   "source": [
    "audio_train_files = os.listdir('./audio_train/')\n",
    "audio_test_files = os.listdir('./audio_test/')\n",
    "train=pd.read_csv('./file_name.csv')"
   ]
  },
  {
   "cell_type": "code",
   "execution_count": 3,
   "metadata": {},
   "outputs": [],
   "source": [
    "#print(audio_train_files)\n",
    "#print(audio_test_files)"
   ]
  },
  {
   "cell_type": "code",
   "execution_count": 4,
   "metadata": {},
   "outputs": [],
   "source": [
    "def get_mfcc(name, path):\n",
    "    data, _ = librosa.core.load(path+name) #엑셀에 .wav까지 붙여 저장해야됨 안그러면 path+name+'.wav' 이렇게해야\n",
    "    print(data,_)\n",
    "    #data, _ = librosa.load(path)\n",
    "    try:\n",
    "        #ft1 = librosa.feature.mfcc(data, sr = SAMPLE_RATE, n_mfcc=30)\n",
    "        ft1 = librosa.feature.mfcc(data, n_mfcc=30) #이게핵심 Sample_rate를 어떻게 조절하느냐\n",
    "        ft2 = librosa.feature.zero_crossing_rate(data)[0] # n_mfcc 값을 어떻게 조절하느냐에 따라 Feature개수가 달리 뽑힘\n",
    "        ft3 = librosa.feature.spectral_rolloff(data)[0]\n",
    "        ft4 = librosa.feature.spectral_centroid(data)[0]\n",
    "        ft5 = librosa.feature.spectral_contrast(data)[0]\n",
    "        ft6 = librosa.feature.spectral_bandwidth(data)[0]\n",
    "        ft1_trunc = np.hstack((np.mean(ft1, axis=1), np.std(ft1, axis=1), skew(ft1, axis = 1), np.max(ft1, axis = 1), np.median(ft1, axis = 1), np.min(ft1, axis = 1)))\n",
    "        ft2_trunc = np.hstack((np.mean(ft2), np.std(ft2), skew(ft2), np.max(ft2), np.median(ft2), np.min(ft2)))\n",
    "        ft3_trunc = np.hstack((np.mean(ft3), np.std(ft3), skew(ft3), np.max(ft3), np.median(ft3), np.min(ft3)))\n",
    "        ft4_trunc = np.hstack((np.mean(ft4), np.std(ft4), skew(ft4), np.max(ft4), np.median(ft4), np.min(ft4)))\n",
    "        ft5_trunc = np.hstack((np.mean(ft5), np.std(ft5), skew(ft5), np.max(ft5), np.median(ft5), np.min(ft5)))\n",
    "        ft6_trunc = np.hstack((np.mean(ft6), np.std(ft6), skew(ft6), np.max(ft6), np.median(ft6), np.max(ft6)))\n",
    "        return pd.Series(np.hstack((ft1_trunc, ft2_trunc, ft3_trunc, ft4_trunc, ft5_trunc, ft6_trunc)))\n",
    "    except:\n",
    "        print('bad file')\n",
    "        return pd.Series([0]*210)"
   ]
  },
  {
   "cell_type": "code",
   "execution_count": 5,
   "metadata": {},
   "outputs": [],
   "source": [
    "train_data = pd.DataFrame()\n",
    "train_data['fname'] = train['fname']\n",
    "test_data=pd.DataFrame()\n",
    "test_data['fname']=audio_test_files"
   ]
  },
  {
   "cell_type": "code",
   "execution_count": 6,
   "metadata": {},
   "outputs": [],
   "source": [
    "#print(train_data)\n",
    "#print(test_data)\n"
   ]
  },
  {
   "cell_type": "code",
   "execution_count": 7,
   "metadata": {},
   "outputs": [
    {
     "name": "stderr",
     "output_type": "stream",
     "text": [
      "\r",
      "  0%|                                                                                          | 0/200 [00:00<?, ?it/s]"
     ]
    },
    {
     "name": "stdout",
     "output_type": "stream",
     "text": [
      "[0.06973912 0.10266001 0.09116188 ... 0.08305359 0.08018959 0.08612607] 22050\n"
     ]
    },
    {
     "name": "stderr",
     "output_type": "stream",
     "text": [
      "\r",
      "  1%|▊                                                                                 | 2/200 [00:06<10:35,  3.21s/it]"
     ]
    },
    {
     "name": "stdout",
     "output_type": "stream",
     "text": [
      "[-0.02710845 -0.03993477 -0.03530764 ... -0.04230448 -0.0414599\n",
      " -0.04527015] 22050\n"
     ]
    },
    {
     "name": "stderr",
     "output_type": "stream",
     "text": [
      "\r",
      "  2%|█▏                                                                                | 3/200 [00:09<09:59,  3.04s/it]"
     ]
    },
    {
     "name": "stdout",
     "output_type": "stream",
     "text": [
      "[ 0.00283427  0.00423394  0.0036414  ... -0.01369482 -0.01395124\n",
      " -0.01601286] 22050\n"
     ]
    },
    {
     "name": "stderr",
     "output_type": "stream",
     "text": [
      "\r",
      "  2%|█▋                                                                                | 4/200 [00:11<09:25,  2.89s/it]"
     ]
    },
    {
     "name": "stdout",
     "output_type": "stream",
     "text": [
      "[-0.2545665  -0.37054616 -0.3232944  ... -0.05147256 -0.04832996\n",
      " -0.0513258 ] 22050\n"
     ]
    },
    {
     "name": "stderr",
     "output_type": "stream",
     "text": [
      "\r",
      "  2%|██                                                                                | 5/200 [00:14<09:20,  2.87s/it]"
     ]
    },
    {
     "name": "stdout",
     "output_type": "stream",
     "text": [
      "[ 3.1871754e-05  6.1540527e-06 -3.7155998e-05 ... -1.4125325e-02\n",
      " -8.7606525e-03  0.0000000e+00] 22050\n"
     ]
    },
    {
     "name": "stderr",
     "output_type": "stream",
     "text": [
      "\r",
      "  3%|██▍                                                                               | 6/200 [00:15<07:47,  2.41s/it]"
     ]
    },
    {
     "name": "stdout",
     "output_type": "stream",
     "text": [
      "[ 0.00079253  0.00089992  0.00091092 ... -0.0049351  -0.00259066\n",
      "  0.        ] 22050\n"
     ]
    },
    {
     "name": "stderr",
     "output_type": "stream",
     "text": [
      "\r",
      "  4%|██▊                                                                               | 7/200 [00:18<08:10,  2.54s/it]"
     ]
    },
    {
     "name": "stdout",
     "output_type": "stream",
     "text": [
      "[ 3.0208554e-05  3.0756044e-05  2.5381032e-05 ... -1.8259089e-02\n",
      " -1.1751885e-02 -5.7575861e-03] 22050\n"
     ]
    },
    {
     "name": "stderr",
     "output_type": "stream",
     "text": [
      "\r",
      "  4%|███▎                                                                              | 8/200 [00:20<07:08,  2.23s/it]"
     ]
    },
    {
     "name": "stdout",
     "output_type": "stream",
     "text": [
      "[-0.00064508 -0.00077814 -0.0008623  ... -0.01482992 -0.00782498\n",
      "  0.        ] 22050\n"
     ]
    },
    {
     "name": "stderr",
     "output_type": "stream",
     "text": [
      "\r",
      "  4%|███▋                                                                              | 9/200 [00:21<06:44,  2.12s/it]"
     ]
    },
    {
     "name": "stdout",
     "output_type": "stream",
     "text": [
      "[ 0.00110417  0.00130484  0.00140896 ... -0.01235658 -0.00798214\n",
      " -0.00392708] 22050\n"
     ]
    },
    {
     "name": "stderr",
     "output_type": "stream",
     "text": [
      "\r",
      "  5%|████                                                                             | 10/200 [00:24<07:00,  2.21s/it]"
     ]
    },
    {
     "name": "stdout",
     "output_type": "stream",
     "text": [
      "[ 4.3292630e-07  3.4875336e-06  7.9502988e-06 ... -4.9829770e-02\n",
      " -2.8054921e-02  0.0000000e+00] 22050\n"
     ]
    },
    {
     "name": "stderr",
     "output_type": "stream",
     "text": [
      "\r",
      "  6%|████▍                                                                            | 11/200 [00:27<07:46,  2.47s/it]"
     ]
    },
    {
     "name": "stdout",
     "output_type": "stream",
     "text": [
      "[0.00072087 0.00177281 0.00336674 ... 0.03278232 0.03167795 0.0341762 ] 22050\n"
     ]
    },
    {
     "name": "stderr",
     "output_type": "stream",
     "text": [
      "\r",
      "  6%|████▊                                                                            | 12/200 [00:30<07:59,  2.55s/it]"
     ]
    },
    {
     "name": "stdout",
     "output_type": "stream",
     "text": [
      "[-0.00511142 -0.00661265 -0.00532051 ...  0.05818591  0.05825811\n",
      "  0.06405238] 22050\n"
     ]
    },
    {
     "name": "stderr",
     "output_type": "stream",
     "text": [
      "\r",
      "  6%|█████▎                                                                           | 13/200 [00:33<08:23,  2.69s/it]"
     ]
    },
    {
     "name": "stdout",
     "output_type": "stream",
     "text": [
      "[ 0.13884057  0.20461525  0.18165357 ... -0.07205642 -0.07238604\n",
      " -0.08182055] 22050\n"
     ]
    },
    {
     "name": "stderr",
     "output_type": "stream",
     "text": [
      "\r",
      "  7%|█████▋                                                                           | 14/200 [00:36<08:33,  2.76s/it]"
     ]
    },
    {
     "name": "stdout",
     "output_type": "stream",
     "text": [
      "[ 0.          0.          0.         ... -0.03222465 -0.02863552\n",
      " -0.02814007] 22050\n"
     ]
    },
    {
     "name": "stderr",
     "output_type": "stream",
     "text": [
      "\r",
      "  8%|██████                                                                           | 15/200 [00:38<08:14,  2.67s/it]"
     ]
    },
    {
     "name": "stdout",
     "output_type": "stream",
     "text": [
      "[0.         0.         0.         ... 0.81409144 0.7837968  0.8404915 ] 22050\n"
     ]
    },
    {
     "name": "stderr",
     "output_type": "stream",
     "text": [
      "\r",
      "  8%|██████▍                                                                          | 16/200 [00:41<08:43,  2.85s/it]"
     ]
    },
    {
     "name": "stdout",
     "output_type": "stream",
     "text": [
      "[0.         0.         0.         ... 0.2893713  0.28139624 0.3021213 ] 22050\n"
     ]
    },
    {
     "name": "stderr",
     "output_type": "stream",
     "text": [
      "\r",
      "  8%|██████▉                                                                          | 17/200 [00:45<09:26,  3.10s/it]"
     ]
    },
    {
     "name": "stdout",
     "output_type": "stream",
     "text": [
      "[ 0.          0.          0.         ... -0.15555128 -0.14919281\n",
      " -0.1552921 ] 22050\n"
     ]
    },
    {
     "name": "stderr",
     "output_type": "stream",
     "text": [
      "\r",
      "  9%|███████▎                                                                         | 18/200 [00:49<10:05,  3.33s/it]"
     ]
    },
    {
     "name": "stdout",
     "output_type": "stream",
     "text": [
      "[0.         0.         0.         ... 0.02468135 0.02214165 0.01943384] 22050\n"
     ]
    },
    {
     "name": "stderr",
     "output_type": "stream",
     "text": [
      "\r",
      " 10%|███████▋                                                                         | 19/200 [00:52<09:47,  3.25s/it]"
     ]
    },
    {
     "name": "stdout",
     "output_type": "stream",
     "text": [
      "[ 0.          0.          0.         ... -0.34570888 -0.34052533\n",
      " -0.37189066] 22050\n"
     ]
    },
    {
     "name": "stderr",
     "output_type": "stream",
     "text": [
      "\r",
      " 10%|████████                                                                         | 20/200 [00:56<10:02,  3.35s/it]"
     ]
    },
    {
     "name": "stdout",
     "output_type": "stream",
     "text": [
      "[ 0.          0.          0.         ... -0.36525172 -0.35147998\n",
      " -0.3764349 ] 22050\n"
     ]
    },
    {
     "name": "stderr",
     "output_type": "stream",
     "text": [
      "\r",
      " 10%|████████▌                                                                        | 21/200 [00:59<10:10,  3.41s/it]"
     ]
    },
    {
     "name": "stdout",
     "output_type": "stream",
     "text": [
      "[0.         0.         0.         ... 0.29563662 0.29204592 0.32384074] 22050\n"
     ]
    },
    {
     "name": "stderr",
     "output_type": "stream",
     "text": [
      "\r",
      " 11%|████████▉                                                                        | 22/200 [01:03<10:53,  3.67s/it]"
     ]
    },
    {
     "name": "stdout",
     "output_type": "stream",
     "text": [
      "[ 0.          0.          0.         ... -0.87329555 -0.8426997\n",
      " -0.904122  ] 22050\n"
     ]
    },
    {
     "name": "stderr",
     "output_type": "stream",
     "text": [
      "\r",
      " 12%|█████████▎                                                                       | 23/200 [01:07<11:04,  3.76s/it]"
     ]
    },
    {
     "name": "stdout",
     "output_type": "stream",
     "text": [
      "[0.         0.         0.         ... 0.08035016 0.07610521 0.08158155] 22050\n"
     ]
    },
    {
     "name": "stderr",
     "output_type": "stream",
     "text": [
      "\r",
      " 12%|█████████▋                                                                       | 24/200 [01:11<11:07,  3.79s/it]"
     ]
    },
    {
     "name": "stdout",
     "output_type": "stream",
     "text": [
      "[0.         0.         0.         ... 0.07361161 0.07532007 0.08183191] 22050\n"
     ]
    },
    {
     "name": "stderr",
     "output_type": "stream",
     "text": [
      "\r",
      " 12%|██████████▏                                                                      | 25/200 [01:15<10:57,  3.76s/it]"
     ]
    },
    {
     "name": "stdout",
     "output_type": "stream",
     "text": [
      "[ 0.          0.          0.         ... -0.05342972 -0.0532412\n",
      " -0.06048   ] 22050\n"
     ]
    },
    {
     "name": "stderr",
     "output_type": "stream",
     "text": [
      "\r",
      " 13%|██████████▌                                                                      | 26/200 [01:18<10:37,  3.66s/it]"
     ]
    },
    {
     "name": "stdout",
     "output_type": "stream",
     "text": [
      "[0.         0.         0.         ... 0.48654523 0.47395992 0.5123876 ] 22050\n"
     ]
    },
    {
     "name": "stderr",
     "output_type": "stream",
     "text": [
      "\r",
      " 14%|██████████▉                                                                      | 27/200 [01:22<10:16,  3.56s/it]"
     ]
    },
    {
     "name": "stdout",
     "output_type": "stream",
     "text": [
      "[0.         0.         0.         ... 0.01937228 0.01565968 0.01233602] 22050\n"
     ]
    },
    {
     "name": "stderr",
     "output_type": "stream",
     "text": [
      "\r",
      " 14%|███████████▎                                                                     | 28/200 [01:25<10:00,  3.49s/it]"
     ]
    },
    {
     "name": "stdout",
     "output_type": "stream",
     "text": [
      "[0.         0.         0.         ... 0.21377535 0.19589575 0.19898888] 22050\n"
     ]
    },
    {
     "name": "stderr",
     "output_type": "stream",
     "text": [
      "\r",
      " 14%|███████████▋                                                                     | 29/200 [01:28<09:25,  3.31s/it]"
     ]
    },
    {
     "name": "stdout",
     "output_type": "stream",
     "text": [
      "[ 0.          0.          0.         ... -0.03692322 -0.04029846\n",
      " -0.03779646] 22050\n"
     ]
    },
    {
     "name": "stderr",
     "output_type": "stream",
     "text": [
      "\r",
      " 15%|████████████▏                                                                    | 30/200 [01:31<09:15,  3.27s/it]"
     ]
    },
    {
     "name": "stdout",
     "output_type": "stream",
     "text": [
      "[ 0.          0.          0.         ... -0.00111335  0.00120612\n",
      " -0.00136599] 22050\n"
     ]
    },
    {
     "name": "stderr",
     "output_type": "stream",
     "text": [
      "\r",
      " 16%|████████████▌                                                                    | 31/200 [01:35<10:00,  3.56s/it]"
     ]
    },
    {
     "name": "stdout",
     "output_type": "stream",
     "text": [
      "[ 0.          0.          0.         ... -0.27843747 -0.2646894\n",
      " -0.28205138] 22050\n"
     ]
    },
    {
     "name": "stderr",
     "output_type": "stream",
     "text": [
      "\r",
      " 16%|████████████▉                                                                    | 32/200 [01:39<10:06,  3.61s/it]"
     ]
    },
    {
     "name": "stdout",
     "output_type": "stream",
     "text": [
      "[ 0.          0.          0.         ... -0.26306844 -0.2522001\n",
      " -0.26922488] 22050\n"
     ]
    },
    {
     "name": "stderr",
     "output_type": "stream",
     "text": [
      "\r",
      " 16%|█████████████▎                                                                   | 33/200 [01:42<09:14,  3.32s/it]"
     ]
    },
    {
     "name": "stdout",
     "output_type": "stream",
     "text": [
      "[0.         0.         0.         ... 0.1735332  0.17125647 0.19119985] 22050\n"
     ]
    },
    {
     "name": "stderr",
     "output_type": "stream",
     "text": [
      "\r",
      " 17%|█████████████▊                                                                   | 34/200 [01:45<08:54,  3.22s/it]"
     ]
    },
    {
     "name": "stdout",
     "output_type": "stream",
     "text": [
      "[ 0.          0.          0.         ... -0.2167718  -0.2080332\n",
      " -0.22265384] 22050\n"
     ]
    },
    {
     "name": "stderr",
     "output_type": "stream",
     "text": [
      "\r",
      " 18%|██████████████▏                                                                  | 35/200 [01:47<08:28,  3.08s/it]"
     ]
    },
    {
     "name": "stdout",
     "output_type": "stream",
     "text": [
      "[ 0.          0.          0.         ... -0.05900886 -0.06246108\n",
      " -0.06871106] 22050\n"
     ]
    },
    {
     "name": "stderr",
     "output_type": "stream",
     "text": [
      "\r",
      " 18%|██████████████▌                                                                  | 36/200 [01:50<07:59,  2.92s/it]"
     ]
    },
    {
     "name": "stdout",
     "output_type": "stream",
     "text": [
      "[0.         0.         0.         ... 0.7010785  0.68610245 0.7446819 ] 22050\n"
     ]
    },
    {
     "name": "stderr",
     "output_type": "stream",
     "text": [
      "\r",
      " 18%|██████████████▉                                                                  | 37/200 [01:52<07:31,  2.77s/it]"
     ]
    },
    {
     "name": "stdout",
     "output_type": "stream",
     "text": [
      "[ 0.          0.          0.         ... -0.1005215  -0.09558512\n",
      " -0.09833872] 22050\n"
     ]
    },
    {
     "name": "stderr",
     "output_type": "stream",
     "text": [
      "\r",
      " 19%|███████████████▍                                                                 | 38/200 [01:55<07:04,  2.62s/it]"
     ]
    },
    {
     "name": "stdout",
     "output_type": "stream",
     "text": [
      "[ 0.          0.          0.         ... -0.09970824 -0.10170659\n",
      " -0.11256789] 22050\n"
     ]
    },
    {
     "name": "stderr",
     "output_type": "stream",
     "text": [
      "\r",
      " 20%|███████████████▊                                                                 | 39/200 [01:58<07:22,  2.75s/it]"
     ]
    },
    {
     "name": "stdout",
     "output_type": "stream",
     "text": [
      "[ 0.          0.          0.         ... -0.09393648 -0.0905112\n",
      " -0.09887574] 22050\n"
     ]
    },
    {
     "name": "stderr",
     "output_type": "stream",
     "text": [
      "\r",
      " 20%|████████████████▏                                                                | 40/200 [02:01<07:50,  2.94s/it]"
     ]
    },
    {
     "name": "stdout",
     "output_type": "stream",
     "text": [
      "[ 0.          0.          0.         ... -0.10736632 -0.10226438\n",
      " -0.10872729] 22050\n"
     ]
    },
    {
     "name": "stderr",
     "output_type": "stream",
     "text": [
      "\r",
      " 20%|████████████████▌                                                                | 41/200 [02:04<07:55,  2.99s/it]"
     ]
    },
    {
     "name": "stdout",
     "output_type": "stream",
     "text": [
      "[ 0.          0.          0.         ... -0.3698437  -0.36839765\n",
      " -0.4094729 ] 22050\n"
     ]
    },
    {
     "name": "stderr",
     "output_type": "stream",
     "text": [
      "\r",
      " 21%|█████████████████                                                                | 42/200 [02:07<07:52,  2.99s/it]"
     ]
    },
    {
     "name": "stdout",
     "output_type": "stream",
     "text": [
      "[-0.00949201 -0.01515351 -0.01494985 ...  0.03122446  0.03000467\n",
      "  0.03189378] 22050\n"
     ]
    },
    {
     "name": "stderr",
     "output_type": "stream",
     "text": [
      "\r",
      " 22%|█████████████████▍                                                               | 43/200 [02:10<07:57,  3.04s/it]"
     ]
    },
    {
     "name": "stdout",
     "output_type": "stream",
     "text": [
      "[-1.7585522e-06 -2.2429733e-06 -1.9274846e-06 ... -1.1987473e-02\n",
      " -7.4312286e-03  0.0000000e+00] 22050\n"
     ]
    },
    {
     "name": "stderr",
     "output_type": "stream",
     "text": [
      "\r",
      " 22%|█████████████████▊                                                               | 44/200 [02:12<07:02,  2.71s/it]"
     ]
    },
    {
     "name": "stdout",
     "output_type": "stream",
     "text": [
      "[-3.1364743e-05 -3.4258581e-05 -3.3931665e-05 ...  5.3538714e-04\n",
      "  3.7836187e-04  0.0000000e+00] 22050\n"
     ]
    },
    {
     "name": "stderr",
     "output_type": "stream",
     "text": [
      "\r",
      " 22%|██████████████████▏                                                              | 45/200 [02:14<06:28,  2.50s/it]"
     ]
    },
    {
     "name": "stdout",
     "output_type": "stream",
     "text": [
      "[-2.9586021e-05 -3.3629472e-05 -3.4923316e-05 ... -2.4650006e-03\n",
      " -1.3031738e-03  0.0000000e+00] 22050\n"
     ]
    },
    {
     "name": "stderr",
     "output_type": "stream",
     "text": [
      "\r",
      " 23%|██████████████████▋                                                              | 46/200 [02:16<06:02,  2.35s/it]"
     ]
    },
    {
     "name": "stdout",
     "output_type": "stream",
     "text": [
      "[3.0384650e-05 3.1305051e-05 2.8012693e-05 ... 3.9614424e-02 2.4514157e-02\n",
      " 0.0000000e+00] 22050\n"
     ]
    },
    {
     "name": "stderr",
     "output_type": "stream",
     "text": [
      "\r",
      " 24%|███████████████████                                                              | 47/200 [02:18<05:38,  2.21s/it]"
     ]
    },
    {
     "name": "stdout",
     "output_type": "stream",
     "text": [
      "[-0.00015414 -0.00019182 -0.00021949 ...  0.02211454  0.01247506\n",
      "  0.        ] 22050\n"
     ]
    },
    {
     "name": "stderr",
     "output_type": "stream",
     "text": [
      "\r",
      " 24%|███████████████████▍                                                             | 48/200 [02:20<05:35,  2.21s/it]"
     ]
    },
    {
     "name": "stdout",
     "output_type": "stream",
     "text": [
      "[2.9788309e-05 3.2301657e-05 3.1995405e-05 ... 1.5126610e-03 9.7192550e-04\n",
      " 4.7570144e-04] 22050\n"
     ]
    },
    {
     "name": "stderr",
     "output_type": "stream",
     "text": [
      "\r",
      " 24%|███████████████████▊                                                             | 49/200 [02:23<06:12,  2.47s/it]"
     ]
    },
    {
     "name": "stdout",
     "output_type": "stream",
     "text": [
      "[-0.30551556 -0.337594   -0.35426965 ...  0.04488467  0.02582479\n",
      "  0.        ] 22050\n"
     ]
    },
    {
     "name": "stderr",
     "output_type": "stream",
     "text": [
      "\r",
      " 25%|████████████████████▎                                                            | 50/200 [02:30<09:22,  3.75s/it]"
     ]
    },
    {
     "name": "stdout",
     "output_type": "stream",
     "text": [
      "[-0.30030748 -0.3313869  -0.3471481  ... -0.10257331 -0.06606323\n",
      " -0.03239066] 22050\n"
     ]
    },
    {
     "name": "stderr",
     "output_type": "stream",
     "text": [
      "\r",
      " 26%|████████████████████▋                                                            | 51/200 [02:33<08:48,  3.55s/it]"
     ]
    },
    {
     "name": "stdout",
     "output_type": "stream",
     "text": [
      "[-0.5566892  -0.61342674 -0.6413218  ... -0.07702224 -0.0493612\n",
      " -0.02408693] 22050\n"
     ]
    },
    {
     "name": "stderr",
     "output_type": "stream",
     "text": [
      "\r",
      " 26%|█████████████████████                                                            | 52/200 [02:36<08:10,  3.31s/it]"
     ]
    },
    {
     "name": "stdout",
     "output_type": "stream",
     "text": [
      "[-0.87746686 -0.9691256  -1.0164407  ... -0.2245433  -0.14452285\n",
      " -0.07082193] 22050\n"
     ]
    },
    {
     "name": "stderr",
     "output_type": "stream",
     "text": [
      "\r",
      " 26%|█████████████████████▍                                                           | 53/200 [02:39<07:53,  3.22s/it]"
     ]
    },
    {
     "name": "stdout",
     "output_type": "stream",
     "text": [
      "[-0.14500825 -0.16018207 -0.16798463 ...  0.11473081  0.06627245\n",
      "  0.        ] 22050\n"
     ]
    },
    {
     "name": "stderr",
     "output_type": "stream",
     "text": [
      "\r",
      " 27%|█████████████████████▊                                                           | 54/200 [02:46<10:53,  4.48s/it]"
     ]
    },
    {
     "name": "stdout",
     "output_type": "stream",
     "text": [
      "[-0.00199708 -0.00319508 -0.00331803 ... -0.00064225 -0.00038474\n",
      "  0.        ] 22050\n"
     ]
    },
    {
     "name": "stderr",
     "output_type": "stream",
     "text": [
      "\r",
      " 28%|██████████████████████▎                                                          | 55/200 [02:49<09:30,  3.93s/it]"
     ]
    },
    {
     "name": "stdout",
     "output_type": "stream",
     "text": [
      "[-0.00066345 -0.00110385 -0.00104151 ...  0.00647592  0.00655071\n",
      "  0.        ] 22050\n"
     ]
    },
    {
     "name": "stderr",
     "output_type": "stream",
     "text": [
      "\r",
      " 28%|██████████████████████▋                                                          | 56/200 [02:53<09:12,  3.84s/it]"
     ]
    },
    {
     "name": "stdout",
     "output_type": "stream",
     "text": [
      "[-0.2739319  -0.3025994  -0.31744638 ...  0.01044763  0.00608007\n",
      "  0.        ] 22050\n"
     ]
    },
    {
     "name": "stderr",
     "output_type": "stream",
     "text": [
      "\r",
      " 28%|███████████████████████                                                          | 57/200 [03:00<11:47,  4.95s/it]"
     ]
    },
    {
     "name": "stdout",
     "output_type": "stream",
     "text": [
      "[-0.06291798 -0.07026124 -0.07465484 ... -0.14951584 -0.09621288\n",
      " -0.04716552] 22050\n"
     ]
    },
    {
     "name": "stderr",
     "output_type": "stream",
     "text": [
      "\r",
      " 29%|███████████████████████▍                                                         | 58/200 [03:04<11:10,  4.72s/it]"
     ]
    },
    {
     "name": "stdout",
     "output_type": "stream",
     "text": [
      "[-1.7918481e-06 -5.5685846e-06 -9.9844920e-06 ...  2.7333383e-02\n",
      "  1.7636651e-02  8.6638099e-03] 22050\n"
     ]
    },
    {
     "name": "stderr",
     "output_type": "stream",
     "text": [
      "\r",
      " 30%|███████████████████████▉                                                         | 59/200 [03:08<10:28,  4.46s/it]"
     ]
    },
    {
     "name": "stdout",
     "output_type": "stream",
     "text": [
      "[ 8.5524260e-07 -2.3861974e-06 -7.3340552e-06 ... -1.3542055e-01\n",
      " -8.7212533e-02 -4.2756353e-02] 22050\n"
     ]
    },
    {
     "name": "stderr",
     "output_type": "stream",
     "text": [
      "\r",
      " 30%|████████████████████████▎                                                        | 60/200 [03:11<09:19,  4.00s/it]"
     ]
    },
    {
     "name": "stdout",
     "output_type": "stream",
     "text": [
      "[-0.00027686 -0.00032779 -0.00035314 ... -0.03754111 -0.02402511\n",
      " -0.01169831] 22050\n"
     ]
    },
    {
     "name": "stderr",
     "output_type": "stream",
     "text": [
      "\r",
      " 30%|████████████████████████▋                                                        | 61/200 [03:15<09:03,  3.91s/it]"
     ]
    },
    {
     "name": "stdout",
     "output_type": "stream",
     "text": [
      "[-1.7565626e-06 -1.2353955e-06  5.4582960e-09 ... -2.6573552e-02\n",
      " -1.6467988e-02  0.0000000e+00] 22050\n"
     ]
    },
    {
     "name": "stderr",
     "output_type": "stream",
     "text": [
      "\r",
      " 31%|█████████████████████████                                                        | 62/200 [03:16<07:09,  3.11s/it]"
     ]
    },
    {
     "name": "stdout",
     "output_type": "stream",
     "text": [
      "[0.000215   0.00023683 0.00023057 ... 0.0034874  0.00196025 0.        ] 22050\n"
     ]
    },
    {
     "name": "stderr",
     "output_type": "stream",
     "text": [
      "\r",
      " 32%|█████████████████████████▌                                                       | 63/200 [03:18<06:32,  2.87s/it]"
     ]
    },
    {
     "name": "stdout",
     "output_type": "stream",
     "text": [
      "[-3.0497395e-07  1.2244502e-06  3.1903026e-06 ... -9.8866746e-03\n",
      " -5.5146376e-03  0.0000000e+00] 22050\n"
     ]
    },
    {
     "name": "stderr",
     "output_type": "stream",
     "text": [
      "\r",
      " 32%|█████████████████████████▉                                                       | 64/200 [03:20<05:54,  2.61s/it]"
     ]
    },
    {
     "name": "stdout",
     "output_type": "stream",
     "text": [
      "[6.2300285e-05 7.5929711e-05 8.4309846e-05 ... 9.5062396e-03 5.8767227e-03\n",
      " 0.0000000e+00] 22050\n"
     ]
    },
    {
     "name": "stderr",
     "output_type": "stream",
     "text": [
      "\r",
      " 32%|██████████████████████████▎                                                      | 65/200 [03:23<05:32,  2.46s/it]"
     ]
    },
    {
     "name": "stdout",
     "output_type": "stream",
     "text": [
      "[2.0636191e-06 5.3742210e-06 7.9173615e-06 ... 8.8258702e-03 5.2438602e-03\n",
      " 0.0000000e+00] 22050\n"
     ]
    },
    {
     "name": "stderr",
     "output_type": "stream",
     "text": [
      "\r",
      " 33%|██████████████████████████▋                                                      | 66/200 [03:25<05:26,  2.44s/it]"
     ]
    },
    {
     "name": "stdout",
     "output_type": "stream",
     "text": [
      "[-1.5476845e-06 -1.4929913e-06  7.7756016e-07 ...  1.0041645e-03\n",
      "  6.2980881e-04  0.0000000e+00] 22050\n"
     ]
    },
    {
     "name": "stderr",
     "output_type": "stream",
     "text": [
      "\r",
      " 34%|███████████████████████████▏                                                     | 67/200 [03:28<05:45,  2.60s/it]"
     ]
    },
    {
     "name": "stdout",
     "output_type": "stream",
     "text": [
      "[ 0.          0.          0.         ... -0.12468348 -0.1273278\n",
      " -0.14731203] 22050\n"
     ]
    },
    {
     "name": "stderr",
     "output_type": "stream",
     "text": [
      "\r",
      " 34%|███████████████████████████▌                                                     | 68/200 [03:31<06:14,  2.84s/it]"
     ]
    },
    {
     "name": "stdout",
     "output_type": "stream",
     "text": [
      "[ 0.          0.          0.         ... -0.02251784 -0.02150127\n",
      " -0.02269199] 22050\n"
     ]
    },
    {
     "name": "stderr",
     "output_type": "stream",
     "text": [
      "\r",
      " 34%|███████████████████████████▉                                                     | 69/200 [03:35<06:29,  2.97s/it]"
     ]
    },
    {
     "name": "stdout",
     "output_type": "stream",
     "text": [
      "[ 0.          0.          0.         ... -0.01567137 -0.01457954\n",
      " -0.0151326 ] 22050\n"
     ]
    },
    {
     "name": "stderr",
     "output_type": "stream",
     "text": [
      "\r",
      " 35%|████████████████████████████▎                                                    | 70/200 [03:38<06:33,  3.02s/it]"
     ]
    },
    {
     "name": "stdout",
     "output_type": "stream",
     "text": [
      "[0.         0.         0.         ... 0.06823757 0.06161449 0.0576618 ] 22050\n"
     ]
    },
    {
     "name": "stderr",
     "output_type": "stream",
     "text": [
      "\r",
      " 36%|████████████████████████████▊                                                    | 71/200 [03:41<06:47,  3.16s/it]"
     ]
    },
    {
     "name": "stdout",
     "output_type": "stream",
     "text": [
      "[ 0.          0.          0.         ... -0.0593754  -0.06029727\n",
      " -0.06811669] 22050\n"
     ]
    },
    {
     "name": "stderr",
     "output_type": "stream",
     "text": [
      "\r",
      " 36%|█████████████████████████████▏                                                   | 72/200 [03:45<06:50,  3.21s/it]"
     ]
    },
    {
     "name": "stdout",
     "output_type": "stream",
     "text": [
      "[ 0.15286843  0.22476168  0.19892806 ... -0.01032892 -0.01059519\n",
      " -0.01229354] 22050\n"
     ]
    },
    {
     "name": "stderr",
     "output_type": "stream",
     "text": [
      "\r",
      " 36%|█████████████████████████████▌                                                   | 73/200 [03:48<07:08,  3.38s/it]"
     ]
    },
    {
     "name": "stdout",
     "output_type": "stream",
     "text": [
      "[0.01386719 0.02011131 0.01776993 ... 0.00524451 0.00579907 0.        ] 22050\n"
     ]
    },
    {
     "name": "stderr",
     "output_type": "stream",
     "text": [
      "\r",
      " 37%|█████████████████████████████▉                                                   | 74/200 [03:52<07:33,  3.60s/it]"
     ]
    },
    {
     "name": "stdout",
     "output_type": "stream",
     "text": [
      "[-0.00679656 -0.01003796 -0.00873371 ... -0.02517475 -0.03054456\n",
      "  0.        ] 22050\n"
     ]
    },
    {
     "name": "stderr",
     "output_type": "stream",
     "text": [
      "\r",
      " 38%|██████████████████████████████▍                                                  | 75/200 [03:56<07:45,  3.72s/it]"
     ]
    },
    {
     "name": "stdout",
     "output_type": "stream",
     "text": [
      "[ 0.00579983  0.00852321  0.00752403 ... -0.00082801 -0.00068914\n",
      " -0.00070964] 22050\n"
     ]
    },
    {
     "name": "stderr",
     "output_type": "stream",
     "text": [
      "\r",
      " 38%|██████████████████████████████▊                                                  | 76/200 [04:00<07:28,  3.62s/it]"
     ]
    },
    {
     "name": "stdout",
     "output_type": "stream",
     "text": [
      "[-0.00053421 -0.00082033 -0.00076593 ... -0.00522986 -0.00525398\n",
      " -0.00585139] 22050\n"
     ]
    },
    {
     "name": "stderr",
     "output_type": "stream",
     "text": [
      "\r",
      " 38%|███████████████████████████████▏                                                 | 77/200 [04:03<07:25,  3.62s/it]"
     ]
    },
    {
     "name": "stdout",
     "output_type": "stream",
     "text": [
      "[-2.8764509e-05 -3.0061437e-05 -2.9183469e-05 ... -1.0795601e-03\n",
      " -5.5044401e-04  0.0000000e+00] 22050\n"
     ]
    },
    {
     "name": "stderr",
     "output_type": "stream",
     "text": [
      "\r",
      " 39%|███████████████████████████████▌                                                 | 78/200 [04:05<06:14,  3.07s/it]"
     ]
    },
    {
     "name": "stdout",
     "output_type": "stream",
     "text": [
      "[-7.8413684e-08  9.5552173e-07  1.9807621e-06 ... -3.6296784e-03\n",
      " -2.0876050e-03  0.0000000e+00] 22050\n"
     ]
    },
    {
     "name": "stderr",
     "output_type": "stream",
     "text": [
      "\r",
      " 40%|███████████████████████████████▉                                                 | 79/200 [04:08<06:14,  3.10s/it]"
     ]
    },
    {
     "name": "stdout",
     "output_type": "stream",
     "text": [
      "[1.8421345e-06 3.9703418e-06 4.0728492e-06 ... 1.1935446e-03 6.8373588e-04\n",
      " 0.0000000e+00] 22050\n"
     ]
    },
    {
     "name": "stderr",
     "output_type": "stream",
     "text": [
      "\r",
      " 40%|████████████████████████████████▍                                                | 80/200 [04:11<05:40,  2.84s/it]"
     ]
    },
    {
     "name": "stdout",
     "output_type": "stream",
     "text": [
      "[-2.2084580e-06 -5.9585232e-06 -8.7529661e-06 ... -3.4101740e-02\n",
      " -2.1929748e-02 -1.0731890e-02] 22050\n"
     ]
    },
    {
     "name": "stderr",
     "output_type": "stream",
     "text": [
      "\r",
      " 40%|████████████████████████████████▊                                                | 81/200 [04:15<06:27,  3.26s/it]"
     ]
    },
    {
     "name": "stdout",
     "output_type": "stream",
     "text": [
      "[-5.8840362e-07  2.2181875e-06  5.4235775e-06 ...  3.1400897e-02\n",
      "  1.6541665e-02  0.0000000e+00] 22050\n"
     ]
    },
    {
     "name": "stderr",
     "output_type": "stream",
     "text": [
      "\r",
      " 41%|█████████████████████████████████▏                                               | 82/200 [04:17<05:53,  2.99s/it]"
     ]
    },
    {
     "name": "stdout",
     "output_type": "stream",
     "text": [
      "[ 5.9769508e-07  8.8926954e-06  2.1092692e-05 ... -1.6348783e-02\n",
      " -8.8511044e-03  0.0000000e+00] 22050\n"
     ]
    },
    {
     "name": "stderr",
     "output_type": "stream",
     "text": [
      "\r",
      " 42%|█████████████████████████████████▌                                               | 83/200 [04:18<04:43,  2.42s/it]"
     ]
    },
    {
     "name": "stdout",
     "output_type": "stream",
     "text": [
      "[ 0.00772112  0.01154974  0.01025985 ... -0.00331298 -0.00319685\n",
      " -0.0037348 ] 22050\n"
     ]
    },
    {
     "name": "stderr",
     "output_type": "stream",
     "text": [
      "\r",
      " 42%|██████████████████████████████████                                               | 84/200 [04:21<04:49,  2.50s/it]"
     ]
    },
    {
     "name": "stdout",
     "output_type": "stream",
     "text": [
      "[0.28596535 0.3158219  0.33115914 ... 0.08994886 0.05179574 0.        ] 22050\n"
     ]
    },
    {
     "name": "stderr",
     "output_type": "stream",
     "text": [
      "\r",
      " 42%|██████████████████████████████████▍                                              | 85/200 [04:27<06:49,  3.56s/it]"
     ]
    },
    {
     "name": "stdout",
     "output_type": "stream",
     "text": [
      "[-0.27563092 -0.30399603 -0.31818    ...  0.00215952  0.00126481\n",
      "  0.        ] 22050\n"
     ]
    },
    {
     "name": "stderr",
     "output_type": "stream",
     "text": [
      "\r",
      " 43%|██████████████████████████████████▊                                              | 86/200 [04:34<08:38,  4.55s/it]"
     ]
    },
    {
     "name": "stdout",
     "output_type": "stream",
     "text": [
      "[0.03946353 0.04340422 0.04541007 ... 0.4538223  0.29210246 0.14312147] 22050\n"
     ]
    },
    {
     "name": "stderr",
     "output_type": "stream",
     "text": [
      "\r",
      " 44%|███████████████████████████████████▏                                             | 87/200 [04:43<11:09,  5.92s/it]"
     ]
    },
    {
     "name": "stdout",
     "output_type": "stream",
     "text": [
      "[-0.3726952  -0.41175988 -0.43205068 ... -0.15957749 -0.10276388\n",
      " -0.05036703] 22050\n"
     ]
    },
    {
     "name": "stderr",
     "output_type": "stream",
     "text": [
      "\r",
      " 44%|███████████████████████████████████▋                                             | 88/200 [04:49<11:05,  5.94s/it]"
     ]
    },
    {
     "name": "stdout",
     "output_type": "stream",
     "text": [
      "[-0.2810858  -0.31157294 -0.32829928 ... -0.1266794  -0.08168591\n",
      " -0.04014152] 22050\n"
     ]
    },
    {
     "name": "stderr",
     "output_type": "stream",
     "text": [
      "\r",
      " 44%|████████████████████████████████████                                             | 89/200 [04:56<11:32,  6.24s/it]"
     ]
    },
    {
     "name": "stdout",
     "output_type": "stream",
     "text": [
      "[-0.07494406 -0.10856454 -0.09363515 ...  0.01878147  0.01818044\n",
      "  0.01986458] 22050\n"
     ]
    },
    {
     "name": "stderr",
     "output_type": "stream",
     "text": [
      "\r",
      " 45%|████████████████████████████████████▍                                            | 90/200 [04:58<09:18,  5.08s/it]"
     ]
    },
    {
     "name": "stdout",
     "output_type": "stream",
     "text": [
      "[ 0.03124345  0.04578807  0.04021889 ... -0.01389698 -0.01351108\n",
      " -0.01445538] 22050\n"
     ]
    },
    {
     "name": "stderr",
     "output_type": "stream",
     "text": [
      "\r",
      " 46%|████████████████████████████████████▊                                            | 91/200 [05:01<08:01,  4.42s/it]"
     ]
    },
    {
     "name": "stdout",
     "output_type": "stream",
     "text": [
      "[-0.02912769 -0.04266582 -0.03835926 ... -0.07225096 -0.07003564\n",
      " -0.07565343] 22050\n"
     ]
    },
    {
     "name": "stderr",
     "output_type": "stream",
     "text": [
      "\r",
      " 46%|█████████████████████████████████████▎                                           | 92/200 [05:04<06:56,  3.86s/it]"
     ]
    },
    {
     "name": "stdout",
     "output_type": "stream",
     "text": [
      "[ 0.00182807  0.00246826  0.00192033 ... -0.00439787 -0.00413904\n",
      " -0.00436127] 22050\n"
     ]
    },
    {
     "name": "stderr",
     "output_type": "stream",
     "text": [
      "\r",
      " 46%|█████████████████████████████████████▋                                           | 93/200 [05:07<06:20,  3.56s/it]"
     ]
    },
    {
     "name": "stdout",
     "output_type": "stream",
     "text": [
      "[-0.06445651 -0.09444108 -0.08404209 ... -0.01689324 -0.01542289\n",
      " -0.01585781] 22050\n"
     ]
    },
    {
     "name": "stderr",
     "output_type": "stream",
     "text": [
      "\r",
      " 47%|██████████████████████████████████████                                           | 94/200 [05:09<05:34,  3.15s/it]"
     ]
    },
    {
     "name": "stdout",
     "output_type": "stream",
     "text": [
      "[0.06414742 0.09454045 0.08388222 ... 0.24822964 0.24023329 0.2587387 ] 22050\n"
     ]
    },
    {
     "name": "stderr",
     "output_type": "stream",
     "text": [
      "\r",
      " 48%|██████████████████████████████████████▍                                          | 95/200 [05:12<05:16,  3.01s/it]"
     ]
    },
    {
     "name": "stdout",
     "output_type": "stream",
     "text": [
      "[ 0.08259647  0.12127037  0.1070242  ... -0.02367939 -0.02266011\n",
      " -0.0243049 ] 22050\n"
     ]
    },
    {
     "name": "stderr",
     "output_type": "stream",
     "text": [
      "\r",
      " 48%|██████████████████████████████████████▉                                          | 96/200 [05:14<05:06,  2.95s/it]"
     ]
    },
    {
     "name": "stdout",
     "output_type": "stream",
     "text": [
      "[-0.0151329  -0.02294918 -0.0202172  ... -0.04157927 -0.04070212\n",
      " -0.04374132] 22050\n"
     ]
    },
    {
     "name": "stderr",
     "output_type": "stream",
     "text": [
      "\r",
      " 48%|███████████████████████████████████████▎                                         | 97/200 [05:16<04:35,  2.67s/it]"
     ]
    },
    {
     "name": "stdout",
     "output_type": "stream",
     "text": [
      "[-0.00485999 -0.00679087 -0.00545568 ...  0.01482467  0.0137242\n",
      "  0.01388321] 22050\n"
     ]
    },
    {
     "name": "stderr",
     "output_type": "stream",
     "text": [
      "\r",
      " 49%|███████████████████████████████████████▋                                         | 98/200 [05:19<04:36,  2.71s/it]"
     ]
    },
    {
     "name": "stdout",
     "output_type": "stream",
     "text": [
      "[0.13323113 0.19474407 0.17157386 ... 0.08486681 0.08216646 0.08880045] 22050\n"
     ]
    },
    {
     "name": "stderr",
     "output_type": "stream",
     "text": [
      "\r",
      " 50%|████████████████████████████████████████                                         | 99/200 [05:21<04:16,  2.54s/it]"
     ]
    },
    {
     "name": "stdout",
     "output_type": "stream",
     "text": [
      "[0.02923446 0.04403316 0.04038239 ... 0.07650845 0.07465485 0.08051185] 22050\n"
     ]
    },
    {
     "name": "stderr",
     "output_type": "stream",
     "text": [
      "\r",
      " 50%|████████████████████████████████████████                                        | 100/200 [05:24<04:15,  2.55s/it]"
     ]
    },
    {
     "name": "stdout",
     "output_type": "stream",
     "text": [
      "[ 0.          0.          0.         ... -0.08146146 -0.07983761\n",
      " -0.0881007 ] 22050\n"
     ]
    },
    {
     "name": "stderr",
     "output_type": "stream",
     "text": [
      "\r",
      " 50%|████████████████████████████████████████▍                                       | 101/200 [05:26<04:06,  2.49s/it]"
     ]
    },
    {
     "name": "stdout",
     "output_type": "stream",
     "text": [
      "[ 0.          0.          0.         ... -0.20426673 -0.19690523\n",
      " -0.21202892] 22050\n"
     ]
    },
    {
     "name": "stderr",
     "output_type": "stream",
     "text": [
      "\r",
      " 51%|████████████████████████████████████████▊                                       | 102/200 [05:30<04:29,  2.75s/it]"
     ]
    },
    {
     "name": "stdout",
     "output_type": "stream",
     "text": [
      "[ 0.          0.          0.         ... -0.06242234 -0.06508474\n",
      " -0.06527735] 22050\n"
     ]
    },
    {
     "name": "stderr",
     "output_type": "stream",
     "text": [
      "\r",
      " 52%|█████████████████████████████████████████▏                                      | 103/200 [05:33<04:38,  2.87s/it]"
     ]
    },
    {
     "name": "stdout",
     "output_type": "stream",
     "text": [
      "[ 0.          0.          0.         ... -0.16425717 -0.15670955\n",
      " -0.16552171] 22050\n"
     ]
    },
    {
     "name": "stderr",
     "output_type": "stream",
     "text": [
      "\r",
      " 52%|█████████████████████████████████████████▌                                      | 104/200 [05:35<04:31,  2.83s/it]"
     ]
    },
    {
     "name": "stdout",
     "output_type": "stream",
     "text": [
      "[0.         0.         0.         ... 0.06238813 0.05447972 0.06155138] 22050\n"
     ]
    },
    {
     "name": "stderr",
     "output_type": "stream",
     "text": [
      "\r",
      " 52%|██████████████████████████████████████████                                      | 105/200 [05:39<04:53,  3.09s/it]"
     ]
    },
    {
     "name": "stdout",
     "output_type": "stream",
     "text": [
      "[ 0.          0.          0.         ... -0.09972439 -0.09438352\n",
      " -0.09943676] 22050\n"
     ]
    },
    {
     "name": "stderr",
     "output_type": "stream",
     "text": [
      "\r",
      " 53%|██████████████████████████████████████████▍                                     | 106/200 [05:42<04:53,  3.13s/it]"
     ]
    },
    {
     "name": "stdout",
     "output_type": "stream",
     "text": [
      "[ 0.          0.          0.         ... -0.08870819 -0.09428625\n",
      " -0.09607746] 22050\n"
     ]
    },
    {
     "name": "stderr",
     "output_type": "stream",
     "text": [
      "\r",
      " 54%|██████████████████████████████████████████▊                                     | 107/200 [05:45<04:47,  3.10s/it]"
     ]
    },
    {
     "name": "stdout",
     "output_type": "stream",
     "text": [
      "[0.         0.         0.         ... 0.10462509 0.09961228 0.10793937] 22050\n"
     ]
    },
    {
     "name": "stderr",
     "output_type": "stream",
     "text": [
      "\r",
      " 54%|███████████████████████████████████████████▏                                    | 108/200 [05:48<04:28,  2.92s/it]"
     ]
    },
    {
     "name": "stdout",
     "output_type": "stream",
     "text": [
      "[ 0.          0.          0.         ... -0.06952658 -0.06855807\n",
      " -0.07513054] 22050\n"
     ]
    },
    {
     "name": "stderr",
     "output_type": "stream",
     "text": [
      "\r",
      " 55%|███████████████████████████████████████████▌                                    | 109/200 [05:51<04:30,  2.97s/it]"
     ]
    },
    {
     "name": "stdout",
     "output_type": "stream",
     "text": [
      "[0.         0.         0.         ... 0.08039301 0.07997271 0.08432437] 22050\n"
     ]
    },
    {
     "name": "stderr",
     "output_type": "stream",
     "text": [
      "\r",
      " 55%|████████████████████████████████████████████                                    | 110/200 [05:54<04:22,  2.92s/it]"
     ]
    },
    {
     "name": "stdout",
     "output_type": "stream",
     "text": [
      "[0.         0.         0.         ... 0.06695306 0.0666611  0.07509023] 22050\n"
     ]
    },
    {
     "name": "stderr",
     "output_type": "stream",
     "text": [
      "\r",
      " 56%|████████████████████████████████████████████▍                                   | 111/200 [05:57<04:29,  3.03s/it]"
     ]
    },
    {
     "name": "stdout",
     "output_type": "stream",
     "text": [
      "[0.         0.         0.         ... 0.10612607 0.10556525 0.11632379] 22050\n"
     ]
    },
    {
     "name": "stderr",
     "output_type": "stream",
     "text": [
      "\r",
      " 56%|████████████████████████████████████████████▊                                   | 112/200 [06:00<04:20,  2.97s/it]"
     ]
    },
    {
     "name": "stdout",
     "output_type": "stream",
     "text": [
      "[0.         0.         0.         ... 0.05358456 0.05129099 0.05401836] 22050\n"
     ]
    },
    {
     "name": "stderr",
     "output_type": "stream",
     "text": [
      "\r",
      " 56%|█████████████████████████████████████████████▏                                  | 113/200 [06:03<04:12,  2.90s/it]"
     ]
    },
    {
     "name": "stdout",
     "output_type": "stream",
     "text": [
      "[ 0.          0.          0.         ... -0.3938014  -0.37952384\n",
      " -0.4075022 ] 22050\n"
     ]
    },
    {
     "name": "stderr",
     "output_type": "stream",
     "text": [
      "\r",
      " 57%|█████████████████████████████████████████████▌                                  | 114/200 [06:07<04:39,  3.25s/it]"
     ]
    },
    {
     "name": "stdout",
     "output_type": "stream",
     "text": [
      "[ 0.          0.          0.         ... -0.17734577 -0.16973394\n",
      " -0.17360851] 22050\n"
     ]
    },
    {
     "name": "stderr",
     "output_type": "stream",
     "text": [
      "\r",
      " 57%|██████████████████████████████████████████████                                  | 115/200 [06:11<05:04,  3.59s/it]"
     ]
    },
    {
     "name": "stdout",
     "output_type": "stream",
     "text": [
      "[0.         0.         0.         ... 0.14523053 0.13947594 0.14802337] 22050\n"
     ]
    },
    {
     "name": "stderr",
     "output_type": "stream",
     "text": [
      "\r",
      " 58%|██████████████████████████████████████████████▍                                 | 116/200 [06:15<05:09,  3.69s/it]"
     ]
    },
    {
     "name": "stdout",
     "output_type": "stream",
     "text": [
      "[ 0.          0.          0.         ... -0.02870877 -0.03005752\n",
      " -0.03293195] 22050\n"
     ]
    },
    {
     "name": "stderr",
     "output_type": "stream",
     "text": [
      "\r",
      " 58%|██████████████████████████████████████████████▊                                 | 117/200 [06:18<04:54,  3.55s/it]"
     ]
    },
    {
     "name": "stdout",
     "output_type": "stream",
     "text": [
      "[ 0.          0.          0.         ... -0.2948065  -0.28557497\n",
      " -0.30920088] 22050\n"
     ]
    },
    {
     "name": "stderr",
     "output_type": "stream",
     "text": [
      "\r",
      " 59%|███████████████████████████████████████████████▏                                | 118/200 [06:21<04:23,  3.21s/it]"
     ]
    },
    {
     "name": "stdout",
     "output_type": "stream",
     "text": [
      "[ 0.          0.          0.         ... -0.1321143  -0.12441466\n",
      " -0.13002394] 22050\n"
     ]
    },
    {
     "name": "stderr",
     "output_type": "stream",
     "text": [
      "\r",
      " 60%|███████████████████████████████████████████████▌                                | 119/200 [06:24<04:14,  3.14s/it]"
     ]
    },
    {
     "name": "stdout",
     "output_type": "stream",
     "text": [
      "[0.         0.         0.         ... 0.17034149 0.16380045 0.17417018] 22050\n"
     ]
    },
    {
     "name": "stderr",
     "output_type": "stream",
     "text": [
      "\r",
      " 60%|████████████████████████████████████████████████                                | 120/200 [06:27<04:14,  3.18s/it]"
     ]
    },
    {
     "name": "stdout",
     "output_type": "stream",
     "text": [
      "[ 0.          0.          0.         ... -0.38107696 -0.3713305\n",
      " -0.40327057] 22050\n"
     ]
    },
    {
     "name": "stderr",
     "output_type": "stream",
     "text": [
      "\r",
      " 60%|████████████████████████████████████████████████▍                               | 121/200 [06:29<03:54,  2.97s/it]"
     ]
    },
    {
     "name": "stdout",
     "output_type": "stream",
     "text": [
      "[ 0.          0.          0.         ... -0.09360491 -0.0902003\n",
      " -0.09563516] 22050\n"
     ]
    },
    {
     "name": "stderr",
     "output_type": "stream",
     "text": [
      "\r",
      " 61%|████████████████████████████████████████████████▊                               | 122/200 [06:33<04:13,  3.25s/it]"
     ]
    },
    {
     "name": "stdout",
     "output_type": "stream",
     "text": [
      "[ 0.          0.          0.         ... -0.4056519  -0.39217505\n",
      " -0.41598606] 22050\n"
     ]
    },
    {
     "name": "stderr",
     "output_type": "stream",
     "text": [
      "\r",
      " 62%|█████████████████████████████████████████████████▏                              | 123/200 [06:36<04:03,  3.16s/it]"
     ]
    },
    {
     "name": "stdout",
     "output_type": "stream",
     "text": [
      "[ 0.          0.          0.         ... -0.11479837 -0.10054551\n",
      " -0.10499416] 22050\n"
     ]
    },
    {
     "name": "stderr",
     "output_type": "stream",
     "text": [
      "\r",
      " 62%|█████████████████████████████████████████████████▌                              | 124/200 [06:39<03:43,  2.94s/it]"
     ]
    },
    {
     "name": "stdout",
     "output_type": "stream",
     "text": [
      "[ 0.          0.          0.         ... -0.10448148 -0.09048373\n",
      " -0.08867841] 22050\n"
     ]
    },
    {
     "name": "stderr",
     "output_type": "stream",
     "text": [
      "\r",
      " 62%|██████████████████████████████████████████████████                              | 125/200 [06:42<03:44,  2.99s/it]"
     ]
    },
    {
     "name": "stdout",
     "output_type": "stream",
     "text": [
      "[-0.08117289 -0.11900404 -0.10480274 ... -0.03272457 -0.03173881\n",
      " -0.03402781] 22050\n"
     ]
    },
    {
     "name": "stderr",
     "output_type": "stream",
     "text": [
      "\r",
      " 63%|██████████████████████████████████████████████████▍                             | 126/200 [06:45<03:47,  3.08s/it]"
     ]
    },
    {
     "name": "stdout",
     "output_type": "stream",
     "text": [
      "[-0.02598768 -0.03823575 -0.03361149 ...  0.02613051  0.02497507\n",
      "  0.02700617] 22050\n"
     ]
    },
    {
     "name": "stderr",
     "output_type": "stream",
     "text": [
      "\r",
      " 64%|██████████████████████████████████████████████████▊                             | 127/200 [06:49<04:02,  3.32s/it]"
     ]
    },
    {
     "name": "stdout",
     "output_type": "stream",
     "text": [
      "[ 0.          0.          0.         ... -0.3428473  -0.33361483\n",
      " -0.36210877] 22050\n"
     ]
    },
    {
     "name": "stderr",
     "output_type": "stream",
     "text": [
      "\r",
      " 64%|███████████████████████████████████████████████████▏                            | 128/200 [06:52<03:50,  3.21s/it]"
     ]
    },
    {
     "name": "stdout",
     "output_type": "stream",
     "text": [
      "[0.         0.         0.         ... 0.03463211 0.03387357 0.03805548] 22050\n"
     ]
    },
    {
     "name": "stderr",
     "output_type": "stream",
     "text": [
      "\r",
      " 64%|███████████████████████████████████████████████████▌                            | 129/200 [06:56<03:59,  3.37s/it]"
     ]
    },
    {
     "name": "stdout",
     "output_type": "stream",
     "text": [
      "[ 0.          0.          0.         ... -0.13062702 -0.12603064\n",
      " -0.13539149] 22050\n"
     ]
    },
    {
     "name": "stderr",
     "output_type": "stream",
     "text": [
      "\r",
      " 65%|████████████████████████████████████████████████████                            | 130/200 [06:59<03:57,  3.39s/it]"
     ]
    },
    {
     "name": "stdout",
     "output_type": "stream",
     "text": [
      "[0.         0.         0.         ... 0.06695539 0.0645723  0.06897803] 22050\n"
     ]
    },
    {
     "name": "stderr",
     "output_type": "stream",
     "text": [
      "\r",
      " 66%|████████████████████████████████████████████████████▍                           | 131/200 [07:03<03:54,  3.40s/it]"
     ]
    },
    {
     "name": "stdout",
     "output_type": "stream",
     "text": [
      "[0.         0.         0.         ... 0.00933542 0.00866294 0.00905799] 22050\n"
     ]
    },
    {
     "name": "stderr",
     "output_type": "stream",
     "text": [
      "\r",
      " 66%|████████████████████████████████████████████████████▊                           | 132/200 [07:05<03:35,  3.17s/it]"
     ]
    },
    {
     "name": "stdout",
     "output_type": "stream",
     "text": [
      "[ 0.          0.          0.         ... -0.03715342 -0.03602199\n",
      " -0.04002335] 22050\n"
     ]
    },
    {
     "name": "stderr",
     "output_type": "stream",
     "text": [
      "\r",
      " 66%|█████████████████████████████████████████████████████▏                          | 133/200 [07:08<03:29,  3.13s/it]"
     ]
    },
    {
     "name": "stdout",
     "output_type": "stream",
     "text": [
      "[0.         0.         0.         ... 0.00147333 0.00131535 0.00175711] 22050\n"
     ]
    },
    {
     "name": "stderr",
     "output_type": "stream",
     "text": [
      "\r",
      " 67%|█████████████████████████████████████████████████████▌                          | 134/200 [07:11<03:16,  2.98s/it]"
     ]
    },
    {
     "name": "stdout",
     "output_type": "stream",
     "text": [
      "[0.         0.         0.         ... 0.02230152 0.02326091 0.02724882] 22050\n"
     ]
    },
    {
     "name": "stderr",
     "output_type": "stream",
     "text": [
      "\r",
      " 68%|██████████████████████████████████████████████████████                          | 135/200 [07:14<03:15,  3.00s/it]"
     ]
    },
    {
     "name": "stdout",
     "output_type": "stream",
     "text": [
      "[0.         0.         0.         ... 0.01548811 0.01397103 0.01533574] 22050\n"
     ]
    },
    {
     "name": "stderr",
     "output_type": "stream",
     "text": [
      "\r",
      " 68%|██████████████████████████████████████████████████████▍                         | 136/200 [07:17<03:09,  2.96s/it]"
     ]
    },
    {
     "name": "stdout",
     "output_type": "stream",
     "text": [
      "[0.         0.         0.         ... 0.05879422 0.05703074 0.06129115] 22050\n"
     ]
    },
    {
     "name": "stderr",
     "output_type": "stream",
     "text": [
      "\r",
      " 68%|██████████████████████████████████████████████████████▊                         | 137/200 [07:20<03:16,  3.13s/it]"
     ]
    },
    {
     "name": "stdout",
     "output_type": "stream",
     "text": [
      "[0.         0.         0.         ... 0.02896706 0.02903732 0.03253777] 22050\n"
     ]
    },
    {
     "name": "stderr",
     "output_type": "stream",
     "text": [
      "\r",
      " 69%|███████████████████████████████████████████████████████▏                        | 138/200 [07:23<03:15,  3.15s/it]"
     ]
    },
    {
     "name": "stdout",
     "output_type": "stream",
     "text": [
      "[0.         0.         0.         ... 0.1323374  0.12822753 0.1389894 ] 22050\n"
     ]
    },
    {
     "name": "stderr",
     "output_type": "stream",
     "text": [
      "\r",
      " 70%|███████████████████████████████████████████████████████▌                        | 139/200 [07:27<03:18,  3.26s/it]"
     ]
    },
    {
     "name": "stdout",
     "output_type": "stream",
     "text": [
      "[0.         0.         0.         ... 0.03939344 0.03753388 0.03632503] 22050\n"
     ]
    },
    {
     "name": "stderr",
     "output_type": "stream",
     "text": [
      "\r",
      " 70%|████████████████████████████████████████████████████████                        | 140/200 [07:30<03:07,  3.12s/it]"
     ]
    },
    {
     "name": "stdout",
     "output_type": "stream",
     "text": [
      "[0.         0.         0.         ... 0.02192747 0.02094085 0.02318534] 22050\n"
     ]
    },
    {
     "name": "stderr",
     "output_type": "stream",
     "text": [
      "\r",
      " 70%|████████████████████████████████████████████████████████▍                       | 141/200 [07:33<02:57,  3.01s/it]"
     ]
    },
    {
     "name": "stdout",
     "output_type": "stream",
     "text": [
      "[0.         0.         0.         ... 0.00290356 0.00308881 0.00279484] 22050\n"
     ]
    },
    {
     "name": "stderr",
     "output_type": "stream",
     "text": [
      "\r",
      " 71%|████████████████████████████████████████████████████████▊                       | 142/200 [07:36<03:00,  3.11s/it]"
     ]
    },
    {
     "name": "stdout",
     "output_type": "stream",
     "text": [
      "[0.         0.         0.         ... 0.01177537 0.01179294 0.01372875] 22050\n"
     ]
    },
    {
     "name": "stderr",
     "output_type": "stream",
     "text": [
      "\r",
      " 72%|█████████████████████████████████████████████████████████▏                      | 143/200 [07:39<02:52,  3.02s/it]"
     ]
    },
    {
     "name": "stdout",
     "output_type": "stream",
     "text": [
      "[ 0.          0.          0.         ... -0.00344355 -0.0024523\n",
      " -0.00328601] 22050\n"
     ]
    },
    {
     "name": "stderr",
     "output_type": "stream",
     "text": [
      "\r",
      " 72%|█████████████████████████████████████████████████████████▌                      | 144/200 [07:41<02:38,  2.84s/it]"
     ]
    },
    {
     "name": "stdout",
     "output_type": "stream",
     "text": [
      "[0.         0.         0.         ... 0.55041456 0.52814263 0.5660907 ] 22050\n"
     ]
    },
    {
     "name": "stderr",
     "output_type": "stream",
     "text": [
      "\r",
      " 72%|██████████████████████████████████████████████████████████                      | 145/200 [07:44<02:45,  3.01s/it]"
     ]
    },
    {
     "name": "stdout",
     "output_type": "stream",
     "text": [
      "[ 0.          0.          0.         ... -0.01068099 -0.01134211\n",
      " -0.01608942] 22050\n"
     ]
    },
    {
     "name": "stderr",
     "output_type": "stream",
     "text": [
      "\r",
      " 73%|██████████████████████████████████████████████████████████▍                     | 146/200 [07:47<02:39,  2.95s/it]"
     ]
    },
    {
     "name": "stdout",
     "output_type": "stream",
     "text": [
      "[ 0.          0.          0.         ... -0.12971497 -0.12772833\n",
      " -0.13488507] 22050\n"
     ]
    },
    {
     "name": "stderr",
     "output_type": "stream",
     "text": [
      "\r",
      " 74%|██████████████████████████████████████████████████████████▊                     | 147/200 [07:50<02:33,  2.90s/it]"
     ]
    },
    {
     "name": "stdout",
     "output_type": "stream",
     "text": [
      "[ 0.          0.          0.         ... -0.8163375  -0.79619044\n",
      " -0.8508787 ] 22050\n"
     ]
    },
    {
     "name": "stderr",
     "output_type": "stream",
     "text": [
      "\r",
      " 74%|███████████████████████████████████████████████████████████▏                    | 148/200 [07:53<02:29,  2.88s/it]"
     ]
    },
    {
     "name": "stdout",
     "output_type": "stream",
     "text": [
      "[ 0.          0.          0.         ... -0.0811928  -0.07373395\n",
      " -0.06791203] 22050\n"
     ]
    },
    {
     "name": "stderr",
     "output_type": "stream",
     "text": [
      "\r",
      " 74%|███████████████████████████████████████████████████████████▌                    | 149/200 [07:55<02:21,  2.78s/it]"
     ]
    },
    {
     "name": "stdout",
     "output_type": "stream",
     "text": [
      "[ 0.          0.          0.         ... -0.16762847 -0.16321829\n",
      " -0.17596337] 22050\n"
     ]
    },
    {
     "name": "stderr",
     "output_type": "stream",
     "text": [
      "\r",
      " 75%|████████████████████████████████████████████████████████████                    | 150/200 [07:59<02:23,  2.86s/it]"
     ]
    },
    {
     "name": "stdout",
     "output_type": "stream",
     "text": [
      "[ 0.23305282  0.3411638   0.30055442 ... -0.18400359 -0.1783391\n",
      " -0.19217604] 22050\n"
     ]
    },
    {
     "name": "stderr",
     "output_type": "stream",
     "text": [
      "\r",
      " 76%|████████████████████████████████████████████████████████████▍                   | 151/200 [08:02<02:27,  3.01s/it]"
     ]
    },
    {
     "name": "stdout",
     "output_type": "stream",
     "text": [
      "[ 0.          0.          0.         ... -0.01102445 -0.01065868\n",
      " -0.01145363] 22050\n"
     ]
    },
    {
     "name": "stderr",
     "output_type": "stream",
     "text": [
      "\r",
      " 76%|████████████████████████████████████████████████████████████▊                   | 152/200 [08:05<02:28,  3.10s/it]"
     ]
    },
    {
     "name": "stdout",
     "output_type": "stream",
     "text": [
      "[0.0000000e+00 0.0000000e+00 0.0000000e+00 ... 4.9656042e-05 8.4286830e-06\n",
      " 6.7917514e-05] 22050\n"
     ]
    },
    {
     "name": "stderr",
     "output_type": "stream",
     "text": [
      "\r",
      " 76%|█████████████████████████████████████████████████████████████▏                  | 153/200 [08:08<02:28,  3.16s/it]"
     ]
    },
    {
     "name": "stdout",
     "output_type": "stream",
     "text": [
      "[0.         0.         0.         ... 0.00301547 0.00293422 0.00326379] 22050\n"
     ]
    },
    {
     "name": "stderr",
     "output_type": "stream",
     "text": [
      "\r",
      " 77%|█████████████████████████████████████████████████████████████▌                  | 154/200 [08:12<02:24,  3.13s/it]"
     ]
    },
    {
     "name": "stdout",
     "output_type": "stream",
     "text": [
      "[0.         0.         0.         ... 0.0052134  0.00490272 0.00500303] 22050\n"
     ]
    },
    {
     "name": "stderr",
     "output_type": "stream",
     "text": [
      "\r",
      " 78%|██████████████████████████████████████████████████████████████                  | 155/200 [08:15<02:24,  3.21s/it]"
     ]
    },
    {
     "name": "stdout",
     "output_type": "stream",
     "text": [
      "[ 0.          0.          0.         ... -0.0370523  -0.0354245\n",
      " -0.03835789] 22050\n"
     ]
    },
    {
     "name": "stderr",
     "output_type": "stream",
     "text": [
      "\r",
      " 78%|██████████████████████████████████████████████████████████████▍                 | 156/200 [08:18<02:16,  3.10s/it]"
     ]
    },
    {
     "name": "stdout",
     "output_type": "stream",
     "text": [
      "[ 0.          0.          0.         ... -0.02737853 -0.02579901\n",
      " -0.02804612] 22050\n"
     ]
    },
    {
     "name": "stderr",
     "output_type": "stream",
     "text": [
      "\r",
      " 78%|██████████████████████████████████████████████████████████████▊                 | 157/200 [08:21<02:19,  3.25s/it]"
     ]
    },
    {
     "name": "stdout",
     "output_type": "stream",
     "text": [
      "[ 0.          0.          0.         ... -0.01088382 -0.01067005\n",
      " -0.01148472] 22050\n"
     ]
    },
    {
     "name": "stderr",
     "output_type": "stream",
     "text": [
      "\r",
      " 79%|███████████████████████████████████████████████████████████████▏                | 158/200 [08:25<02:24,  3.44s/it]"
     ]
    },
    {
     "name": "stdout",
     "output_type": "stream",
     "text": [
      "[0.         0.         0.         ... 0.00075235 0.00126768 0.00203564] 22050\n"
     ]
    },
    {
     "name": "stderr",
     "output_type": "stream",
     "text": [
      "\r",
      " 80%|███████████████████████████████████████████████████████████████▌                | 159/200 [08:30<02:39,  3.88s/it]"
     ]
    },
    {
     "name": "stdout",
     "output_type": "stream",
     "text": [
      "[0.         0.         0.         ... 0.04391466 0.04102848 0.04634928] 22050\n"
     ]
    },
    {
     "name": "stderr",
     "output_type": "stream",
     "text": [
      "\r",
      " 80%|████████████████████████████████████████████████████████████████                | 160/200 [08:35<02:42,  4.05s/it]"
     ]
    },
    {
     "name": "stdout",
     "output_type": "stream",
     "text": [
      "[0.         0.         0.         ... 0.02389891 0.02349536 0.0252753 ] 22050\n"
     ]
    },
    {
     "name": "stderr",
     "output_type": "stream",
     "text": [
      "\r",
      " 80%|████████████████████████████████████████████████████████████████▍               | 161/200 [08:40<02:55,  4.51s/it]"
     ]
    },
    {
     "name": "stdout",
     "output_type": "stream",
     "text": [
      "[ 0.          0.          0.         ... -0.04146539 -0.0397125\n",
      " -0.04215476] 22050\n"
     ]
    },
    {
     "name": "stderr",
     "output_type": "stream",
     "text": [
      "\r",
      " 81%|████████████████████████████████████████████████████████████████▊               | 162/200 [08:45<02:49,  4.46s/it]"
     ]
    },
    {
     "name": "stdout",
     "output_type": "stream",
     "text": [
      "[ 0.          0.          0.         ... -0.04211372 -0.04094832\n",
      " -0.04431994] 22050\n"
     ]
    },
    {
     "name": "stderr",
     "output_type": "stream",
     "text": [
      "\r",
      " 82%|█████████████████████████████████████████████████████████████████▏              | 163/200 [08:49<02:46,  4.49s/it]"
     ]
    },
    {
     "name": "stdout",
     "output_type": "stream",
     "text": [
      "[0.         0.         0.         ... 0.01320571 0.01252021 0.01314373] 22050\n"
     ]
    },
    {
     "name": "stderr",
     "output_type": "stream",
     "text": [
      "\r",
      " 82%|█████████████████████████████████████████████████████████████████▌              | 164/200 [08:53<02:31,  4.21s/it]"
     ]
    },
    {
     "name": "stdout",
     "output_type": "stream",
     "text": [
      "[ 0.          0.          0.         ... -0.03113936 -0.0300518\n",
      " -0.02755283] 22050\n"
     ]
    },
    {
     "name": "stderr",
     "output_type": "stream",
     "text": [
      "\r",
      " 82%|██████████████████████████████████████████████████████████████████              | 165/200 [08:57<02:32,  4.37s/it]"
     ]
    },
    {
     "name": "stdout",
     "output_type": "stream",
     "text": [
      "[0.         0.         0.         ... 0.10604662 0.09937384 0.10240877] 22050\n"
     ]
    },
    {
     "name": "stderr",
     "output_type": "stream",
     "text": [
      "\r",
      " 83%|██████████████████████████████████████████████████████████████████▍             | 166/200 [09:02<02:31,  4.45s/it]"
     ]
    },
    {
     "name": "stdout",
     "output_type": "stream",
     "text": [
      "[0.         0.         0.         ... 0.00190885 0.00111962 0.00105843] 22050\n"
     ]
    },
    {
     "name": "stderr",
     "output_type": "stream",
     "text": [
      "\r",
      " 84%|██████████████████████████████████████████████████████████████████▊             | 167/200 [09:07<02:32,  4.62s/it]"
     ]
    },
    {
     "name": "stdout",
     "output_type": "stream",
     "text": [
      "[ 0.          0.          0.         ... -0.13127474 -0.13108909\n",
      " -0.14009699] 22050\n"
     ]
    },
    {
     "name": "stderr",
     "output_type": "stream",
     "text": [
      "\r",
      " 84%|███████████████████████████████████████████████████████████████████▏            | 168/200 [09:11<02:25,  4.55s/it]"
     ]
    },
    {
     "name": "stdout",
     "output_type": "stream",
     "text": [
      "[-0.02050874 -0.0232402  -0.02506354 ...  0.06998347  0.04030575\n",
      "  0.        ] 22050\n"
     ]
    },
    {
     "name": "stderr",
     "output_type": "stream",
     "text": [
      "\r",
      " 84%|███████████████████████████████████████████████████████████████████▌            | 169/200 [09:19<02:46,  5.36s/it]"
     ]
    },
    {
     "name": "stdout",
     "output_type": "stream",
     "text": [
      "[-0.19043203 -0.20889246 -0.2174134  ...  0.01516943  0.00861861\n",
      "  0.        ] 22050\n"
     ]
    },
    {
     "name": "stderr",
     "output_type": "stream",
     "text": [
      "\r",
      " 85%|████████████████████████████████████████████████████████████████████            | 170/200 [09:28<03:13,  6.44s/it]"
     ]
    },
    {
     "name": "stdout",
     "output_type": "stream",
     "text": [
      "[-0.12818448 -0.1434685  -0.15269877 ...  0.00372334  0.00271469\n",
      "  0.00146946] 22050\n"
     ]
    },
    {
     "name": "stderr",
     "output_type": "stream",
     "text": [
      "\r",
      " 86%|████████████████████████████████████████████████████████████████████▍           | 171/200 [09:37<03:28,  7.18s/it]"
     ]
    },
    {
     "name": "stdout",
     "output_type": "stream",
     "text": [
      "[ 0.1770975   0.19544461  0.20480025 ... -0.07379189 -0.04683995\n",
      " -0.02252107] 22050\n"
     ]
    },
    {
     "name": "stderr",
     "output_type": "stream",
     "text": [
      "\r",
      " 86%|████████████████████████████████████████████████████████████████████▊           | 172/200 [09:45<03:32,  7.58s/it]"
     ]
    },
    {
     "name": "stdout",
     "output_type": "stream",
     "text": [
      "[0.03109807 0.0332945  0.03354194 ... 0.1082032  0.07006677 0.03452674] 22050\n"
     ]
    },
    {
     "name": "stderr",
     "output_type": "stream",
     "text": [
      "\r",
      " 86%|█████████████████████████████████████████████████████████████████████▏          | 173/200 [09:54<03:38,  8.08s/it]"
     ]
    },
    {
     "name": "stdout",
     "output_type": "stream",
     "text": [
      "[-0.02445047 -0.03592268 -0.03173348 ... -0.02019346 -0.01963275\n",
      " -0.02105833] 22050\n"
     ]
    },
    {
     "name": "stderr",
     "output_type": "stream",
     "text": [
      "\r",
      " 87%|█████████████████████████████████████████████████████████████████████▌          | 174/200 [09:58<02:59,  6.89s/it]"
     ]
    },
    {
     "name": "stdout",
     "output_type": "stream",
     "text": [
      "[0.         0.         0.         ... 0.6078339  0.5855966  0.62148124] 22050\n"
     ]
    },
    {
     "name": "stderr",
     "output_type": "stream",
     "text": [
      "\r",
      " 88%|██████████████████████████████████████████████████████████████████████          | 175/200 [10:02<02:25,  5.81s/it]"
     ]
    },
    {
     "name": "stdout",
     "output_type": "stream",
     "text": [
      "[0.         0.         0.         ... 0.37357593 0.36307064 0.39337358] 22050\n"
     ]
    },
    {
     "name": "stderr",
     "output_type": "stream",
     "text": [
      "\r",
      " 88%|██████████████████████████████████████████████████████████████████████▍         | 176/200 [10:05<02:03,  5.13s/it]"
     ]
    },
    {
     "name": "stdout",
     "output_type": "stream",
     "text": [
      "[0.         0.         0.         ... 0.00276424 0.00186209 0.00188197] 22050\n"
     ]
    },
    {
     "name": "stderr",
     "output_type": "stream",
     "text": [
      "\r",
      " 88%|██████████████████████████████████████████████████████████████████████▊         | 177/200 [10:09<01:47,  4.66s/it]"
     ]
    },
    {
     "name": "stdout",
     "output_type": "stream",
     "text": [
      "[ 0.          0.          0.         ... -0.00112194 -0.00228156\n",
      " -0.0012395 ] 22050\n"
     ]
    },
    {
     "name": "stderr",
     "output_type": "stream",
     "text": [
      "\r",
      " 89%|███████████████████████████████████████████████████████████████████████▏        | 178/200 [10:12<01:34,  4.31s/it]"
     ]
    },
    {
     "name": "stdout",
     "output_type": "stream",
     "text": [
      "[0.         0.         0.         ... 0.10763016 0.10770595 0.12130077] 22050\n"
     ]
    },
    {
     "name": "stderr",
     "output_type": "stream",
     "text": [
      "\r",
      " 90%|███████████████████████████████████████████████████████████████████████▌        | 179/200 [10:16<01:26,  4.11s/it]"
     ]
    },
    {
     "name": "stdout",
     "output_type": "stream",
     "text": [
      "[0.         0.         0.         ... 0.58739793 0.5684876  0.6138706 ] 22050\n"
     ]
    },
    {
     "name": "stderr",
     "output_type": "stream",
     "text": [
      "\r",
      " 90%|████████████████████████████████████████████████████████████████████████        | 180/200 [10:21<01:26,  4.33s/it]"
     ]
    },
    {
     "name": "stdout",
     "output_type": "stream",
     "text": [
      "[0.         0.         0.         ... 0.14569928 0.14214131 0.153451  ] 22050\n"
     ]
    },
    {
     "name": "stderr",
     "output_type": "stream",
     "text": [
      "\r",
      " 90%|████████████████████████████████████████████████████████████████████████▍       | 181/200 [10:26<01:27,  4.58s/it]"
     ]
    },
    {
     "name": "stdout",
     "output_type": "stream",
     "text": [
      "[0.         0.         0.         ... 0.1709952  0.16483337 0.17428254] 22050\n"
     ]
    },
    {
     "name": "stderr",
     "output_type": "stream",
     "text": [
      "\r",
      " 91%|████████████████████████████████████████████████████████████████████████▊       | 182/200 [10:29<01:16,  4.23s/it]"
     ]
    },
    {
     "name": "stdout",
     "output_type": "stream",
     "text": [
      "[ 0.          0.          0.         ... -0.19510444 -0.18486346\n",
      " -0.19868721] 22050\n"
     ]
    },
    {
     "name": "stderr",
     "output_type": "stream",
     "text": [
      "\r",
      " 92%|█████████████████████████████████████████████████████████████████████████▏      | 183/200 [10:34<01:15,  4.47s/it]"
     ]
    },
    {
     "name": "stdout",
     "output_type": "stream",
     "text": [
      "[ 0.          0.          0.         ... -0.4499411  -0.4344066\n",
      " -0.46188492] 22050\n"
     ]
    },
    {
     "name": "stderr",
     "output_type": "stream",
     "text": [
      "\r",
      " 92%|█████████████████████████████████████████████████████████████████████████▌      | 184/200 [10:38<01:05,  4.12s/it]"
     ]
    },
    {
     "name": "stdout",
     "output_type": "stream",
     "text": [
      "[ 0.          0.          0.         ... -0.33417067 -0.3221749\n",
      " -0.34444243] 22050\n"
     ]
    },
    {
     "name": "stderr",
     "output_type": "stream",
     "text": [
      "\r",
      " 92%|██████████████████████████████████████████████████████████████████████████      | 185/200 [10:41<00:59,  3.97s/it]"
     ]
    },
    {
     "name": "stdout",
     "output_type": "stream",
     "text": [
      "[0.         0.         0.         ... 0.347455   0.3373455  0.36364695] 22050\n"
     ]
    },
    {
     "name": "stderr",
     "output_type": "stream",
     "text": [
      "\r",
      " 93%|██████████████████████████████████████████████████████████████████████████▍     | 186/200 [10:45<00:53,  3.81s/it]"
     ]
    },
    {
     "name": "stdout",
     "output_type": "stream",
     "text": [
      "[0.         0.         0.         ... 0.1725766  0.16222253 0.16707501] 22050\n"
     ]
    },
    {
     "name": "stderr",
     "output_type": "stream",
     "text": [
      "\r",
      " 94%|██████████████████████████████████████████████████████████████████████████▊     | 187/200 [10:48<00:47,  3.67s/it]"
     ]
    },
    {
     "name": "stdout",
     "output_type": "stream",
     "text": [
      "[ 0.          0.          0.         ... -0.24855849 -0.23829317\n",
      " -0.256026  ] 22050\n"
     ]
    },
    {
     "name": "stderr",
     "output_type": "stream",
     "text": [
      "\r",
      " 94%|███████████████████████████████████████████████████████████████████████████▏    | 188/200 [10:51<00:41,  3.47s/it]"
     ]
    },
    {
     "name": "stdout",
     "output_type": "stream",
     "text": [
      "[ 0.          0.          0.         ... -0.01667294 -0.01560087\n",
      " -0.0115477 ] 22050\n"
     ]
    },
    {
     "name": "stderr",
     "output_type": "stream",
     "text": [
      "\r",
      " 94%|███████████████████████████████████████████████████████████████████████████▌    | 189/200 [10:54<00:37,  3.37s/it]"
     ]
    },
    {
     "name": "stdout",
     "output_type": "stream",
     "text": [
      "[ 0.          0.          0.         ... -0.45861322 -0.44130135\n",
      " -0.47330338] 22050\n"
     ]
    },
    {
     "name": "stderr",
     "output_type": "stream",
     "text": [
      "\r",
      " 95%|████████████████████████████████████████████████████████████████████████████    | 190/200 [10:57<00:33,  3.32s/it]"
     ]
    },
    {
     "name": "stdout",
     "output_type": "stream",
     "text": [
      "[0.         0.         0.         ... 0.19696099 0.19203584 0.20863087] 22050\n"
     ]
    },
    {
     "name": "stderr",
     "output_type": "stream",
     "text": [
      "\r",
      " 96%|████████████████████████████████████████████████████████████████████████████▍   | 191/200 [11:01<00:31,  3.50s/it]"
     ]
    },
    {
     "name": "stdout",
     "output_type": "stream",
     "text": [
      "[ 0.          0.          0.         ... -0.32381535 -0.3152876\n",
      " -0.34117362] 22050\n"
     ]
    },
    {
     "name": "stderr",
     "output_type": "stream",
     "text": [
      "\r",
      " 96%|████████████████████████████████████████████████████████████████████████████▊   | 192/200 [11:06<00:29,  3.73s/it]"
     ]
    },
    {
     "name": "stdout",
     "output_type": "stream",
     "text": [
      "[ 0.          0.          0.         ... -0.10288772 -0.09324349\n",
      " -0.09362342] 22050\n"
     ]
    },
    {
     "name": "stderr",
     "output_type": "stream",
     "text": [
      "\r",
      " 96%|█████████████████████████████████████████████████████████████████████████████▏  | 193/200 [11:08<00:23,  3.38s/it]"
     ]
    },
    {
     "name": "stdout",
     "output_type": "stream",
     "text": [
      "[0.         0.         0.         ... 0.33498755 0.3268274  0.3536819 ] 22050\n"
     ]
    },
    {
     "name": "stderr",
     "output_type": "stream",
     "text": [
      "\r",
      " 97%|█████████████████████████████████████████████████████████████████████████████▌  | 194/200 [11:11<00:19,  3.25s/it]"
     ]
    },
    {
     "name": "stdout",
     "output_type": "stream",
     "text": [
      "[ 0.          0.          0.         ... -0.08299302 -0.09803418\n",
      " -0.1325295 ] 22050\n"
     ]
    },
    {
     "name": "stderr",
     "output_type": "stream",
     "text": [
      "\r",
      " 98%|██████████████████████████████████████████████████████████████████████████████  | 195/200 [11:14<00:15,  3.08s/it]"
     ]
    },
    {
     "name": "stdout",
     "output_type": "stream",
     "text": [
      "[0.         0.         0.         ... 0.08452309 0.0828441  0.08877645] 22050\n"
     ]
    },
    {
     "name": "stderr",
     "output_type": "stream",
     "text": [
      "\r",
      " 98%|██████████████████████████████████████████████████████████████████████████████▍ | 196/200 [11:17<00:12,  3.06s/it]"
     ]
    },
    {
     "name": "stdout",
     "output_type": "stream",
     "text": [
      "[ 0.          0.          0.         ... -0.04810634 -0.04801991\n",
      " -0.05376611] 22050\n"
     ]
    },
    {
     "name": "stderr",
     "output_type": "stream",
     "text": [
      "\r",
      " 98%|██████████████████████████████████████████████████████████████████████████████▊ | 197/200 [11:20<00:08,  2.98s/it]"
     ]
    },
    {
     "name": "stdout",
     "output_type": "stream",
     "text": [
      "[-0.02598874 -0.0382123  -0.03484361 ...  0.12406152  0.12164509\n",
      "  0.1323951 ] 22050\n"
     ]
    },
    {
     "name": "stderr",
     "output_type": "stream",
     "text": [
      "\r",
      " 99%|███████████████████████████████████████████████████████████████████████████████▏| 198/200 [11:22<00:05,  2.78s/it]"
     ]
    },
    {
     "name": "stdout",
     "output_type": "stream",
     "text": [
      "[-0.01149646 -0.01711498 -0.0159144  ...  0.03461452  0.03300812\n",
      "  0.03522639] 22050\n"
     ]
    },
    {
     "name": "stderr",
     "output_type": "stream",
     "text": [
      "\r",
      "100%|███████████████████████████████████████████████████████████████████████████████▌| 199/200 [11:25<00:02,  2.76s/it]"
     ]
    },
    {
     "name": "stdout",
     "output_type": "stream",
     "text": [
      "[ 0.05606284  0.0816527   0.0717218  ... -0.17811102 -0.17212766\n",
      " -0.18611068] 22050\n"
     ]
    },
    {
     "name": "stderr",
     "output_type": "stream",
     "text": [
      "\r",
      "100%|████████████████████████████████████████████████████████████████████████████████| 200/200 [11:27<00:00,  2.58s/it]"
     ]
    },
    {
     "name": "stdout",
     "output_type": "stream",
     "text": [
      "[-0.02320346 -0.03476405 -0.03040946 ...  0.00979789  0.00970868\n",
      "  0.01065934] 22050\n"
     ]
    },
    {
     "name": "stderr",
     "output_type": "stream",
     "text": [
      "\n"
     ]
    },
    {
     "name": "stdout",
     "output_type": "stream",
     "text": [
      "done loading train mfcc\n"
     ]
    },
    {
     "name": "stderr",
     "output_type": "stream",
     "text": [
      "\r",
      "  0%|                                                                                           | 0/85 [00:00<?, ?it/s]"
     ]
    },
    {
     "name": "stdout",
     "output_type": "stream",
     "text": [
      "[ 0.          0.          0.         ... -0.15097117 -0.14199436\n",
      " -0.15616187] 22050\n"
     ]
    },
    {
     "name": "stderr",
     "output_type": "stream",
     "text": [
      "\r",
      "  2%|█▉                                                                                 | 2/85 [00:02<02:01,  1.46s/it]"
     ]
    },
    {
     "name": "stdout",
     "output_type": "stream",
     "text": [
      "[ 0.         0.         0.        ... -1.0097102 -0.9775502 -1.0539925] 22050\n"
     ]
    },
    {
     "name": "stderr",
     "output_type": "stream",
     "text": [
      "\r",
      "  4%|██▉                                                                                | 3/85 [00:05<02:29,  1.82s/it]"
     ]
    },
    {
     "name": "stdout",
     "output_type": "stream",
     "text": [
      "[0.         0.         0.         ... 0.11905885 0.1190711  0.13462272] 22050\n"
     ]
    },
    {
     "name": "stderr",
     "output_type": "stream",
     "text": [
      "\r",
      "  5%|███▉                                                                               | 4/85 [00:09<03:09,  2.33s/it]"
     ]
    },
    {
     "name": "stdout",
     "output_type": "stream",
     "text": [
      "[ 0.          0.          0.         ... -0.14376757 -0.14634912\n",
      " -0.16929877] 22050\n"
     ]
    },
    {
     "name": "stderr",
     "output_type": "stream",
     "text": [
      "\r",
      "  6%|████▉                                                                              | 5/85 [00:12<03:24,  2.56s/it]"
     ]
    },
    {
     "name": "stdout",
     "output_type": "stream",
     "text": [
      "[0.        0.        0.        ... 0.2842634 0.2742911 0.2978991] 22050\n"
     ]
    },
    {
     "name": "stderr",
     "output_type": "stream",
     "text": [
      "\r",
      "  7%|█████▊                                                                             | 6/85 [00:14<03:18,  2.51s/it]"
     ]
    },
    {
     "name": "stdout",
     "output_type": "stream",
     "text": [
      "[ 0.          0.          0.         ... -1.0097158  -0.97754306\n",
      " -1.0540003 ] 22050\n"
     ]
    },
    {
     "name": "stderr",
     "output_type": "stream",
     "text": [
      "\r",
      "  8%|██████▊                                                                            | 7/85 [00:17<03:35,  2.76s/it]"
     ]
    },
    {
     "name": "stdout",
     "output_type": "stream",
     "text": [
      "[ 0.          0.          0.         ... -0.5240373  -0.51735884\n",
      " -0.5599158 ] 22050\n"
     ]
    },
    {
     "name": "stderr",
     "output_type": "stream",
     "text": [
      "\r",
      "  9%|███████▊                                                                           | 8/85 [00:22<04:03,  3.16s/it]"
     ]
    },
    {
     "name": "stdout",
     "output_type": "stream",
     "text": [
      "[ 0.          0.          0.         ... -0.24339022 -0.23302886\n",
      " -0.24892566] 22050\n"
     ]
    },
    {
     "name": "stderr",
     "output_type": "stream",
     "text": [
      "\r",
      " 11%|████████▊                                                                          | 9/85 [00:26<04:22,  3.46s/it]"
     ]
    },
    {
     "name": "stdout",
     "output_type": "stream",
     "text": [
      "[0.         0.         0.         ... 0.07006744 0.06390787 0.06843111] 22050\n"
     ]
    },
    {
     "name": "stderr",
     "output_type": "stream",
     "text": [
      "\r",
      " 12%|█████████▋                                                                        | 10/85 [00:29<04:17,  3.44s/it]"
     ]
    },
    {
     "name": "stdout",
     "output_type": "stream",
     "text": [
      "[0.         0.         0.         ... 0.23463461 0.22792263 0.26713893] 22050\n"
     ]
    },
    {
     "name": "stderr",
     "output_type": "stream",
     "text": [
      "\r",
      " 13%|██████████▌                                                                       | 11/85 [00:32<03:52,  3.14s/it]"
     ]
    },
    {
     "name": "stdout",
     "output_type": "stream",
     "text": [
      "[0.         0.         0.         ... 0.20498481 0.20232959 0.22086047] 22050\n"
     ]
    },
    {
     "name": "stderr",
     "output_type": "stream",
     "text": [
      "\r",
      " 14%|███████████▌                                                                      | 12/85 [00:34<03:41,  3.04s/it]"
     ]
    },
    {
     "name": "stdout",
     "output_type": "stream",
     "text": [
      "[-0.00283933 -0.00401512 -0.00344597 ...  0.0097526   0.01072497\n",
      "  0.        ] 22050\n"
     ]
    },
    {
     "name": "stderr",
     "output_type": "stream",
     "text": [
      "\r",
      " 15%|████████████▌                                                                     | 13/85 [00:37<03:32,  2.95s/it]"
     ]
    },
    {
     "name": "stdout",
     "output_type": "stream",
     "text": [
      "[-0.02181281 -0.03193489 -0.02826805 ...  0.00575696  0.00659533\n",
      "  0.        ] 22050\n"
     ]
    },
    {
     "name": "stderr",
     "output_type": "stream",
     "text": [
      "\r",
      " 16%|█████████████▌                                                                    | 14/85 [00:40<03:27,  2.92s/it]"
     ]
    },
    {
     "name": "stdout",
     "output_type": "stream",
     "text": [
      "[ 0.00773429  0.01167202  0.01085229 ... -0.00154025 -0.00176283\n",
      "  0.        ] 22050\n"
     ]
    },
    {
     "name": "stderr",
     "output_type": "stream",
     "text": [
      "\r",
      " 18%|██████████████▍                                                                   | 15/85 [00:43<03:26,  2.95s/it]"
     ]
    },
    {
     "name": "stdout",
     "output_type": "stream",
     "text": [
      "[-9.4293209e-04 -1.5129785e-03 -1.3976007e-03 ...  2.1218079e-04\n",
      "  7.5372486e-07  0.0000000e+00] 22050\n"
     ]
    },
    {
     "name": "stderr",
     "output_type": "stream",
     "text": [
      "\r",
      " 19%|███████████████▍                                                                  | 16/85 [00:46<03:16,  2.85s/it]"
     ]
    },
    {
     "name": "stdout",
     "output_type": "stream",
     "text": [
      "[ 0.0016893   0.00271707  0.00256709 ... -0.00106804 -0.00115121\n",
      "  0.        ] 22050\n"
     ]
    },
    {
     "name": "stderr",
     "output_type": "stream",
     "text": [
      "\r",
      " 20%|████████████████▍                                                                 | 17/85 [00:49<03:20,  2.95s/it]"
     ]
    },
    {
     "name": "stdout",
     "output_type": "stream",
     "text": [
      "[-8.8425225e-04 -1.0659160e-03 -8.0528628e-04 ... -4.2387831e-04\n",
      " -5.7793855e-05  0.0000000e+00] 22050\n"
     ]
    },
    {
     "name": "stderr",
     "output_type": "stream",
     "text": [
      "\r",
      " 21%|█████████████████▎                                                                | 18/85 [00:52<03:21,  3.01s/it]"
     ]
    },
    {
     "name": "stdout",
     "output_type": "stream",
     "text": [
      "[0.01710793 0.02544549 0.0228809  ... 0.04074765 0.03925414 0.04185763] 22050\n"
     ]
    },
    {
     "name": "stderr",
     "output_type": "stream",
     "text": [
      "\r",
      " 22%|██████████████████▎                                                               | 19/85 [00:55<03:12,  2.92s/it]"
     ]
    },
    {
     "name": "stdout",
     "output_type": "stream",
     "text": [
      "[ 0.          0.          0.         ... -0.00365696  0.00048274\n",
      " -0.00258029] 22050\n"
     ]
    },
    {
     "name": "stderr",
     "output_type": "stream",
     "text": [
      "\r",
      " 24%|███████████████████▎                                                              | 20/85 [00:58<03:18,  3.05s/it]"
     ]
    },
    {
     "name": "stdout",
     "output_type": "stream",
     "text": [
      "[ 0.          0.          0.         ... -0.15257472 -0.14495775\n",
      " -0.1533123 ] 22050\n"
     ]
    },
    {
     "name": "stderr",
     "output_type": "stream",
     "text": [
      "\r",
      " 25%|████████████████████▎                                                             | 21/85 [01:02<03:25,  3.21s/it]"
     ]
    },
    {
     "name": "stdout",
     "output_type": "stream",
     "text": [
      "[ 0.          0.          0.         ... -0.11059644 -0.1085563\n",
      " -0.12142587] 22050\n"
     ]
    },
    {
     "name": "stderr",
     "output_type": "stream",
     "text": [
      "\r",
      " 26%|█████████████████████▏                                                            | 22/85 [01:05<03:26,  3.28s/it]"
     ]
    },
    {
     "name": "stdout",
     "output_type": "stream",
     "text": [
      "[ 0.          0.          0.         ... -0.02616313 -0.02832824\n",
      " -0.03311377] 22050\n"
     ]
    },
    {
     "name": "stderr",
     "output_type": "stream",
     "text": [
      "\r",
      " 27%|██████████████████████▏                                                           | 23/85 [01:07<03:07,  3.02s/it]"
     ]
    },
    {
     "name": "stdout",
     "output_type": "stream",
     "text": [
      "[ 0.          0.          0.         ... -0.10821859 -0.10085784\n",
      " -0.10736299] 22050\n"
     ]
    },
    {
     "name": "stderr",
     "output_type": "stream",
     "text": [
      "\r",
      " 28%|███████████████████████▏                                                          | 24/85 [01:11<03:21,  3.31s/it]"
     ]
    },
    {
     "name": "stdout",
     "output_type": "stream",
     "text": [
      "[0.         0.         0.         ... 0.26945388 0.2562324  0.27221316] 22050\n"
     ]
    },
    {
     "name": "stderr",
     "output_type": "stream",
     "text": [
      "\r",
      " 29%|████████████████████████                                                          | 25/85 [01:16<03:34,  3.57s/it]"
     ]
    },
    {
     "name": "stdout",
     "output_type": "stream",
     "text": [
      "[ 0.          0.          0.         ... -0.05926341 -0.05534621\n",
      " -0.05793385] 22050\n"
     ]
    },
    {
     "name": "stderr",
     "output_type": "stream",
     "text": [
      "\r",
      " 31%|█████████████████████████                                                         | 26/85 [01:19<03:35,  3.66s/it]"
     ]
    },
    {
     "name": "stdout",
     "output_type": "stream",
     "text": [
      "[ 0.          0.          0.         ... -0.04694906 -0.05055835\n",
      " -0.06256957] 22050\n"
     ]
    },
    {
     "name": "stderr",
     "output_type": "stream",
     "text": [
      "\r",
      " 32%|██████████████████████████                                                        | 27/85 [01:23<03:31,  3.65s/it]"
     ]
    },
    {
     "name": "stdout",
     "output_type": "stream",
     "text": [
      "[0.         0.         0.         ... 0.17112456 0.16861391 0.18079142] 22050\n"
     ]
    },
    {
     "name": "stderr",
     "output_type": "stream",
     "text": [
      "\r",
      " 33%|███████████████████████████                                                       | 28/85 [01:26<03:23,  3.57s/it]"
     ]
    },
    {
     "name": "stdout",
     "output_type": "stream",
     "text": [
      "[0.         0.         0.         ... 0.09519187 0.0919826  0.10184121] 22050\n"
     ]
    },
    {
     "name": "stderr",
     "output_type": "stream",
     "text": [
      "\r",
      " 34%|███████████████████████████▉                                                      | 29/85 [01:30<03:13,  3.46s/it]"
     ]
    },
    {
     "name": "stdout",
     "output_type": "stream",
     "text": [
      "[0.         0.         0.         ... 0.20328416 0.19927321 0.21701668] 22050\n"
     ]
    },
    {
     "name": "stderr",
     "output_type": "stream",
     "text": [
      "\r",
      " 35%|████████████████████████████▉                                                     | 30/85 [01:34<03:22,  3.68s/it]"
     ]
    },
    {
     "name": "stdout",
     "output_type": "stream",
     "text": [
      "[0.         0.         0.         ... 0.1784105  0.17279524 0.18705997] 22050\n"
     ]
    },
    {
     "name": "stderr",
     "output_type": "stream",
     "text": [
      "\r",
      " 36%|█████████████████████████████▉                                                    | 31/85 [01:38<03:21,  3.73s/it]"
     ]
    },
    {
     "name": "stdout",
     "output_type": "stream",
     "text": [
      "[0.         0.         0.         ... 0.15806355 0.15504608 0.16754578] 22050\n"
     ]
    },
    {
     "name": "stderr",
     "output_type": "stream",
     "text": [
      "\r",
      " 38%|██████████████████████████████▊                                                   | 32/85 [01:41<03:14,  3.66s/it]"
     ]
    },
    {
     "name": "stdout",
     "output_type": "stream",
     "text": [
      "[0.         0.         0.         ... 0.02381264 0.02345375 0.02424698] 22050\n"
     ]
    },
    {
     "name": "stderr",
     "output_type": "stream",
     "text": [
      "\r",
      " 39%|███████████████████████████████▊                                                  | 33/85 [01:45<03:20,  3.85s/it]"
     ]
    },
    {
     "name": "stdout",
     "output_type": "stream",
     "text": [
      "[0.         0.         0.         ... 0.0633135  0.06167608 0.06543391] 22050\n"
     ]
    },
    {
     "name": "stderr",
     "output_type": "stream",
     "text": [
      "\r",
      " 40%|████████████████████████████████▊                                                 | 34/85 [01:49<03:04,  3.61s/it]"
     ]
    },
    {
     "name": "stdout",
     "output_type": "stream",
     "text": [
      "[0.         0.         0.         ... 0.06957164 0.06568859 0.06777759] 22050\n"
     ]
    },
    {
     "name": "stderr",
     "output_type": "stream",
     "text": [
      "\r",
      " 41%|█████████████████████████████████▊                                                | 35/85 [01:52<03:00,  3.62s/it]"
     ]
    },
    {
     "name": "stdout",
     "output_type": "stream",
     "text": [
      "[0.         0.         0.         ... 0.5169264  0.49420917 0.52765614] 22050\n"
     ]
    },
    {
     "name": "stderr",
     "output_type": "stream",
     "text": [
      "\r",
      " 42%|██████████████████████████████████▋                                               | 36/85 [01:56<03:07,  3.83s/it]"
     ]
    },
    {
     "name": "stdout",
     "output_type": "stream",
     "text": [
      "[ 0.          0.          0.         ... -0.6361075  -0.61864734\n",
      " -0.67175263] 22050\n"
     ]
    },
    {
     "name": "stderr",
     "output_type": "stream",
     "text": [
      "\r",
      " 44%|███████████████████████████████████▋                                              | 37/85 [02:00<03:00,  3.77s/it]"
     ]
    },
    {
     "name": "stdout",
     "output_type": "stream",
     "text": [
      "[0.         0.         0.         ... 0.45760438 0.44249195 0.47693253] 22050\n"
     ]
    },
    {
     "name": "stderr",
     "output_type": "stream",
     "text": [
      "\r",
      " 45%|████████████████████████████████████▋                                             | 38/85 [02:03<02:39,  3.39s/it]"
     ]
    },
    {
     "name": "stdout",
     "output_type": "stream",
     "text": [
      "[ 0.          0.          0.         ... -0.07948826 -0.07436877\n",
      " -0.08173631] 22050\n"
     ]
    },
    {
     "name": "stderr",
     "output_type": "stream",
     "text": [
      "\r",
      " 46%|█████████████████████████████████████▌                                            | 39/85 [02:05<02:28,  3.22s/it]"
     ]
    },
    {
     "name": "stdout",
     "output_type": "stream",
     "text": [
      "[0.         0.         0.         ... 0.09586173 0.09115418 0.0959226 ] 22050\n"
     ]
    },
    {
     "name": "stderr",
     "output_type": "stream",
     "text": [
      "\r",
      " 47%|██████████████████████████████████████▌                                           | 40/85 [02:09<02:32,  3.39s/it]"
     ]
    },
    {
     "name": "stdout",
     "output_type": "stream",
     "text": [
      "[0.         0.         0.         ... 0.00059579 0.00040884 0.00018524] 22050\n"
     ]
    },
    {
     "name": "stderr",
     "output_type": "stream",
     "text": [
      "\r",
      " 48%|███████████████████████████████████████▌                                          | 41/85 [02:12<02:19,  3.17s/it]"
     ]
    },
    {
     "name": "stdout",
     "output_type": "stream",
     "text": [
      "[0.         0.         0.         ... 0.00061468 0.00073731 0.0010129 ] 22050\n"
     ]
    },
    {
     "name": "stderr",
     "output_type": "stream",
     "text": [
      "\r",
      " 49%|████████████████████████████████████████▌                                         | 42/85 [02:15<02:12,  3.09s/it]"
     ]
    },
    {
     "name": "stdout",
     "output_type": "stream",
     "text": [
      "[0.         0.         0.         ... 0.00469436 0.00457318 0.00489088] 22050\n"
     ]
    },
    {
     "name": "stderr",
     "output_type": "stream",
     "text": [
      "\r",
      " 51%|█████████████████████████████████████████▍                                        | 43/85 [02:18<02:10,  3.10s/it]"
     ]
    },
    {
     "name": "stdout",
     "output_type": "stream",
     "text": [
      "[ 0.          0.          0.         ... -0.03966789 -0.00456789\n",
      " -0.01253633] 22050\n"
     ]
    },
    {
     "name": "stderr",
     "output_type": "stream",
     "text": [
      "\r",
      " 52%|██████████████████████████████████████████▍                                       | 44/85 [02:20<01:56,  2.84s/it]"
     ]
    },
    {
     "name": "stdout",
     "output_type": "stream",
     "text": [
      "[ 0.          0.          0.         ... -0.01443889 -0.0036065\n",
      "  0.00768639] 22050\n"
     ]
    },
    {
     "name": "stderr",
     "output_type": "stream",
     "text": [
      "\r",
      " 53%|███████████████████████████████████████████▍                                      | 45/85 [02:23<01:51,  2.79s/it]"
     ]
    },
    {
     "name": "stdout",
     "output_type": "stream",
     "text": [
      "[0.         0.         0.         ... 0.02293075 0.02522327 0.02491388] 22050\n"
     ]
    },
    {
     "name": "stderr",
     "output_type": "stream",
     "text": [
      "\r",
      " 54%|████████████████████████████████████████████▍                                     | 46/85 [02:25<01:43,  2.64s/it]"
     ]
    },
    {
     "name": "stdout",
     "output_type": "stream",
     "text": [
      "[ 0.          0.          0.         ... -0.01902727 -0.01628051\n",
      " -0.00893455] 22050\n"
     ]
    },
    {
     "name": "stderr",
     "output_type": "stream",
     "text": [
      "\r",
      " 55%|█████████████████████████████████████████████▎                                    | 47/85 [02:27<01:35,  2.52s/it]"
     ]
    },
    {
     "name": "stdout",
     "output_type": "stream",
     "text": [
      "[0.         0.         0.         ... 0.0115454  0.01240722 0.01308329] 22050\n"
     ]
    },
    {
     "name": "stderr",
     "output_type": "stream",
     "text": [
      "\r",
      " 56%|██████████████████████████████████████████████▎                                   | 48/85 [02:30<01:32,  2.51s/it]"
     ]
    },
    {
     "name": "stdout",
     "output_type": "stream",
     "text": [
      "[0.         0.         0.         ... 0.01450576 0.01357326 0.01446307] 22050\n"
     ]
    },
    {
     "name": "stderr",
     "output_type": "stream",
     "text": [
      "\r",
      " 58%|███████████████████████████████████████████████▎                                  | 49/85 [02:32<01:29,  2.50s/it]"
     ]
    },
    {
     "name": "stdout",
     "output_type": "stream",
     "text": [
      "[ 0.          0.          0.         ... -0.12028453 -0.11824434\n",
      " -0.13014063] 22050\n"
     ]
    },
    {
     "name": "stderr",
     "output_type": "stream",
     "text": [
      "\r",
      " 59%|████████████████████████████████████████████████▏                                 | 50/85 [02:35<01:27,  2.49s/it]"
     ]
    },
    {
     "name": "stdout",
     "output_type": "stream",
     "text": [
      "[0.         0.         0.         ... 0.0605499  0.05868293 0.06159526] 22050\n"
     ]
    },
    {
     "name": "stderr",
     "output_type": "stream",
     "text": [
      "\r",
      " 60%|█████████████████████████████████████████████████▏                                | 51/85 [02:38<01:31,  2.68s/it]"
     ]
    },
    {
     "name": "stdout",
     "output_type": "stream",
     "text": [
      "[0.         0.         0.         ... 0.01557782 0.01462343 0.01515078] 22050\n"
     ]
    },
    {
     "name": "stderr",
     "output_type": "stream",
     "text": [
      "\r",
      " 61%|██████████████████████████████████████████████████▏                               | 52/85 [02:41<01:36,  2.92s/it]"
     ]
    },
    {
     "name": "stdout",
     "output_type": "stream",
     "text": [
      "[ 0.          0.          0.         ... -0.02254345 -0.02208381\n",
      " -0.02349323] 22050\n"
     ]
    },
    {
     "name": "stderr",
     "output_type": "stream",
     "text": [
      "\r",
      " 62%|███████████████████████████████████████████████████▏                              | 53/85 [02:45<01:39,  3.11s/it]"
     ]
    },
    {
     "name": "stdout",
     "output_type": "stream",
     "text": [
      "[ 0.          0.          0.         ... -0.04213747 -0.04335009\n",
      " -0.05171286] 22050\n"
     ]
    },
    {
     "name": "stderr",
     "output_type": "stream",
     "text": [
      "\r",
      " 64%|████████████████████████████████████████████████████                              | 54/85 [02:48<01:32,  2.98s/it]"
     ]
    },
    {
     "name": "stdout",
     "output_type": "stream",
     "text": [
      "[ 0.          0.          0.         ... -0.00891681 -0.00817552\n",
      " -0.00768843] 22050\n"
     ]
    },
    {
     "name": "stderr",
     "output_type": "stream",
     "text": [
      "\r",
      " 65%|█████████████████████████████████████████████████████                             | 55/85 [02:51<01:36,  3.21s/it]"
     ]
    },
    {
     "name": "stdout",
     "output_type": "stream",
     "text": [
      "[0.         0.         0.         ... 0.02309799 0.02317885 0.02198694] 22050\n"
     ]
    },
    {
     "name": "stderr",
     "output_type": "stream",
     "text": [
      "\r",
      " 66%|██████████████████████████████████████████████████████                            | 56/85 [02:55<01:35,  3.28s/it]"
     ]
    },
    {
     "name": "stdout",
     "output_type": "stream",
     "text": [
      "[0.         0.         0.         ... 0.0338887  0.03054287 0.0315167 ] 22050\n"
     ]
    },
    {
     "name": "stderr",
     "output_type": "stream",
     "text": [
      "\r",
      " 67%|██████████████████████████████████████████████████████▉                           | 57/85 [02:58<01:32,  3.32s/it]"
     ]
    },
    {
     "name": "stdout",
     "output_type": "stream",
     "text": [
      "[0.         0.         0.         ... 0.00358016 0.0029045  0.00199023] 22050\n"
     ]
    },
    {
     "name": "stderr",
     "output_type": "stream",
     "text": [
      "\r",
      " 68%|███████████████████████████████████████████████████████▉                          | 58/85 [03:01<01:29,  3.30s/it]"
     ]
    },
    {
     "name": "stdout",
     "output_type": "stream",
     "text": [
      "[0.         0.         0.         ... 0.04359322 0.04235546 0.04606871] 22050\n"
     ]
    },
    {
     "name": "stderr",
     "output_type": "stream",
     "text": [
      "\r",
      " 69%|████████████████████████████████████████████████████████▉                         | 59/85 [03:04<01:21,  3.12s/it]"
     ]
    },
    {
     "name": "stdout",
     "output_type": "stream",
     "text": [
      "[0.         0.         0.         ... 0.07358634 0.06766799 0.07189249] 22050\n"
     ]
    },
    {
     "name": "stderr",
     "output_type": "stream",
     "text": [
      "\r",
      " 71%|█████████████████████████████████████████████████████████▉                        | 60/85 [03:07<01:13,  2.95s/it]"
     ]
    },
    {
     "name": "stdout",
     "output_type": "stream",
     "text": [
      "[ 0.          0.          0.         ... -0.06227456 -0.05999418\n",
      " -0.06597839] 22050\n"
     ]
    },
    {
     "name": "stderr",
     "output_type": "stream",
     "text": [
      "\r",
      " 72%|██████████████████████████████████████████████████████████▊                       | 61/85 [03:09<01:08,  2.84s/it]"
     ]
    },
    {
     "name": "stdout",
     "output_type": "stream",
     "text": [
      "[0.         0.         0.         ... 0.05142609 0.04925839 0.05164963] 22050\n"
     ]
    },
    {
     "name": "stderr",
     "output_type": "stream",
     "text": [
      "\r",
      " 73%|███████████████████████████████████████████████████████████▊                      | 62/85 [03:12<01:04,  2.79s/it]"
     ]
    },
    {
     "name": "stdout",
     "output_type": "stream",
     "text": [
      "[ 0.          0.          0.         ... -0.00450196 -0.00267744\n",
      " -0.00234501] 22050\n"
     ]
    },
    {
     "name": "stderr",
     "output_type": "stream",
     "text": [
      "\r",
      " 74%|████████████████████████████████████████████████████████████▊                     | 63/85 [03:14<00:56,  2.58s/it]"
     ]
    },
    {
     "name": "stdout",
     "output_type": "stream",
     "text": [
      "[ 0.          0.          0.         ... -0.02519566 -0.02452996\n",
      " -0.02345673] 22050\n"
     ]
    },
    {
     "name": "stderr",
     "output_type": "stream",
     "text": [
      "\r",
      " 75%|█████████████████████████████████████████████████████████████▋                    | 64/85 [03:17<00:54,  2.60s/it]"
     ]
    },
    {
     "name": "stdout",
     "output_type": "stream",
     "text": [
      "[0.         0.         0.         ... 0.08202307 0.08476666 0.09766038] 22050\n"
     ]
    },
    {
     "name": "stderr",
     "output_type": "stream",
     "text": [
      "\r",
      " 76%|██████████████████████████████████████████████████████████████▋                   | 65/85 [03:19<00:50,  2.55s/it]"
     ]
    },
    {
     "name": "stdout",
     "output_type": "stream",
     "text": [
      "[ 0.          0.          0.         ... -0.03965227 -0.04023258\n",
      " -0.04159994] 22050\n"
     ]
    },
    {
     "name": "stderr",
     "output_type": "stream",
     "text": [
      "\r",
      " 78%|███████████████████████████████████████████████████████████████▋                  | 66/85 [03:22<00:48,  2.53s/it]"
     ]
    },
    {
     "name": "stdout",
     "output_type": "stream",
     "text": [
      "[0.         0.         0.         ... 0.26817232 0.25902474 0.280427  ] 22050\n"
     ]
    },
    {
     "name": "stderr",
     "output_type": "stream",
     "text": [
      "\r",
      " 79%|████████████████████████████████████████████████████████████████▋                 | 67/85 [03:25<00:48,  2.67s/it]"
     ]
    },
    {
     "name": "stdout",
     "output_type": "stream",
     "text": [
      "[0.         0.         0.         ... 0.00342826 0.00317979 0.00364171] 22050\n"
     ]
    },
    {
     "name": "stderr",
     "output_type": "stream",
     "text": [
      "\r",
      " 80%|█████████████████████████████████████████████████████████████████▌                | 68/85 [03:27<00:43,  2.57s/it]"
     ]
    },
    {
     "name": "stdout",
     "output_type": "stream",
     "text": [
      "[0.         0.         0.         ... 0.07517342 0.07454691 0.07867888] 22050\n"
     ]
    },
    {
     "name": "stderr",
     "output_type": "stream",
     "text": [
      "\r",
      " 81%|██████████████████████████████████████████████████████████████████▌               | 69/85 [03:30<00:41,  2.60s/it]"
     ]
    },
    {
     "name": "stdout",
     "output_type": "stream",
     "text": [
      "[-0.07247163 -0.10745685 -0.09690773 ...  0.05467346  0.05316706\n",
      "  0.05753393] 22050\n"
     ]
    },
    {
     "name": "stderr",
     "output_type": "stream",
     "text": [
      "\r",
      " 82%|███████████████████████████████████████████████████████████████████▌              | 70/85 [03:32<00:36,  2.47s/it]"
     ]
    },
    {
     "name": "stdout",
     "output_type": "stream",
     "text": [
      "[-0.05803953 -0.08320587 -0.07533526 ...  0.03917618  0.0369745\n",
      "  0.04105215] 22050\n"
     ]
    },
    {
     "name": "stderr",
     "output_type": "stream",
     "text": [
      "\r",
      " 84%|████████████████████████████████████████████████████████████████████▍             | 71/85 [03:35<00:35,  2.57s/it]"
     ]
    },
    {
     "name": "stdout",
     "output_type": "stream",
     "text": [
      "[ 0.17166029  0.250432    0.21842906 ... -0.03571897 -0.03179305\n",
      " -0.03728459] 22050\n"
     ]
    },
    {
     "name": "stderr",
     "output_type": "stream",
     "text": [
      "\r",
      " 85%|█████████████████████████████████████████████████████████████████████▍            | 72/85 [03:37<00:32,  2.49s/it]"
     ]
    },
    {
     "name": "stdout",
     "output_type": "stream",
     "text": [
      "[0.         0.         0.         ... 0.3051465  0.29893237 0.3225977 ] 22050\n"
     ]
    },
    {
     "name": "stderr",
     "output_type": "stream",
     "text": [
      "\r",
      " 86%|██████████████████████████████████████████████████████████████████████▍           | 73/85 [03:39<00:29,  2.50s/it]"
     ]
    },
    {
     "name": "stdout",
     "output_type": "stream",
     "text": [
      "[0.         0.         0.         ... 0.7375129  0.72093195 0.78232914] 22050\n"
     ]
    },
    {
     "name": "stderr",
     "output_type": "stream",
     "text": [
      "\r",
      " 87%|███████████████████████████████████████████████████████████████████████▍          | 74/85 [03:42<00:27,  2.49s/it]"
     ]
    },
    {
     "name": "stdout",
     "output_type": "stream",
     "text": [
      "[ 0.          0.          0.         ... -0.00942516 -0.00825206\n",
      " -0.00559559] 22050\n"
     ]
    },
    {
     "name": "stderr",
     "output_type": "stream",
     "text": [
      "\r",
      " 88%|████████████████████████████████████████████████████████████████████████▎         | 75/85 [03:45<00:26,  2.60s/it]"
     ]
    },
    {
     "name": "stdout",
     "output_type": "stream",
     "text": [
      "[0.         0.         0.         ... 0.15102854 0.14400037 0.16173281] 22050\n"
     ]
    },
    {
     "name": "stderr",
     "output_type": "stream",
     "text": [
      "\r",
      " 89%|█████████████████████████████████████████████████████████████████████████▎        | 76/85 [03:48<00:23,  2.66s/it]"
     ]
    },
    {
     "name": "stdout",
     "output_type": "stream",
     "text": [
      "[ 0.          0.          0.         ... -0.06790091 -0.10178107\n",
      " -0.13769501] 22050\n"
     ]
    },
    {
     "name": "stderr",
     "output_type": "stream",
     "text": [
      "\r",
      " 91%|██████████████████████████████████████████████████████████████████████████▎       | 77/85 [03:50<00:21,  2.63s/it]"
     ]
    },
    {
     "name": "stdout",
     "output_type": "stream",
     "text": [
      "[0.         0.         0.         ... 0.02256879 0.02788899 0.03947941] 22050\n"
     ]
    },
    {
     "name": "stderr",
     "output_type": "stream",
     "text": [
      "\r",
      " 92%|███████████████████████████████████████████████████████████████████████████▏      | 78/85 [03:53<00:18,  2.70s/it]"
     ]
    },
    {
     "name": "stdout",
     "output_type": "stream",
     "text": [
      "[ 0.          0.          0.         ... -0.45220456 -0.43463495\n",
      " -0.45182434] 22050\n"
     ]
    },
    {
     "name": "stderr",
     "output_type": "stream",
     "text": [
      "\r",
      " 93%|████████████████████████████████████████████████████████████████████████████▏     | 79/85 [03:56<00:17,  2.91s/it]"
     ]
    },
    {
     "name": "stdout",
     "output_type": "stream",
     "text": [
      "[ 0.          0.          0.         ... -0.39158678 -0.38113743\n",
      " -0.41354823] 22050\n"
     ]
    },
    {
     "name": "stderr",
     "output_type": "stream",
     "text": [
      "\r",
      " 94%|█████████████████████████████████████████████████████████████████████████████▏    | 80/85 [04:00<00:15,  3.10s/it]"
     ]
    },
    {
     "name": "stdout",
     "output_type": "stream",
     "text": [
      "[0.         0.         0.         ... 0.06476758 0.05989117 0.0667561 ] 22050\n"
     ]
    },
    {
     "name": "stderr",
     "output_type": "stream",
     "text": [
      "\r",
      " 95%|██████████████████████████████████████████████████████████████████████████████▏   | 81/85 [04:04<00:13,  3.28s/it]"
     ]
    },
    {
     "name": "stdout",
     "output_type": "stream",
     "text": [
      "[0.        0.        0.        ... 1.0092846 0.9777773 1.0537751] 22050\n"
     ]
    },
    {
     "name": "stderr",
     "output_type": "stream",
     "text": [
      "\r",
      " 96%|███████████████████████████████████████████████████████████████████████████████   | 82/85 [04:08<00:10,  3.57s/it]"
     ]
    },
    {
     "name": "stdout",
     "output_type": "stream",
     "text": [
      "[0.         0.         0.         ... 0.02226742 0.02208254 0.02119073] 22050\n"
     ]
    },
    {
     "name": "stderr",
     "output_type": "stream",
     "text": [
      "\r",
      " 98%|████████████████████████████████████████████████████████████████████████████████  | 83/85 [04:12<00:07,  3.79s/it]"
     ]
    },
    {
     "name": "stdout",
     "output_type": "stream",
     "text": [
      "[0.         0.         0.         ... 0.02370285 0.02627874 0.028067  ] 22050\n"
     ]
    },
    {
     "name": "stderr",
     "output_type": "stream",
     "text": [
      "\r",
      " 99%|█████████████████████████████████████████████████████████████████████████████████ | 84/85 [04:17<00:03,  3.99s/it]"
     ]
    },
    {
     "name": "stdout",
     "output_type": "stream",
     "text": [
      "[ 0.          0.          0.         ... -0.22099693 -0.21257466\n",
      " -0.23776534] 22050\n"
     ]
    },
    {
     "name": "stderr",
     "output_type": "stream",
     "text": [
      "\r",
      "100%|██████████████████████████████████████████████████████████████████████████████████| 85/85 [04:21<00:00,  4.01s/it]"
     ]
    },
    {
     "name": "stdout",
     "output_type": "stream",
     "text": [
      "[ 0.          0.          0.         ... -0.05103435 -0.05238643\n",
      " -0.05545169] 22050\n"
     ]
    },
    {
     "name": "stderr",
     "output_type": "stream",
     "text": [
      "\n"
     ]
    },
    {
     "name": "stdout",
     "output_type": "stream",
     "text": [
      "done loading test mfcc\n"
     ]
    }
   ],
   "source": [
    "train_data=train_data['fname'].progress_apply(get_mfcc,path='./audio_train/')\n",
    "print('done loading train mfcc')\n",
    "test_data = test_data['fname'].progress_apply(get_mfcc, path='./audio_test/')\n",
    "print('done loading test mfcc')\n",
    "\n"
   ]
  },
  {
   "cell_type": "code",
   "execution_count": 8,
   "metadata": {},
   "outputs": [],
   "source": [
    "train_data['fname'] = train['fname']\n",
    "train_data['label'] = train['label']\n",
    "\n",
    "test_data['fname'] = audio_test_files\n",
    "test_data['label'] = np.zeros((len(audio_test_files)))"
   ]
  },
  {
   "cell_type": "code",
   "execution_count": 9,
   "metadata": {},
   "outputs": [
    {
     "name": "stdout",
     "output_type": "stream",
     "text": [
      "             0           1          2          3          4          5  \\\n",
      "0  -267.313418   96.330247  20.233180  28.502039  25.393421  21.782721   \n",
      "1  -222.562185  136.710127  38.600022  30.539879  30.992133  32.360694   \n",
      "2  -244.793261  110.656752  43.300727  37.123352  24.064541  25.433031   \n",
      "3  -251.776179  112.736151  52.861586  47.129276  28.793808  27.698803   \n",
      "4  -281.348908   99.808704  44.638440  40.706196  24.530827  22.223207   \n",
      "5  -340.028980  110.699827  61.058831  35.058623  23.030779  17.747393   \n",
      "6  -234.578206  108.138543   9.344659  25.819095  35.051896  24.856447   \n",
      "7  -333.000110  126.510478  44.034009  13.226806  22.205446  30.079658   \n",
      "8  -250.634109  114.099916  51.155329  44.444270  26.146093  25.961704   \n",
      "9  -258.714516  117.643752  54.242318  44.693020  23.446674  19.888562   \n",
      "10 -381.236063  137.910320  65.185227  23.471304  14.346533  11.323471   \n",
      "11 -557.548468  162.194156  63.283019  12.552541  15.184510  27.278119   \n",
      "12 -554.969223  146.348454  69.392360  18.522603  13.696608  25.363120   \n",
      "13 -560.846163  171.266327  57.678981  11.136121  16.437208  27.598577   \n",
      "14 -526.142591  119.919770  66.830579  25.115438  14.419324  21.833412   \n",
      "15 -535.025300  148.955201  62.462931  12.788364  15.097026  29.381910   \n",
      "16 -525.162256  119.898006  66.461381  24.766131  14.627298  22.725132   \n",
      "17 -501.198635   87.322078  49.297842  31.007686  27.369670  28.939828   \n",
      "18 -241.424660  135.844529  46.776977  29.697828  22.145766  27.922961   \n",
      "19 -297.162656  139.948777  58.373818  30.997246  25.395077  27.335369   \n",
      "20 -222.656500  132.531352  23.948603  12.142144  16.139866  31.291653   \n",
      "21 -332.892862  137.313384  70.755025  42.428829  29.004408  23.189626   \n",
      "22 -343.632350  120.067988  55.543880  44.697585  24.351633  21.718963   \n",
      "23 -339.083429  142.925741  75.284860  29.414115  15.582008  12.844697   \n",
      "24 -317.170966  144.082155  60.563607  37.455743  25.833878  23.834156   \n",
      "25 -346.177828  114.792984  73.778513  44.865341  35.187826  32.497126   \n",
      "26 -333.882527  144.034162  79.007705  53.973471  32.496769  21.597696   \n",
      "27 -340.897512  123.076590  61.390134  49.832092  28.657865  22.161744   \n",
      "28 -302.142362  170.703939  73.081963  20.237414  11.880201  10.758565   \n",
      "29 -335.533402  131.043729  52.846205  34.630506  25.630154  30.848904   \n",
      "..         ...         ...        ...        ...        ...        ...   \n",
      "55 -430.560910  125.255736  67.561193  49.667382  36.760470  30.478501   \n",
      "56 -321.172948  124.698614  53.684974  28.201271  31.866888  28.196970   \n",
      "57 -369.067580   86.213887  72.363900  56.071066  41.321486  29.965300   \n",
      "58 -343.406106  107.411238  47.141389  43.807638  26.780237  27.921778   \n",
      "59 -393.521726  123.673555  59.545989  43.187305  33.356576  32.029594   \n",
      "60 -337.088182  136.449835  58.382130  29.264466  30.901241  28.146510   \n",
      "61 -380.857841  105.337205  49.288937  45.363789  29.805388  28.234982   \n",
      "62 -384.566736  111.106663  40.030109  35.817797  27.027529  32.441857   \n",
      "63 -336.283275  136.085164  71.111628  47.508020  34.514109  29.056460   \n",
      "64 -324.711069  103.947685  29.571687  33.575298  23.399989  15.552080   \n",
      "65 -242.396664  101.438963  35.435381  45.375708  19.417982  31.189144   \n",
      "66 -395.410531  108.413067  47.998280  43.992215  25.566937  25.421264   \n",
      "67 -345.048701  107.118101  40.360580  37.685952  28.227411  30.704739   \n",
      "68 -488.082553  103.211177  67.558393  32.826552  28.235102  29.319544   \n",
      "69 -502.474028  103.542315  67.294445  14.978878  35.339427  34.152347   \n",
      "70 -453.441767   71.073025  61.150865  42.534025  41.370775  34.106054   \n",
      "71 -356.892391  130.831497  54.858914  28.145538  30.464644  29.946034   \n",
      "72 -266.186117  158.728430  59.097548  36.367099  31.557149  28.252058   \n",
      "73 -366.134520  154.110769  59.910564  34.629570  16.538310  17.314559   \n",
      "74 -273.119846  112.444452  49.553381  45.935693  28.376844  28.427326   \n",
      "75 -285.750173  179.966353  28.620410  13.555566  27.543313  29.288408   \n",
      "76 -321.779887  129.229229  47.677958  23.974773  29.139315  29.109575   \n",
      "77 -284.228549  151.333587  51.815894  28.640603  30.995241  26.930421   \n",
      "78 -354.385537  141.548839  52.786980  34.528552  20.591884  20.242890   \n",
      "79 -286.606165  111.441528  42.237212  40.210805  24.204527  26.098373   \n",
      "80 -287.006941  137.495534  12.056930  25.799917  21.631604  28.961263   \n",
      "81 -349.952218  113.974393  52.037291  33.893254  31.399720  28.479857   \n",
      "82 -310.553621  127.585417  62.844958  36.400098  32.334826  27.322694   \n",
      "83 -237.814337  127.395993  55.510039  41.996013  22.329780  21.444021   \n",
      "84 -299.057150   99.073540  40.855464  41.512240  23.738311  25.076993   \n",
      "\n",
      "            6          7          8          9  ...          202        203  \\\n",
      "0    9.844472  17.799839  10.202923  11.605820  ...    19.254391   7.593685   \n",
      "1   16.360796  13.780236  11.881543  15.305790  ...    18.566109   9.363407   \n",
      "2   17.438086  17.273141  11.765144  13.873489  ...    18.159032   9.439936   \n",
      "3   18.106682  19.260449  11.678519  12.779481  ...    17.425851   7.353085   \n",
      "4   14.496802  14.382642   9.772647  11.728473  ...    20.136737   9.238422   \n",
      "5   14.822241   7.828815   6.122515  11.494961  ...    18.516080   5.938695   \n",
      "6   12.213468  25.507648  18.380349  12.735423  ...    18.471221   9.515938   \n",
      "7   28.124687  22.161800  15.486977  11.055436  ...    21.163599   9.599615   \n",
      "8   16.393448  17.667718  10.183351  11.892547  ...    18.510921   8.713681   \n",
      "9   11.069567  12.633924   8.530581  11.313391  ...    18.850009   6.376359   \n",
      "10   6.509168   7.851433  14.240012  17.105981  ...    18.656789   5.041890   \n",
      "11  25.330053  14.256835   7.792843  10.497327  ...    15.864780   6.611443   \n",
      "12  25.090377  13.935755   7.388915   9.959985  ...    15.825817   4.853111   \n",
      "13  24.803418  13.034766   4.586914   8.525161  ...    15.472186   4.137439   \n",
      "14  25.027076  17.703623   9.271376   7.414839  ...    16.006250   8.473212   \n",
      "15  26.353744  11.903144   4.479808   8.904716  ...    16.023484   5.473588   \n",
      "16  26.028523  17.899008   8.273996   5.915269  ...    15.656817   6.109399   \n",
      "17  21.130361  17.902436  11.540178  10.484594  ...    24.662274  11.240853   \n",
      "18  21.386099  19.076321  12.556901  12.844160  ...    18.390753   6.939576   \n",
      "19  25.331858  19.761785  14.494123  11.651313  ...    19.571430   9.605892   \n",
      "20  20.282313  17.770092   9.473786  13.194995  ...    18.083945   7.879996   \n",
      "21  18.875832  13.262951   9.149409   6.645959  ...    14.661478   5.370567   \n",
      "22  12.808444  13.385847   7.621466   9.325779  ...    18.101468   5.222849   \n",
      "23   7.603588   2.444241   3.088719   8.869633  ...    18.726932   8.104858   \n",
      "24  21.156291  17.731796  11.897691   9.553141  ...    16.404669   7.121253   \n",
      "25  27.552890  20.890172  15.832086  12.948635  ...    18.553229   5.089793   \n",
      "26  14.895692  10.845325   8.060673   6.598152  ...    15.358665   6.035393   \n",
      "27  12.988365  12.104279   7.941314   9.343539  ...    18.886310   6.071826   \n",
      "28   3.039582  -1.334954   3.828348  14.096560  ...    18.324474   6.054648   \n",
      "29  27.245559  21.953481  14.722920  13.324309  ...    16.762318   8.189569   \n",
      "..        ...        ...        ...        ...  ...          ...        ...   \n",
      "55  25.114032  20.182111  16.145118  13.102973  ...    13.941723   4.969105   \n",
      "56  14.084681   7.200374   8.742362  12.625004  ...    19.181543   8.395972   \n",
      "57  21.781934  16.311764  12.982205  11.225094  ...    20.041194   7.074474   \n",
      "58  18.965528  20.448187  11.911346  13.567262  ...    14.654823   5.857987   \n",
      "59  28.005978  23.084045  17.671970  14.533628  ...    16.081085   6.359919   \n",
      "60  19.384091  13.763977  11.976876  11.103295  ...    14.509580   4.048750   \n",
      "61  19.793613  19.418106  14.046642  14.155605  ...    18.800991   8.131844   \n",
      "62  21.973989  19.211916  11.539210  13.782488  ...    17.671881   7.965817   \n",
      "63  24.657936  19.503303  14.271294   9.916028  ...    14.159171   5.377509   \n",
      "64  15.134460  11.424112   6.673069  14.343840  ...    19.043405   5.109489   \n",
      "65  22.839671  18.924191  12.084800  13.985190  ...    18.994281   8.207833   \n",
      "66  15.940644  17.467302  10.396317  12.858589  ...    18.215002   7.913137   \n",
      "67  22.452772  22.190161  15.640485  17.234121  ...    15.875939   7.423356   \n",
      "68  35.107010  25.581672  19.318184   8.035230  ...    22.251408   8.345139   \n",
      "69  44.362599  19.539754  18.460901   8.409512  ...    22.501317   8.220680   \n",
      "70  36.327688  24.843361  21.470590  10.133309  ...    22.519993   8.145860   \n",
      "71  23.462368  15.298141  11.192563  11.408239  ...    16.082899   5.967030   \n",
      "72  19.593024  11.220557   7.853745   8.657065  ...    14.909423   5.979202   \n",
      "73   5.052211   3.744837  -2.177534   2.961172  ...    15.681151   3.734007   \n",
      "74  17.231114  17.198213   9.189830  12.092520  ...    14.501035   5.201510   \n",
      "75  14.118204   0.741615  -1.747907   2.736388  ...    11.698744   3.589637   \n",
      "76  22.853063  14.482410   9.965068  10.008856  ...    16.851968   6.479423   \n",
      "77  18.823893  11.275369   9.036157  10.520666  ...    15.775894   5.282776   \n",
      "78   9.197530   8.402975   3.800978   6.694486  ...    16.434714   4.857900   \n",
      "79  14.408732  16.557626   8.041003  12.041914  ...    15.644642   5.953119   \n",
      "80  21.449552  -1.328465  -1.113953   7.272119  ...    14.891263   3.659992   \n",
      "81  22.559375  14.937538  11.519050  11.077511  ...    17.999758   5.793581   \n",
      "82  18.797605  12.842367  11.143112  10.538563  ...    16.558172   4.897835   \n",
      "83  10.184561  10.526707   3.484058   7.174473  ...    16.818447   6.174751   \n",
      "84  13.835494  16.364638   8.267064  12.683680  ...    17.224042   3.495615   \n",
      "\n",
      "            204         205       206          207          208          209  \\\n",
      "0   2262.841683  287.694662 -1.471124  3078.810332  2276.205202  3078.810332   \n",
      "1   1311.616825  308.304280  0.003879  2411.103855  1327.087406  2411.103855   \n",
      "2   1795.348230  368.452600 -0.462942  2656.814169  1807.300229  2656.814169   \n",
      "3   1558.960220  226.021858 -0.812874  2374.468014  1563.239106  2374.468014   \n",
      "4   1867.036724  291.704258 -0.540670  2627.814171  1850.559438  2627.814171   \n",
      "5   1339.005690  624.084611  0.876507  3380.655480  1066.311365  3380.655480   \n",
      "6   1836.827179  280.081082 -0.731863  2653.950165  1846.456535  2653.950165   \n",
      "7   1137.583707  243.813964 -0.030751  1888.830312  1129.578905  1888.830312   \n",
      "8   1553.299608  202.503521 -0.732968  2489.972949  1544.819407  2489.972949   \n",
      "9   1592.819196  315.014323 -0.115374  2551.295251  1596.857655  2551.295251   \n",
      "10  1035.525751  202.189311 -0.234541  1648.586953  1033.182721  1648.586953   \n",
      "11  1166.655739  241.025185  0.304581  2423.696878  1156.080919  2423.696878   \n",
      "12  1221.174075  302.982898  0.668827  3344.964486  1210.343449  3344.964486   \n",
      "13  1196.399879  260.165021  0.284397  2177.071292  1206.144546  2177.071292   \n",
      "14  1225.332587  310.474844  0.295878  2277.728557  1204.195989  2277.728557   \n",
      "15  1163.619300  259.337588  0.483841  2092.334712  1142.655903  2092.334712   \n",
      "16  1227.161417  301.922845  0.272554  2156.259973  1204.655654  2156.259973   \n",
      "17  1397.561192  357.883445  0.556421  2542.182573  1342.149524  2542.182573   \n",
      "18  1308.567813  264.049422  0.143263  2222.229194  1284.300900  2222.229194   \n",
      "19  1033.686060  184.958952  0.063644  1671.103185  1025.418601  1671.103185   \n",
      "20  1727.793693  255.873205 -0.632420  2417.620797  1728.788561  2417.620797   \n",
      "21  1258.674259  225.177010 -0.248206  1999.982288  1260.005785  1999.982288   \n",
      "22  1596.409299  226.446437 -0.531448  2361.448879  1582.362108  2361.448879   \n",
      "23  1068.278138  219.967709  0.448756  2087.699397  1032.080950  2087.699397   \n",
      "24  1146.365383  229.222516  0.553089  2387.044803  1104.312442  2387.044803   \n",
      "25   898.220769  212.318071  1.205348  2453.589434   867.910279  2453.589434   \n",
      "26  1099.380528  251.609334  0.028649  1847.414188  1112.716408  1847.414188   \n",
      "27  1363.262716  272.440090  0.292617  2413.853990  1333.964495  2413.853990   \n",
      "28   870.612636  182.673888  0.705167  1681.323892   835.780142  1681.323892   \n",
      "29  1260.564975  272.211596  0.434591  2378.488932  1224.178866  2378.488932   \n",
      "..          ...         ...       ...          ...          ...          ...   \n",
      "55  1192.519509  257.561242  0.320276  2186.415764  1173.127818  2186.415764   \n",
      "56  1124.459399  339.591267  1.925361  3308.864322  1044.561248  3308.864322   \n",
      "57   967.713066  256.529883  0.577774  2413.726293   931.805033  2413.726293   \n",
      "58  1839.822647  286.589757 -0.816037  2522.696529  1862.861719  2522.696529   \n",
      "59  1182.434542  232.495012  0.382309  2334.793167  1158.266130  2334.793167   \n",
      "60  1190.964292  315.942768  0.421105  2427.794267  1156.787415  2427.794267   \n",
      "61  1539.034728  226.672542 -0.477726  2137.757105  1528.617551  2137.757105   \n",
      "62  1654.774261  412.446553 -0.277840  2744.298344  1707.271037  2744.298344   \n",
      "63  1099.578254  256.816868  0.667903  2304.118386  1061.246884  2304.118386   \n",
      "64  2033.174643  531.837053 -0.680833  3013.778362  2140.953574  3013.778362   \n",
      "65  1721.886627  364.530286 -0.065951  3196.788556  1726.760290  3196.788556   \n",
      "66  1705.758174  241.231129 -0.469004  2519.216979  1695.342941  2519.216979   \n",
      "67  1728.502327  306.093957 -0.362388  2623.674166  1722.709939  2623.674166   \n",
      "68  1025.588691  251.684135  1.037459  2140.749425   979.568496  2140.749425   \n",
      "69  1692.640487  384.409599  0.571001  3088.039134  1651.580424  3088.039134   \n",
      "70  1452.257405  388.984565  0.498445  3072.381052  1442.497317  3072.381052   \n",
      "71  1265.410035  291.676008  0.129243  2162.972604  1252.577834  2162.972604   \n",
      "72  1040.505552  229.586585  0.652961  1967.247526  1018.534644  1967.247526   \n",
      "73  1391.414659  255.614283  0.122504  2193.039641  1356.087134  2193.039641   \n",
      "74  1779.226115  274.133353 -0.418583  2610.892445  1770.096637  2610.892445   \n",
      "75  1117.760494  304.596161  0.936307  2153.704605  1048.266173  2153.704605   \n",
      "76  1337.095374  317.040690  0.319440  2469.156876  1317.123210  2469.156876   \n",
      "77  1124.518355  245.498170  0.577030  2125.186733  1098.248115  2125.186733   \n",
      "78  1503.203801  254.545277  0.049598  2505.116802  1476.409242  2505.116802   \n",
      "79  1904.002731  263.838535 -0.687629  2770.907388  1896.553268  2770.907388   \n",
      "80  1536.915555  653.155167  0.539434  3046.118432  1202.604232  3046.118432   \n",
      "81  1449.421132  352.842478  0.063250  2394.794638  1441.571441  2394.794638   \n",
      "82  1267.721175  315.292517  0.090616  2272.536223  1264.923414  2272.536223   \n",
      "83  1637.285357  260.809863 -0.417744  2329.913554  1630.830552  2329.913554   \n",
      "84  2066.701663  269.910102 -0.881327  2904.611129  2059.648050  2904.611129   \n",
      "\n",
      "                         fname  label  \n",
      "0   200_2p4_Al_mc_AKGC417L.wav    0.0  \n",
      "1   200_2p4_Ar_mc_AKGC417L.wav    0.0  \n",
      "2   200_2p4_Lr_mc_AKGC417L.wav    0.0  \n",
      "3   200_2p4_Pl_mc_AKGC417L.wav    0.0  \n",
      "4   200_2p4_Pr_mc_AKGC417L.wav    0.0  \n",
      "5   200_2p4_Tc_mc_AKGC417L.wav    0.0  \n",
      "6   200_3p4_Al_mc_AKGC417L.wav    0.0  \n",
      "7   200_3p4_Ar_mc_AKGC417L.wav    0.0  \n",
      "8   200_3p4_Pl_mc_AKGC417L.wav    0.0  \n",
      "9   200_3p4_Pr_mc_AKGC417L.wav    0.0  \n",
      "10  200_3p4_Tc_mc_AKGC417L.wav    0.0  \n",
      "11  201_1b1_Al_sc_Meditron.wav    0.0  \n",
      "12  201_1b1_Ar_sc_Meditron.wav    0.0  \n",
      "13  201_1b2_Al_sc_Meditron.wav    0.0  \n",
      "14  201_1b2_Ar_sc_Meditron.wav    0.0  \n",
      "15  201_1b3_Al_sc_Meditron.wav    0.0  \n",
      "16  201_1b3_Ar_sc_Meditron.wav    0.0  \n",
      "17  202_1b1_Ar_sc_Meditron.wav    0.0  \n",
      "18  203_1p2_Al_mc_AKGC417L.wav    0.0  \n",
      "19  203_1p2_Ar_mc_AKGC417L.wav    0.0  \n",
      "20  203_1p2_Lr_mc_AKGC417L.wav    0.0  \n",
      "21  203_1p2_Pl_mc_AKGC417L.wav    0.0  \n",
      "22  203_1p2_Pr_mc_AKGC417L.wav    0.0  \n",
      "23  203_1p2_Tc_mc_AKGC417L.wav    0.0  \n",
      "24  203_1p3_Al_mc_AKGC417L.wav    0.0  \n",
      "25  203_1p3_Ar_mc_AKGC417L.wav    0.0  \n",
      "26  203_1p3_Pl_mc_AKGC417L.wav    0.0  \n",
      "27  203_1p3_Pr_mc_AKGC417L.wav    0.0  \n",
      "28  203_1p3_Tc_mc_AKGC417L.wav    0.0  \n",
      "29  203_1p4_Al_mc_AKGC417L.wav    0.0  \n",
      "..                         ...    ...  \n",
      "55  205_2b3_Al_mc_AKGC417L.wav    0.0  \n",
      "56  205_2b3_Ar_mc_AKGC417L.wav    0.0  \n",
      "57  205_2b3_Ll_mc_AKGC417L.wav    0.0  \n",
      "58  205_2b4_Pl_mc_AKGC417L.wav    0.0  \n",
      "59  205_3b4_Al_mc_AKGC417L.wav    0.0  \n",
      "60  205_3b4_Ar_mc_AKGC417L.wav    0.0  \n",
      "61  205_3b4_Pl_mc_AKGC417L.wav    0.0  \n",
      "62  205_3b4_Pr_mc_AKGC417L.wav    0.0  \n",
      "63  205_4b2_Al_mc_AKGC417L.wav    0.0  \n",
      "64  205_4b2_Ar_mc_AKGC417L.wav    0.0  \n",
      "65  205_4b2_Lr_mc_AKGC417L.wav    0.0  \n",
      "66  205_4b2_Pl_mc_AKGC417L.wav    0.0  \n",
      "67  205_4b2_Pr_mc_AKGC417L.wav    0.0  \n",
      "68  206_1b1_Ar_sc_Meditron.wav    0.0  \n",
      "69  206_1b1_Lr_sc_Meditron.wav    0.0  \n",
      "70  206_1b1_Pl_sc_Meditron.wav    0.0  \n",
      "71  207_2b2_Al_mc_AKGC417L.wav    0.0  \n",
      "72  207_2b2_Ar_mc_AKGC417L.wav    0.0  \n",
      "73  207_2b2_Pl_mc_AKGC417L.wav    0.0  \n",
      "74  207_2b2_Pr_mc_AKGC417L.wav    0.0  \n",
      "75  207_2b2_Tc_mc_AKGC417L.wav    0.0  \n",
      "76  207_2b3_Al_mc_AKGC417L.wav    0.0  \n",
      "77  207_2b3_Ar_mc_AKGC417L.wav    0.0  \n",
      "78  207_2b3_Pl_mc_AKGC417L.wav    0.0  \n",
      "79  207_2b3_Pr_mc_AKGC417L.wav    0.0  \n",
      "80  207_2b3_Tc_mc_AKGC417L.wav    0.0  \n",
      "81  207_2b4_Al_mc_AKGC417L.wav    0.0  \n",
      "82  207_2b4_Ar_mc_AKGC417L.wav    0.0  \n",
      "83  207_2b4_Pl_mc_AKGC417L.wav    0.0  \n",
      "84  207_2b4_Pr_mc_AKGC417L.wav    0.0  \n",
      "\n"
     ]
    },
    {
     "name": "stdout",
     "output_type": "stream",
     "text": [
      "[85 rows x 212 columns]\n"
     ]
    }
   ],
   "source": [
    "#print(train_data)\n",
    "print(test_data)"
   ]
  },
  {
   "cell_type": "code",
   "execution_count": 10,
   "metadata": {},
   "outputs": [],
   "source": [
    "X = train_data.drop(['label', 'fname'], axis=1)\n",
    "feature_names = list(X.columns)\n",
    "X = X.values\n",
    "labels = np.sort(np.unique(train_data.label.values))\n",
    "num_class = len(labels)\n",
    "c2i = {}\n",
    "i2c = {}\n",
    "for i, c in enumerate(labels):\n",
    "    c2i[c] = i\n",
    "    i2c[i] = c\n",
    "y = np.array([c2i[x] for x in train_data.label.values])\n",
    "\n",
    "#print(X)\n",
    "#print(len(X)) - 99\n",
    "#y는 train 데이터들이 라벨링한 것\n",
    "#print(y)\n",
    "#print(len(y)) - 99"
   ]
  },
  {
   "cell_type": "code",
   "execution_count": 11,
   "metadata": {},
   "outputs": [],
   "source": [
    "X_test = test_data.drop(['label', 'fname'], axis=1)\n",
    "X_test = X_test.values\n",
    "\n",
    "#print(X_test)\n",
    "#print(len(X_test)) - 8"
   ]
  },
  {
   "cell_type": "code",
   "execution_count": 12,
   "metadata": {},
   "outputs": [
    {
     "name": "stdout",
     "output_type": "stream",
     "text": [
      "(200, 210)\n",
      "(85, 210)\n"
     ]
    }
   ],
   "source": [
    "print(X.shape)\n",
    "print(X_test.shape)\n",
    "#test의 라벨링은 어디서?"
   ]
  },
  {
   "cell_type": "code",
   "execution_count": 13,
   "metadata": {},
   "outputs": [],
   "source": [
    "scaler = StandardScaler()\n",
    "X_scaled = scaler.fit_transform(X)\n",
    "X_test_scaled = scaler.transform(X_test)\n",
    "#이놈이 뭘까"
   ]
  },
  {
   "cell_type": "code",
   "execution_count": 14,
   "metadata": {},
   "outputs": [
    {
     "name": "stdout",
     "output_type": "stream",
     "text": [
      "0.9731412357588883\n"
     ]
    }
   ],
   "source": [
    "#pca = PCA(n_components=65).fit(X_scaled)\n",
    "#65땜에 오류뜸\n",
    "pca = PCA(n_components=65).fit(X_scaled)\n",
    "#이 값 고쳐야\n",
    "X_pca = pca.transform(X_scaled)\n",
    "X_test_pca = pca.transform(X_test_scaled)\n",
    "\n",
    "print(sum(pca.explained_variance_ratio_)) "
   ]
  },
  {
   "cell_type": "code",
   "execution_count": 15,
   "metadata": {},
   "outputs": [
    {
     "name": "stdout",
     "output_type": "stream",
     "text": [
      "[[ 5.03427956 -1.67178717  2.46963597 ...  0.49045378 -0.10002716\n",
      "  -0.20487009]\n",
      " [-5.68553688  0.09416955 -0.66719897 ...  0.2749777  -0.03331162\n",
      "   0.26867553]\n",
      " [-2.51404104 -1.92437275  0.31836509 ... -0.84142521 -0.37348569\n",
      "  -0.24298093]\n",
      " ...\n",
      " [-5.44508786  2.47146834 -1.45705127 ... -0.23652893  1.1099519\n",
      "  -0.01441814]\n",
      " [-0.91560948 -5.12942656 -1.16286906 ... -0.14421374  0.37183249\n",
      "  -0.37039286]\n",
      " [ 9.13481316  5.00182607 -4.04275958 ...  0.4270056   0.32450414\n",
      "  -0.84013257]]\n",
      "[0 0 0 0 0 0 0 0 0 0 0 0 0 0 0 0 0 0 0 0 1 0 0 0 0 0 0 0 1 0 0 0 0 0 0 0 0\n",
      " 0 0 0]\n"
     ]
    },
    {
     "name": "stderr",
     "output_type": "stream",
     "text": [
      "C:\\ProgramData\\Anaconda3\\lib\\site-packages\\sklearn\\svm\\base.py:196: FutureWarning: The default value of gamma will change from 'auto' to 'scale' in version 0.22 to account better for unscaled features. Set gamma explicitly to 'auto' or 'scale' to avoid this warning.\n",
      "  \"avoid this warning.\", FutureWarning)\n"
     ]
    },
    {
     "name": "stdout",
     "output_type": "stream",
     "text": [
      "0.95\n"
     ]
    }
   ],
   "source": [
    "# Fit an SVM model\n",
    "X_train, X_val, y_train, y_val = train_test_split(X_pca, y, test_size = 0.2, random_state = 42, shuffle = True)\n",
    "#test_size와 random_state 확인\n",
    "\n",
    "#train 관련\n",
    "#print(X_train)\n",
    "#print(y_train) - train 라벨링\n",
    "\n",
    "#train 내에서 쪼개는 것으로 추측됨 test 0.2가 100개중 20개로 맞네\n",
    "#test를 따로 만드는게 아니라 train 내에서 일부를 test에 사용하여 정확도 측정\n",
    "print(X_val)\n",
    "print(y_val)\n",
    "#print(len(X_val)) - 20\n",
    "#print(len(y_val)) - 20\n",
    "\n",
    "clf = SVC(kernel = 'rbf', probability=True)\n",
    "\n",
    "clf.fit(X_train, y_train)\n",
    "\n",
    "print(accuracy_score(clf.predict(X_val), y_val))"
   ]
  },
  {
   "cell_type": "code",
   "execution_count": 16,
   "metadata": {},
   "outputs": [
    {
     "name": "stdout",
     "output_type": "stream",
     "text": [
      "0.99375\n",
      "{'C': 10, 'gamma': 0.001}\n",
      "SVC(C=10, cache_size=200, class_weight=None, coef0=0.0,\n",
      "  decision_function_shape='ovr', degree=3, gamma=0.001, kernel='rbf',\n",
      "  max_iter=-1, probability=False, random_state=None, shrinking=True,\n",
      "  tol=0.001, verbose=False)\n"
     ]
    }
   ],
   "source": [
    "C_grid = [0.001, 0.01, 0.1, 1, 10]\n",
    "gamma_grid = [0.001, 0.01, 0.1, 1, 10]\n",
    "param_grid = {'C': C_grid, 'gamma' : gamma_grid}\n",
    "\n",
    "#grid = GridSearchCV(SVC(kernel='rbf'), param_grid, cv = 3, scoring = \"accuracy\")\n",
    "#이부분 수정해야\n",
    "#데이터 갯수 확 느니까 바로먹음\n",
    "grid = GridSearchCV(SVC(kernel='rbf'), param_grid, cv = 3, scoring = \"accuracy\")\n",
    "grid.fit(X_train, y_train)\n",
    "\n",
    "# Find the best model\n",
    "print(grid.best_score_)\n",
    "\n",
    "print(grid.best_params_)\n",
    "\n",
    "print(grid.best_estimator_)"
   ]
  },
  {
   "cell_type": "code",
   "execution_count": 30,
   "metadata": {},
   "outputs": [
    {
     "name": "stdout",
     "output_type": "stream",
     "text": [
      "0.95\n"
     ]
    }
   ],
   "source": [
    "clf = SVC(kernel = 'rbf', C = 10, gamma = 0.001, probability=True)\n",
    "\n",
    "clf.fit(X_train, y_train)\n",
    "\n",
    "print(accuracy_score(clf.predict(X_val), y_val))"
   ]
  },
  {
   "cell_type": "code",
   "execution_count": null,
   "metadata": {},
   "outputs": [],
   "source": []
  },
  {
   "cell_type": "code",
   "execution_count": null,
   "metadata": {},
   "outputs": [],
   "source": []
  },
  {
   "cell_type": "code",
   "execution_count": null,
   "metadata": {},
   "outputs": [],
   "source": []
  },
  {
   "cell_type": "code",
   "execution_count": null,
   "metadata": {},
   "outputs": [],
   "source": []
  }
 ],
 "metadata": {
  "kernelspec": {
   "display_name": "Python 3",
   "language": "python",
   "name": "python3"
  },
  "language_info": {
   "codemirror_mode": {
    "name": "ipython",
    "version": 3
   },
   "file_extension": ".py",
   "mimetype": "text/x-python",
   "name": "python",
   "nbconvert_exporter": "python",
   "pygments_lexer": "ipython3",
   "version": "3.7.1"
  }
 },
 "nbformat": 4,
 "nbformat_minor": 2
}
