{
 "cells": [
  {
   "cell_type": "code",
   "execution_count": 1,
   "metadata": {},
   "outputs": [],
   "source": [
    "import librosa\n",
    "import librosa.display\n",
    "import IPython.display\n",
    "import numpy as np\n",
    "import matplotlib.pyplot as plt\n",
    "import matplotlib as mpl\n",
    "import matplotlib.font_manager as fm\n",
    "import pandas as pd\n",
    "import csv\n"
   ]
  },
  {
   "cell_type": "code",
   "execution_count": 2,
   "metadata": {},
   "outputs": [
    {
     "ename": "FileNotFoundError",
     "evalue": "[Errno 2] No such file or directory: 'C:\\\\Users\\\\DONG\\\\Desktop\\\\A.I.project\\\\Project\\\\02. Preprocessing\\\\[모둘화] test,train 이미지 생성 분류 및 csv 파일 제작\\\\data\\\\wav\\\\101_1b1_Al_sc_Meditron.wav'",
     "output_type": "error",
     "traceback": [
      "\u001b[1;31m---------------------------------------------------------------------------\u001b[0m",
      "\u001b[1;31mFileNotFoundError\u001b[0m                         Traceback (most recent call last)",
      "\u001b[1;32m<ipython-input-2-d85f8a143fd9>\u001b[0m in \u001b[0;36m<module>\u001b[1;34m\u001b[0m\n\u001b[0;32m     16\u001b[0m     \u001b[0maudio_path\u001b[0m \u001b[1;33m=\u001b[0m \u001b[1;34m'data/wav/'\u001b[0m\u001b[1;33m+\u001b[0m\u001b[0mfilename\u001b[0m\u001b[1;33m[\u001b[0m\u001b[0mstep\u001b[0m\u001b[1;33m]\u001b[0m\u001b[1;33m\u001b[0m\u001b[1;33m\u001b[0m\u001b[0m\n\u001b[0;32m     17\u001b[0m     \u001b[1;31m#print(audio_path[0])\u001b[0m\u001b[1;33m\u001b[0m\u001b[1;33m\u001b[0m\u001b[1;33m\u001b[0m\u001b[0m\n\u001b[1;32m---> 18\u001b[1;33m     \u001b[0my\u001b[0m\u001b[1;33m,\u001b[0m \u001b[0msr\u001b[0m \u001b[1;33m=\u001b[0m \u001b[0mlibrosa\u001b[0m\u001b[1;33m.\u001b[0m\u001b[0mload\u001b[0m\u001b[1;33m(\u001b[0m\u001b[0maudio_path\u001b[0m\u001b[1;33m[\u001b[0m\u001b[1;36m0\u001b[0m\u001b[1;33m]\u001b[0m\u001b[1;33m)\u001b[0m\u001b[1;33m\u001b[0m\u001b[1;33m\u001b[0m\u001b[0m\n\u001b[0m\u001b[0;32m     19\u001b[0m     \u001b[0mD\u001b[0m \u001b[1;33m=\u001b[0m \u001b[0mnp\u001b[0m\u001b[1;33m.\u001b[0m\u001b[0mabs\u001b[0m\u001b[1;33m(\u001b[0m\u001b[0mlibrosa\u001b[0m\u001b[1;33m.\u001b[0m\u001b[0mstft\u001b[0m\u001b[1;33m(\u001b[0m\u001b[0my\u001b[0m\u001b[1;33m)\u001b[0m\u001b[1;33m)\u001b[0m\u001b[1;33m\u001b[0m\u001b[1;33m\u001b[0m\u001b[0m\n\u001b[0;32m     20\u001b[0m     \u001b[0mlibrosa\u001b[0m\u001b[1;33m.\u001b[0m\u001b[0mdisplay\u001b[0m\u001b[1;33m.\u001b[0m\u001b[0mspecshow\u001b[0m\u001b[1;33m(\u001b[0m\u001b[0mlibrosa\u001b[0m\u001b[1;33m.\u001b[0m\u001b[0mamplitude_to_db\u001b[0m\u001b[1;33m(\u001b[0m\u001b[0mD\u001b[0m\u001b[1;33m,\u001b[0m \u001b[0mref\u001b[0m\u001b[1;33m=\u001b[0m\u001b[0mnp\u001b[0m\u001b[1;33m.\u001b[0m\u001b[0mmax\u001b[0m\u001b[1;33m)\u001b[0m\u001b[1;33m)\u001b[0m\u001b[1;33m\u001b[0m\u001b[1;33m\u001b[0m\u001b[0m\n",
      "\u001b[1;32mc:\\users\\dong\\appdata\\local\\programs\\python\\python37\\lib\\site-packages\\librosa\\core\\audio.py\u001b[0m in \u001b[0;36mload\u001b[1;34m(path, sr, mono, offset, duration, dtype, res_type)\u001b[0m\n\u001b[0;32m    117\u001b[0m \u001b[1;33m\u001b[0m\u001b[0m\n\u001b[0;32m    118\u001b[0m     \u001b[0my\u001b[0m \u001b[1;33m=\u001b[0m \u001b[1;33m[\u001b[0m\u001b[1;33m]\u001b[0m\u001b[1;33m\u001b[0m\u001b[1;33m\u001b[0m\u001b[0m\n\u001b[1;32m--> 119\u001b[1;33m     \u001b[1;32mwith\u001b[0m \u001b[0maudioread\u001b[0m\u001b[1;33m.\u001b[0m\u001b[0maudio_open\u001b[0m\u001b[1;33m(\u001b[0m\u001b[0mos\u001b[0m\u001b[1;33m.\u001b[0m\u001b[0mpath\u001b[0m\u001b[1;33m.\u001b[0m\u001b[0mrealpath\u001b[0m\u001b[1;33m(\u001b[0m\u001b[0mpath\u001b[0m\u001b[1;33m)\u001b[0m\u001b[1;33m)\u001b[0m \u001b[1;32mas\u001b[0m \u001b[0minput_file\u001b[0m\u001b[1;33m:\u001b[0m\u001b[1;33m\u001b[0m\u001b[1;33m\u001b[0m\u001b[0m\n\u001b[0m\u001b[0;32m    120\u001b[0m         \u001b[0msr_native\u001b[0m \u001b[1;33m=\u001b[0m \u001b[0minput_file\u001b[0m\u001b[1;33m.\u001b[0m\u001b[0msamplerate\u001b[0m\u001b[1;33m\u001b[0m\u001b[1;33m\u001b[0m\u001b[0m\n\u001b[0;32m    121\u001b[0m         \u001b[0mn_channels\u001b[0m \u001b[1;33m=\u001b[0m \u001b[0minput_file\u001b[0m\u001b[1;33m.\u001b[0m\u001b[0mchannels\u001b[0m\u001b[1;33m\u001b[0m\u001b[1;33m\u001b[0m\u001b[0m\n",
      "\u001b[1;32mc:\\users\\dong\\appdata\\local\\programs\\python\\python37\\lib\\site-packages\\audioread\\__init__.py\u001b[0m in \u001b[0;36maudio_open\u001b[1;34m(path)\u001b[0m\n\u001b[0;32m     78\u001b[0m     \u001b[1;32mfrom\u001b[0m \u001b[1;33m.\u001b[0m \u001b[1;32mimport\u001b[0m \u001b[0mrawread\u001b[0m\u001b[1;33m\u001b[0m\u001b[1;33m\u001b[0m\u001b[0m\n\u001b[0;32m     79\u001b[0m     \u001b[1;32mtry\u001b[0m\u001b[1;33m:\u001b[0m\u001b[1;33m\u001b[0m\u001b[1;33m\u001b[0m\u001b[0m\n\u001b[1;32m---> 80\u001b[1;33m         \u001b[1;32mreturn\u001b[0m \u001b[0mrawread\u001b[0m\u001b[1;33m.\u001b[0m\u001b[0mRawAudioFile\u001b[0m\u001b[1;33m(\u001b[0m\u001b[0mpath\u001b[0m\u001b[1;33m)\u001b[0m\u001b[1;33m\u001b[0m\u001b[1;33m\u001b[0m\u001b[0m\n\u001b[0m\u001b[0;32m     81\u001b[0m     \u001b[1;32mexcept\u001b[0m \u001b[0mDecodeError\u001b[0m\u001b[1;33m:\u001b[0m\u001b[1;33m\u001b[0m\u001b[1;33m\u001b[0m\u001b[0m\n\u001b[0;32m     82\u001b[0m         \u001b[1;32mpass\u001b[0m\u001b[1;33m\u001b[0m\u001b[1;33m\u001b[0m\u001b[0m\n",
      "\u001b[1;32mc:\\users\\dong\\appdata\\local\\programs\\python\\python37\\lib\\site-packages\\audioread\\rawread.py\u001b[0m in \u001b[0;36m__init__\u001b[1;34m(self, filename)\u001b[0m\n\u001b[0;32m     59\u001b[0m     \"\"\"\n\u001b[0;32m     60\u001b[0m     \u001b[1;32mdef\u001b[0m \u001b[0m__init__\u001b[0m\u001b[1;33m(\u001b[0m\u001b[0mself\u001b[0m\u001b[1;33m,\u001b[0m \u001b[0mfilename\u001b[0m\u001b[1;33m)\u001b[0m\u001b[1;33m:\u001b[0m\u001b[1;33m\u001b[0m\u001b[1;33m\u001b[0m\u001b[0m\n\u001b[1;32m---> 61\u001b[1;33m         \u001b[0mself\u001b[0m\u001b[1;33m.\u001b[0m\u001b[0m_fh\u001b[0m \u001b[1;33m=\u001b[0m \u001b[0mopen\u001b[0m\u001b[1;33m(\u001b[0m\u001b[0mfilename\u001b[0m\u001b[1;33m,\u001b[0m \u001b[1;34m'rb'\u001b[0m\u001b[1;33m)\u001b[0m\u001b[1;33m\u001b[0m\u001b[1;33m\u001b[0m\u001b[0m\n\u001b[0m\u001b[0;32m     62\u001b[0m \u001b[1;33m\u001b[0m\u001b[0m\n\u001b[0;32m     63\u001b[0m         \u001b[1;32mtry\u001b[0m\u001b[1;33m:\u001b[0m\u001b[1;33m\u001b[0m\u001b[1;33m\u001b[0m\u001b[0m\n",
      "\u001b[1;31mFileNotFoundError\u001b[0m: [Errno 2] No such file or directory: 'C:\\\\Users\\\\DONG\\\\Desktop\\\\A.I.project\\\\Project\\\\02. Preprocessing\\\\[모둘화] test,train 이미지 생성 분류 및 csv 파일 제작\\\\data\\\\wav\\\\101_1b1_Al_sc_Meditron.wav'"
     ]
    }
   ],
   "source": [
    "filename = np.array(pd.read_csv('data/SC_file_name.csv'))\n",
    "answer = np.array(pd.read_csv('data/SC_answer.csv'))\n",
    "size_ = 2\n",
    "path = './test_train_image/'\n",
    "path_test='./test_train_image/test/'\n",
    "path_train='./test_train_image/train/'\n",
    "\n",
    "\n",
    "#0 넣고 빼고로 잘돌아가는지 검사-ok\n",
    "#step 0 은 101_1b1_Al_sc_Meditron을 기준으로 함\n",
    "test_list=[0,1,2,3]\n",
    "length=len(test_list)\n",
    "\n",
    "\n",
    "for step in range(3):\n",
    "    audio_path = 'data/wav/'+filename[step]\n",
    "    #print(audio_path[0])\n",
    "    y, sr = librosa.load(audio_path[0])\n",
    "    D = np.abs(librosa.stft(y))\n",
    "    librosa.display.specshow(librosa.amplitude_to_db(D, ref=np.max))\n",
    "    print(answer[step])\n",
    "    #plt.title(audio_path[0])\n",
    "    #plt.figure(figsize=(0.78*size_,0.78*size_)) #size 56x56\n",
    "    #plt.show()\n",
    "    \n",
    "    '''split the file name'''\n",
    "    tmp_name=str(audio_path[0])\n",
    "    tmp_name=tmp_name.split(\".\")\n",
    "    tmp_name=tmp_name[0]\n",
    "    tmp_name=tmp_name.split(\"/\")\n",
    "    print(tmp_name[2])\n",
    "    \n",
    "    if step in test_list:\n",
    "        #print(step)\n",
    "        if answer[step]==0:\n",
    "            #test&answer=0\n",
    "            plt.savefig(path_test+'test_0/'+''.join(tmp_name[2])+'.png')\n",
    "        else:\n",
    "            #test&answer=1\n",
    "            plt.savefig(path_test+'test_1/'+''.join(tmp_name[2])+'.png')\n",
    "    else:\n",
    "        if answer[step]==0:\n",
    "            #train&answer=0\n",
    "            plt.savefig(path_train+'train_0/'+''.join(tmp_name[2])+'.png')\n",
    "        else:\n",
    "            #train&answer=1\n",
    "            plt.savefig(path_train+'train_1/'+''.join(tmp_name[2])+'.png')    "
   ]
  },
  {
   "cell_type": "code",
   "execution_count": null,
   "metadata": {},
   "outputs": [],
   "source": [
    "'''[test]file_name.csv create'''\n",
    "with open('[test]file_name.csv','w',newline='') as f:\n",
    "    thewriter = csv.writer(f)\n",
    "    thewriter.writerow(['header'])\n",
    "    \n",
    "    #test_list length\n",
    "    for step in range(length):\n",
    "        tmp_name='data/wav/'+filename[test_list[step]]\n",
    "        tmp_name=str(tmp_name[0])\n",
    "        tmp_name=tmp_name.split(\".\")\n",
    "        tmp_name=tmp_name[0]\n",
    "        tmp_name=tmp_name.split(\"/\")\n",
    "        print(tmp_name[2])\n",
    "        thewriter.writerow([tmp_name[2]])\n",
    "        \n",
    "\n",
    "    '''[test]ans.csv create'''\n",
    "with open('[test]answer.csv','w',newline='') as f:\n",
    "    thewriter = csv.writer(f)\n",
    "    thewriter.writerow(['answer'])\n",
    "    \n",
    "    for step in range(length):\n",
    "        thewriter.writerow(answer[test_list[step]])\n",
    "\n"
   ]
  },
  {
   "cell_type": "code",
   "execution_count": 3,
   "metadata": {},
   "outputs": [
    {
     "name": "stdout",
     "output_type": "stream",
     "text": [
      "104_1b1_Ar_sc_Litt3200\n",
      "104_1b1_Ll_sc_Litt3200\n",
      "104_1b1_Lr_sc_Litt3200\n",
      "104_1b1_Pl_sc_Litt3200\n",
      "104_1b1_Pr_sc_Litt3200\n",
      "105_1b1_Tc_sc_Meditron\n"
     ]
    }
   ],
   "source": [
    "'''[train]file_name.csv create'''\n",
    "with open('[train]file_name.csv','w',newline='') as f:\n",
    "    thewriter = csv.writer(f)\n",
    "    thewriter.writerow(['header'])\n",
    "    \n",
    "    #전체개수로 range해야\n",
    "    for step in range(10):\n",
    "        if step in test_list:\n",
    "            continue\n",
    "        tmp_name='data/wav/'+filename[step]\n",
    "        tmp_name=str(tmp_name[0])\n",
    "        tmp_name=tmp_name.split(\".\")\n",
    "        tmp_name=tmp_name[0]\n",
    "        tmp_name=tmp_name.split(\"/\")\n",
    "        print(tmp_name[2])\n",
    "        thewriter.writerow([tmp_name[2]])\n",
    "        \n",
    "    '''[train]ans.csv create'''\n",
    "with open('[train]answer.csv','w',newline='') as f:\n",
    "    thewriter = csv.writer(f)\n",
    "    thewriter.writerow(['answer'])\n",
    "    \n",
    "    #전체개수로 range해야\n",
    "    for step in range(10):\n",
    "        if step in test_list:\n",
    "            continue\n",
    "        thewriter.writerow(answer[step])\n"
   ]
  },
  {
   "cell_type": "code",
   "execution_count": null,
   "metadata": {},
   "outputs": [],
   "source": []
  },
  {
   "cell_type": "code",
   "execution_count": null,
   "metadata": {},
   "outputs": [],
   "source": []
  },
  {
   "cell_type": "code",
   "execution_count": null,
   "metadata": {},
   "outputs": [],
   "source": []
  }
 ],
 "metadata": {
  "kernelspec": {
   "display_name": "Python 3",
   "language": "python",
   "name": "python3"
  },
  "language_info": {
   "codemirror_mode": {
    "name": "ipython",
    "version": 3
   },
   "file_extension": ".py",
   "mimetype": "text/x-python",
   "name": "python",
   "nbconvert_exporter": "python",
   "pygments_lexer": "ipython3",
   "version": "3.7.3"
  }
 },
 "nbformat": 4,
 "nbformat_minor": 2
}
